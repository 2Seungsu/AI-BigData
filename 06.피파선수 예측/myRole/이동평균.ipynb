{
 "cells": [
  {
   "cell_type": "code",
   "execution_count": 20,
   "id": "2f2cfb5b-e168-42f3-9bfe-6c51bba0690d",
   "metadata": {},
   "outputs": [],
   "source": [
    "import numpy as np\n",
    "import pandas as pd"
   ]
  },
  {
   "cell_type": "code",
   "execution_count": 240,
   "id": "05c24902-df4f-4cc5-9a8c-cb87d97f16c0",
   "metadata": {},
   "outputs": [
    {
     "name": "stderr",
     "output_type": "stream",
     "text": [
      "C:\\Users\\LG\\AppData\\Local\\Temp\\ipykernel_1456\\3127925025.py:1: DtypeWarning: Columns (81,82,83,84,85) have mixed types. Specify dtype option on import or set low_memory=False.\n",
      "  df18 = pd.read_csv('players_18.csv')\n",
      "C:\\Users\\LG\\AppData\\Local\\Temp\\ipykernel_1456\\3127925025.py:5: DtypeWarning: Columns (25,108) have mixed types. Specify dtype option on import or set low_memory=False.\n",
      "  df22 = pd.read_csv('players_22.csv')\n"
     ]
    }
   ],
   "source": [
    "df18 = pd.read_csv('players_18.csv')\n",
    "df19 = pd.read_csv('players_19.csv')\n",
    "df20 = pd.read_csv('players_20.csv')\n",
    "df21 = pd.read_csv('players_21.csv')\n",
    "df22 = pd.read_csv('players_22.csv')\n",
    "df23 = pd.read_csv('players_23.csv')"
   ]
  },
  {
   "cell_type": "code",
   "execution_count": 241,
   "id": "ddfd508d-b4c5-4f00-b8f8-3bce6298cbb3",
   "metadata": {},
   "outputs": [],
   "source": [
    "mask18_minus = set(df23.sofifa_id) - set(df18.sofifa_id)\n",
    "mask18_same = set(df23.sofifa_id) & set(df18.sofifa_id)\n",
    "new_df18 = pd.concat([df18[df18.sofifa_id.isin(mask18_same)],df23[df23.sofifa_id.isin(mask18_minus)]],axis=0)\n",
    "new_df18.wage_eur = new_df18.wage_eur.fillna(min(new_df18.wage_eur))\n",
    "new_df18.value_eur = new_df18.value_eur.fillna(min(new_df18.value_eur))\n",
    "new_df18.set_index('sofifa_id',inplace=True)"
   ]
  },
  {
   "cell_type": "code",
   "execution_count": 242,
   "id": "92353938-e8a4-4f12-b762-0971c285636f",
   "metadata": {},
   "outputs": [],
   "source": [
    "mask19_minus = set(df23.sofifa_id) - set(df19.sofifa_id)\n",
    "mask19_same = set(df23.sofifa_id) & set(df19.sofifa_id)\n",
    "new_df19 = pd.concat([df19[df19.sofifa_id.isin(mask19_same)],df23[df23.sofifa_id.isin(mask19_minus)]],axis=0)\n",
    "new_df19.wage_eur = new_df19.wage_eur.fillna(min(new_df19.wage_eur))\n",
    "new_df19.value_eur = new_df19.value_eur.fillna(min(new_df19.value_eur))\n",
    "new_df19.set_index('sofifa_id',inplace=True)"
   ]
  },
  {
   "cell_type": "code",
   "execution_count": 243,
   "id": "7c224896-fb47-483f-b0b0-ea2fecdd90b8",
   "metadata": {},
   "outputs": [],
   "source": [
    "mask20_minus = set(df23.sofifa_id) - set(df20.sofifa_id)\n",
    "mask20_same = set(df23.sofifa_id) & set(df20.sofifa_id)\n",
    "new_df20 = pd.concat([df20[df20.sofifa_id.isin(mask20_same)],df23[df23.sofifa_id.isin(mask20_minus)]],axis=0)\n",
    "new_df20.wage_eur = new_df20.wage_eur.fillna(min(new_df20.wage_eur))\n",
    "new_df20.value_eur = new_df20.value_eur.fillna(min(new_df20.value_eur))\n",
    "\n",
    "new_df20.set_index('sofifa_id',inplace=True)"
   ]
  },
  {
   "cell_type": "code",
   "execution_count": 244,
   "id": "5ae86571-241c-4df7-a786-70c6cc6e984d",
   "metadata": {},
   "outputs": [],
   "source": [
    "mask21_minus = set(df23.sofifa_id) - set(df21.sofifa_id)\n",
    "mask21_same = set(df23.sofifa_id) & set(df21.sofifa_id)\n",
    "new_df21 = pd.concat([df21[df21.sofifa_id.isin(mask21_same)],df23[df23.sofifa_id.isin(mask21_minus)]],axis=0)\n",
    "new_df21.wage_eur = new_df21.wage_eur.fillna(min(new_df21.wage_eur))\n",
    "new_df21.value_eur = new_df21.value_eur.fillna(min(new_df21.value_eur))\n",
    "\n",
    "new_df21.set_index('sofifa_id',inplace=True)"
   ]
  },
  {
   "cell_type": "code",
   "execution_count": 245,
   "id": "b2b1eacf-ecc3-4bf3-91f8-8b482721576d",
   "metadata": {},
   "outputs": [],
   "source": [
    "mask22_minus = set(df23.sofifa_id) - set(df22.sofifa_id)\n",
    "mask22_same = set(df23.sofifa_id) & set(df22.sofifa_id)\n",
    "new_df22 = pd.concat([df22[df22.sofifa_id.isin(mask22_same)],df23[df23.sofifa_id.isin(mask22_minus)]],axis=0)\n",
    "new_df22.wage_eur = new_df22.wage_eur.fillna(min(new_df22.wage_eur))\n",
    "new_df22.value_eur = new_df22.value_eur.fillna(min(new_df22.value_eur))\n",
    "\n",
    "new_df22.set_index('sofifa_id',inplace=True)"
   ]
  },
  {
   "cell_type": "code",
   "execution_count": 246,
   "id": "0a3feac8-5840-4fa4-963d-2e79ff50fb56",
   "metadata": {},
   "outputs": [],
   "source": [
    "df23.drop('wage_eru', axis=1,inplace = True)\n",
    "df23.drop('value_eur', axis=1,inplace = True)\n",
    "df23 = df23.rename(columns={'0':'wage_eur'})\n",
    "df23 = df23.rename(columns={'value_bg':'value_eur'})\n",
    "new_df23 = df23  \t\n",
    "new_df23.set_index('sofifa_id',inplace=True)"
   ]
  },
  {
   "cell_type": "code",
   "execution_count": 247,
   "id": "57c7c5cd-9934-47d9-80d2-84ddc17d5285",
   "metadata": {},
   "outputs": [],
   "source": [
    "new_df18.to_csv('soccer18.csv')\n",
    "new_df19.to_csv('soccer19.csv')\n",
    "new_df20.to_csv('soccer20.csv')\n",
    "new_df21.to_csv('soccer21.csv')\n",
    "new_df22.to_csv('soccer22.csv')\n",
    "new_df23.to_csv('soccer23.csv')"
   ]
  },
  {
   "cell_type": "markdown",
   "id": "9e7de881-29a8-4317-b7b5-779ec37bf01c",
   "metadata": {},
   "source": [
    "### 24년 가중이동평균"
   ]
  },
  {
   "cell_type": "code",
   "execution_count": 248,
   "id": "74fc450c-212b-4033-ac3a-0454bbde7160",
   "metadata": {},
   "outputs": [],
   "source": [
    "# 가중치\n",
    "weight = [0.5,0.5 , 1,1, 2 ,1.5]\n",
    "\n",
    "# 가중 이동평균 계산\n",
    "for i in range(len(weight)) :\n",
    "    result_potential24 = [eval('new_df' + str(18+i) + '.potential') * weight[i] for i in range(len(weight))]\n",
    "    result_overall24 = [eval('new_df' + str(18+i) + '.overall') * weight[i] for i in range(len(weight))]\n",
    "    result_value24 = [eval('new_df' + str(18+i) + '.value_eur') * weight[i] for i in range(len(weight))]\n",
    "    result_wage24 = [eval('new_df' + str(18+i) + '.wage_eur') * weight[i] for i in range(len(weight))]\n",
    "\n"
   ]
  },
  {
   "cell_type": "code",
   "execution_count": 249,
   "id": "c4f2d270-a14a-4dac-9261-10ca0bc95292",
   "metadata": {},
   "outputs": [],
   "source": [
    "potential_24sum = 0\n",
    "overall_24sum = 0\n",
    "wage_24sum = 0\n",
    "value_24sum = 0\n",
    "\n",
    "for j in result_potential24:\n",
    "    potential_24sum += j\n",
    "for j in result_overall24:\n",
    "    overall_24sum += j\n",
    "for j in result_wage24:\n",
    "    wage_24sum += j\n",
    "for j in result_value24:\n",
    "    value_24sum += j\n"
   ]
  },
  {
   "cell_type": "code",
   "execution_count": 250,
   "id": "41c015a9-e802-490b-b8b2-5230610fd54c",
   "metadata": {},
   "outputs": [],
   "source": [
    "potential_24 = potential_24sum / sum(weight)\n",
    "overall_24 = overall_24sum / sum(weight)\n",
    "wage_24 = wage_24sum / sum(weight)\n",
    "value_24 = value_24sum / sum(weight)"
   ]
  },
  {
   "cell_type": "code",
   "execution_count": 251,
   "id": "7bf010e2-8b47-41d3-b643-1c7026186625",
   "metadata": {},
   "outputs": [],
   "source": [
    "new_df24=new_df23.copy()"
   ]
  },
  {
   "cell_type": "code",
   "execution_count": 252,
   "id": "ae63a3e3-b425-4914-81d4-024f5857aee9",
   "metadata": {},
   "outputs": [],
   "source": [
    "new_df24.overall = overall_24\n",
    "new_df24.value_eur = value_24\n",
    "new_df24.wage_eur = wage_24 + np.round(np.random.randn(len(wage_24)) * 50)\n",
    "new_df24.potential = potential_24"
   ]
  },
  {
   "cell_type": "markdown",
   "id": "b64aabe9-706d-4890-a48e-5ec7ed9c4b16",
   "metadata": {},
   "source": [
    "### 예측"
   ]
  },
  {
   "cell_type": "code",
   "execution_count": 253,
   "id": "24a0ebeb-141f-4c26-8239-adc10a400d57",
   "metadata": {},
   "outputs": [],
   "source": [
    "#24년 예측\n",
    "new_df24 = new_df24.iloc[:,2:] "
   ]
  },
  {
   "cell_type": "code",
   "execution_count": 254,
   "id": "c7cb56b1-2802-4088-9e4b-43651287293e",
   "metadata": {},
   "outputs": [],
   "source": [
    "new_df24.age = new_df24.age.apply(lambda x: x+1)"
   ]
  },
  {
   "cell_type": "code",
   "execution_count": 271,
   "id": "4f26d31d-a1e1-4377-9475-322906336d1e",
   "metadata": {},
   "outputs": [],
   "source": [
    "new_df24.to_csv('players_24.csv')"
   ]
  },
  {
   "cell_type": "markdown",
   "id": "f27ee6db-c202-4984-bb8f-022e9e7affe5",
   "metadata": {},
   "source": [
    "### 25년 가중이동평균"
   ]
  },
  {
   "cell_type": "code",
   "execution_count": 256,
   "id": "c598a8f3-f2e1-4442-b9ac-f55caf9fbd43",
   "metadata": {},
   "outputs": [],
   "source": [
    "# 가중치\n",
    "weight = [0.5,0.5 , 1,1, 2 ,1.5]\n",
    "\n",
    "# 가중 이동평균 계산\n",
    "for i in range(len(weight)) :\n",
    "    result_potential25 = [eval('new_df' + str(19+i) + '.potential') * weight[i] for i in range(len(weight))]\n",
    "    result_overall25 = [eval('new_df' + str(19+i) + '.overall') * weight[i] for i in range(len(weight))]\n",
    "    result_value25 = [eval('new_df' + str(19+i) + '.value_eur') * weight[i] for i in range(len(weight))]\n",
    "    result_wage25 = [eval('new_df' + str(19+i) + '.wage_eur') * weight[i] for i in range(len(weight))]\n",
    "\n"
   ]
  },
  {
   "cell_type": "code",
   "execution_count": 257,
   "id": "85d8c1a6-7db2-4d9f-88d4-3221171a5cda",
   "metadata": {},
   "outputs": [],
   "source": [
    "potential_25sum = 0\n",
    "overall_25sum = 0\n",
    "wage_25sum = 0\n",
    "value_25sum = 0\n",
    "\n",
    "for j in result_potential25:\n",
    "    potential_25sum += j\n",
    "for j in result_overall25:\n",
    "    overall_25sum += j\n",
    "for j in result_wage25:\n",
    "    wage_25sum += j\n",
    "for j in result_value25:\n",
    "    value_25sum += j\n"
   ]
  },
  {
   "cell_type": "code",
   "execution_count": 258,
   "id": "068404af-f042-4657-b108-7b6db493109e",
   "metadata": {},
   "outputs": [],
   "source": [
    "potential_25 = potential_25sum / sum(weight)\n",
    "overall_25 = overall_25sum / sum(weight)\n",
    "wage_25 = wage_25sum / sum(weight)\n",
    "value_25 = value_25sum / sum(weight)"
   ]
  },
  {
   "cell_type": "code",
   "execution_count": 259,
   "id": "f43497a7-c82d-48ea-a41b-65ab78c5bfd6",
   "metadata": {},
   "outputs": [],
   "source": [
    "new_df25 = new_df24.copy()"
   ]
  },
  {
   "cell_type": "code",
   "execution_count": 260,
   "id": "afec7f76-0958-414f-b1f0-2e89840255a5",
   "metadata": {},
   "outputs": [],
   "source": [
    "new_df25.age = new_df24.age.apply(lambda x: x+1)"
   ]
  },
  {
   "cell_type": "code",
   "execution_count": 261,
   "id": "a171fbdf-2d82-482a-a666-04c42834f682",
   "metadata": {},
   "outputs": [],
   "source": [
    "new_df25.to_csv('soccer25.csv')"
   ]
  },
  {
   "cell_type": "code",
   "execution_count": null,
   "id": "ac67c148-faee-4043-9198-2780eebd6a6c",
   "metadata": {},
   "outputs": [],
   "source": []
  }
 ],
 "metadata": {
  "kernelspec": {
   "display_name": "Python 3 (ipykernel)",
   "language": "python",
   "name": "python3"
  },
  "language_info": {
   "codemirror_mode": {
    "name": "ipython",
    "version": 3
   },
   "file_extension": ".py",
   "mimetype": "text/x-python",
   "name": "python",
   "nbconvert_exporter": "python",
   "pygments_lexer": "ipython3",
   "version": "3.9.12"
  }
 },
 "nbformat": 4,
 "nbformat_minor": 5
}

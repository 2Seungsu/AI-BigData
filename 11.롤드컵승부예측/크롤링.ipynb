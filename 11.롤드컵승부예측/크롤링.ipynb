{
 "cells": [
  {
   "cell_type": "markdown",
   "id": "cc6f269e-96ea-4069-9faf-2a292eaa11b4",
   "metadata": {},
   "source": [
    "### 챔피언 승리,패배 크롤링"
   ]
  },
  {
   "cell_type": "code",
   "execution_count": 1,
   "id": "3b852677-9d7d-45aa-ba6c-db835ec218f8",
   "metadata": {},
   "outputs": [],
   "source": [
    "import time\n",
    "from tqdm import tqdm\n",
    "import numpy as np\n",
    "import pandas as pd"
   ]
  },
  {
   "cell_type": "code",
   "execution_count": 2,
   "id": "d34428eb-7ae9-4ee8-a677-40d982c44730",
   "metadata": {},
   "outputs": [],
   "source": [
    "from selenium import webdriver\n",
    "from selenium.webdriver.chrome.service import Service\n",
    "from selenium.webdriver.common.keys import Keys\n",
    "from selenium.webdriver.common.by import By\n",
    "\n",
    "service = Service(executable_path=\"../../Text_mining/chromedriver.exe\")\n",
    "options = webdriver.ChromeOptions()"
   ]
  },
  {
   "cell_type": "markdown",
   "id": "c47cd704-ef05-400d-8ac4-9af80b7e191e",
   "metadata": {},
   "source": [
    "### 픽밴 분석"
   ]
  },
  {
   "cell_type": "code",
   "execution_count": 3,
   "id": "dd3f96e9-9dc6-4fb8-85eb-074223746f63",
   "metadata": {},
   "outputs": [],
   "source": [
    "import warnings\n",
    "warnings.filterwarnings('ignore')"
   ]
  },
  {
   "cell_type": "code",
   "execution_count": 4,
   "id": "708090d8-4a02-44b7-acc5-e5d31c415a9f",
   "metadata": {},
   "outputs": [],
   "source": [
    "import requests\n",
    "from bs4 import BeautifulSoup"
   ]
  },
  {
   "cell_type": "code",
   "execution_count": 5,
   "id": "bc2a58c1-f599-49fb-bef2-5d74faba4788",
   "metadata": {},
   "outputs": [],
   "source": [
    "request_headers = { \n",
    "'User-Agent' : ('Mozilla/5.0 (Windows NT 10.0;Win64; x64)\\\n",
    "AppleWebKit/537.36 (KHTML, like Gecko) Chrome/71.0.3578.98\\\n",
    "Safari/537.36'), } "
   ]
  },
  {
   "cell_type": "code",
   "execution_count": 13,
   "id": "3b24e692-3b87-489f-b7f6-8f955475c6bc",
   "metadata": {},
   "outputs": [],
   "source": [
    "url = f'https://lol.inven.co.kr/dataninfo/match/champTotal.php?iskin=lol&category=&category2=181&shipcode=&shipgroup=&teamName=&startDate=&endDate='\n",
    "html_ = requests.get(url, headers = request_headers).text    \n",
    "banPic = pd.read_html(html_)[-1]\n"
   ]
  },
  {
   "cell_type": "code",
   "execution_count": 14,
   "id": "6ae53ded-e2af-4ee7-ba97-6ace6b377110",
   "metadata": {},
   "outputs": [],
   "source": [
    "banPic.drop('순위',axis=1, inplace=True)\n",
    "banPic.sort_values('밴+픽', ascending=False, inplace=True)"
   ]
  },
  {
   "cell_type": "code",
   "execution_count": 16,
   "id": "635fead9-fe32-4dcf-8a65-ec8b1812d5f0",
   "metadata": {},
   "outputs": [],
   "source": [
    "banPic.to_csv('밴픽.csv',encoding='utf-8', index=False)"
   ]
  },
  {
   "cell_type": "code",
   "execution_count": null,
   "id": "aa1ccb38-0073-401f-946e-329a587f75c9",
   "metadata": {},
   "outputs": [],
   "source": [
    "# 젠지 : 1792\n",
    "# t1 : 1791\n",
    "# kt : 1770\n",
    "# 디플러스 : 1765\n",
    "# 징동 : 1776\n",
    "# blg : 1785\n",
    "# lng : 1786\n",
    "# 웨이보 : 1774\n",
    "# 지투 : 1816\n",
    "# 프나틱 : 1815\n",
    "# bds : 2033\n",
    "# 매드라이온즈 : 1817\n",
    "# c9 : 1794\n",
    "# 팀리키드 : 1801\n",
    "# nrg : 2096\n",
    "# gam esports : 1862"
   ]
  },
  {
   "cell_type": "markdown",
   "id": "20e38a62-d224-4b46-af1f-f87c780ed921",
   "metadata": {},
   "source": [
    "### 팀 능력치 정보"
   ]
  },
  {
   "cell_type": "code",
   "execution_count": 5,
   "id": "2d94ff05-aac3-4be1-8886-f249b38ca53c",
   "metadata": {},
   "outputs": [],
   "source": [
    "team_dic = {'Gen.G eSports': 1792, 'KT Rolster':1770,'Dplus KIA':1765, 'T1':1791,\n",
    "            'JD Gaming':1776,'Bilibili Gaming':1785, 'LNG Esports':1786, 'Weibo Gaming':1774, \n",
    "            'G2 Esports':1816,'Fnatic':1815,'Team BDS':2033,'MAD Lions':1817,\n",
    "            'Cloud9':1794,'Team Liquid':1801,'NRG':2096, 'GAM Esports':1862}"
   ]
  },
  {
   "cell_type": "code",
   "execution_count": 6,
   "id": "7475276d-696e-47f8-8f03-eebd1f723dd0",
   "metadata": {
    "scrolled": true
   },
   "outputs": [
    {
     "name": "stderr",
     "output_type": "stream",
     "text": [
      "100%|██████████████████████████████████████████████████████████████████████████████████| 16/16 [00:36<00:00,  2.31s/it]\n"
     ]
    }
   ],
   "source": [
    "driver = webdriver.Chrome()\n",
    "teamStat = []\n",
    "\n",
    "for key,val in tqdm(team_dic.items()):\n",
    "    url = f'https://gol.gg/teams/team-stats/{val}/split-ALL/tournament-ALL/'\n",
    "    driver.get(url)\n",
    "    page_source = driver.page_source\n",
    "    \n",
    "    dd = pd.read_html(page_source)[7].iloc[[0,1,8]]\n",
    "    dd['Economy.1'] = dd['Economy.1'].str.replace('+','').astype('float')\n",
    "    time.sleep(np.random.random())\n",
    "    dd['Name'] = key\n",
    "    teamStat.append(dd)\n",
    "ts = pd.concat(teamStat)\n",
    "ts.to_csv('팀능력.csv',encoding='utf-8', index=False)   "
   ]
  },
  {
   "cell_type": "markdown",
   "id": "a15febb7-b3f5-41ba-a57b-2fa6bc3c89ed",
   "metadata": {},
   "source": [
    "### 팀 챔피언 선택 정보"
   ]
  },
  {
   "cell_type": "code",
   "execution_count": 64,
   "id": "4bf6ffc3-f2b0-4a4e-af9e-a54f2ff4a4de",
   "metadata": {},
   "outputs": [
    {
     "name": "stderr",
     "output_type": "stream",
     "text": [
      "100%|██████████████████████████████████████████████████████████████████████████████████| 16/16 [01:36<00:00,  6.01s/it]\n"
     ]
    }
   ],
   "source": [
    "gameList = []\n",
    "teamList = []\n",
    "champList = []\n",
    "driver = webdriver.Chrome()\n",
    "\n",
    "for key,val in tqdm(team_dic.items()):\n",
    "    url = f'https://gol.gg/teams/team-stats/{val}/split-ALL/tournament-ALL/'\n",
    "    driver.get(url)\n",
    "    page_source = driver.page_source\n",
    "    soup = BeautifulSoup(page_source, 'html.parser')\n",
    "    \n",
    "    gameNum = soup.find('div',class_= 'row rowbreak pb-4').find('tbody').find_all('span', class_='text-center') \n",
    "    \n",
    "    for i in gameNum:\n",
    "        gameList.append(i.text.split()[-1])\n",
    "        teamList.append(key)\n",
    "        champList.append(i.find('strong').text)\n",
    "    time.sleep(2.5+np.random.random())"
   ]
  },
  {
   "cell_type": "code",
   "execution_count": 65,
   "id": "7879138f-99b4-4a3a-9c97-bcd46258e933",
   "metadata": {},
   "outputs": [],
   "source": [
    "gt = pd.DataFrame({'team':teamList, 'champ':champList,'pick':gameList})\n",
    "gt.to_csv('팀챔피언분석.csv',encoding='utf-8', index=False)    "
   ]
  },
  {
   "cell_type": "code",
   "execution_count": null,
   "id": "ca602737-493f-46b6-a6e2-f0fbca18d89c",
   "metadata": {},
   "outputs": [],
   "source": []
  }
 ],
 "metadata": {
  "kernelspec": {
   "display_name": "Python 3 (ipykernel)",
   "language": "python",
   "name": "python3"
  },
  "language_info": {
   "codemirror_mode": {
    "name": "ipython",
    "version": 3
   },
   "file_extension": ".py",
   "mimetype": "text/x-python",
   "name": "python",
   "nbconvert_exporter": "python",
   "pygments_lexer": "ipython3",
   "version": "3.8.18"
  }
 },
 "nbformat": 4,
 "nbformat_minor": 5
}

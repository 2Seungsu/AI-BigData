{
 "cells": [
  {
   "cell_type": "markdown",
   "id": "c5ec3088-d1c2-4819-8eb9-636ef62eae20",
   "metadata": {},
   "source": [
    "### 모델검증"
   ]
  },
  {
   "cell_type": "code",
   "execution_count": 1,
   "id": "244d2536-5eee-4854-bd77-1c8743089f72",
   "metadata": {},
   "outputs": [],
   "source": [
    "import joblib\n",
    "from rembg import remove\n",
    "import cv2"
   ]
  },
  {
   "cell_type": "code",
   "execution_count": 2,
   "id": "85ad9794-76f5-4161-96d2-81f48f8888d4",
   "metadata": {},
   "outputs": [],
   "source": [
    "loaded_model = joblib.load('woman_animal.pkl')"
   ]
  },
  {
   "cell_type": "code",
   "execution_count": 5,
   "id": "eb57663a-9fcb-41dd-a947-55c9e5a59c23",
   "metadata": {},
   "outputs": [],
   "source": [
    "file_='./yeji/w_cat_102.jpg'\n",
    "imgData=cv2.imread(file_,cv2.IMREAD_GRAYSCALE)\n",
    "imgData=cv2.resize(imgData,dsize=(100,100))"
   ]
  },
  {
   "cell_type": "code",
   "execution_count": 9,
   "id": "1dbce026-7d80-40b0-abea-97263274c6b0",
   "metadata": {},
   "outputs": [],
   "source": [
    "output=remove(imgData)\n",
    "output=output/255"
   ]
  },
  {
   "cell_type": "code",
   "execution_count": 16,
   "id": "b08298ae-8d05-471f-b2d8-059cc9841b9a",
   "metadata": {},
   "outputs": [],
   "source": [
    "output_=output.reshape(1,-1)"
   ]
  },
  {
   "cell_type": "code",
   "execution_count": 17,
   "id": "37c0ba50-34e2-4d3e-bd2f-aa2614b31a3d",
   "metadata": {},
   "outputs": [
    {
     "data": {
      "text/plain": [
       "array([0])"
      ]
     },
     "execution_count": 17,
     "metadata": {},
     "output_type": "execute_result"
    }
   ],
   "source": [
    "predict=loaded_model.predict(output_)\n",
    "predict"
   ]
  },
  {
   "cell_type": "code",
   "execution_count": 18,
   "id": "ee061860-b2a1-46b2-b52f-ea917af36808",
   "metadata": {},
   "outputs": [
    {
     "data": {
      "text/plain": [
       "array([[0.47, 0.06, 0.26, 0.21]])"
      ]
     },
     "execution_count": 18,
     "metadata": {},
     "output_type": "execute_result"
    }
   ],
   "source": [
    "proba=loaded_model.predict_proba(output_)\n",
    "proba"
   ]
  }
 ],
 "metadata": {
  "kernelspec": {
   "display_name": "Python 3 (ipykernel)",
   "language": "python",
   "name": "python3"
  },
  "language_info": {
   "codemirror_mode": {
    "name": "ipython",
    "version": 3
   },
   "file_extension": ".py",
   "mimetype": "text/x-python",
   "name": "python",
   "nbconvert_exporter": "python",
   "pygments_lexer": "ipython3",
   "version": "3.8.17"
  }
 },
 "nbformat": 4,
 "nbformat_minor": 5
}

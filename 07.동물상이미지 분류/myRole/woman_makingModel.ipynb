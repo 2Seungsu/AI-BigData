{
 "cells": [
  {
   "cell_type": "code",
   "execution_count": 1,
   "id": "6a2e66a2-f9b2-4f08-8dd0-2563ab14c742",
   "metadata": {},
   "outputs": [],
   "source": [
    "import numpy as np\n",
    "import cv2"
   ]
  },
  {
   "cell_type": "markdown",
   "id": "9b7fb354-1651-4e13-b733-dab86d1884ad",
   "metadata": {},
   "source": [
    "### 고양이, 개, 토끼 ,뱀 닮은 연예인 numpydata"
   ]
  },
  {
   "cell_type": "code",
   "execution_count": 2,
   "id": "40e49d36-d90a-4a8b-a7e4-acb732b30861",
   "metadata": {},
   "outputs": [],
   "source": [
    "catList = np.load('cat.npy')\n",
    "dogList = np.load('dog.npy')"
   ]
  },
  {
   "cell_type": "code",
   "execution_count": 3,
   "id": "04ecc918-599e-4b05-881d-898b992dc5af",
   "metadata": {},
   "outputs": [],
   "source": [
    "rabbitList = np.load('rabbit.npy')\n",
    "snakeList = np.load('snake.npy')"
   ]
  },
  {
   "cell_type": "code",
   "execution_count": 4,
   "id": "58de46de-66cb-4a96-9c10-e9e23e5796eb",
   "metadata": {},
   "outputs": [
    {
     "data": {
      "text/plain": [
       "((100, 100, 4), (100, 100, 4), (100, 100, 4))"
      ]
     },
     "execution_count": 4,
     "metadata": {},
     "output_type": "execute_result"
    }
   ],
   "source": [
    "rabbitList[0].shape, dogList[10].shape,snakeList[0].shape"
   ]
  },
  {
   "cell_type": "code",
   "execution_count": 5,
   "id": "bec0519d-8578-496e-8d32-2906b7ea67fb",
   "metadata": {},
   "outputs": [],
   "source": [
    "height, width, ch = dogList[10].shape"
   ]
  },
  {
   "cell_type": "code",
   "execution_count": 6,
   "id": "84cce238-b63d-4ae6-8d2d-98c171a4fadf",
   "metadata": {},
   "outputs": [],
   "source": [
    "dogDegree = []\n",
    "\n",
    "for i in dogList:\n",
    "    \n",
    "    for degree in range(0,360,10):\n",
    "        # 변환행렬 만들기\n",
    "        matrix = cv2.getRotationMatrix2D((width//2, height//2), degree, 1)  \n",
    "                                         #    회전 중심좌표     각도   원본배율\n",
    "        \n",
    "        #회전 변환 행렬에 따른 회전 이미지 반환\n",
    "        dst = cv2.warpAffine(i, matrix,   (width, height))\n",
    "                            #   원본                  변환행렬     너비높이 \n",
    "        dogDegree.append(dst)"
   ]
  },
  {
   "cell_type": "code",
   "execution_count": 7,
   "id": "d304e90e-e116-4dde-b4d7-ae717fba7125",
   "metadata": {},
   "outputs": [],
   "source": [
    "catDegree = []\n",
    "\n",
    "for i in catList:\n",
    "    \n",
    "    for degree in range(0,360,10):\n",
    "        # 변환행렬 만들기\n",
    "        matrix = cv2.getRotationMatrix2D((width//2, height//2), degree, 1)  \n",
    "                                         #    회전 중심좌표     각도   원본배율\n",
    "        \n",
    "        #회전 변환 행렬에 따른 회전 이미지 반환\n",
    "        dst = cv2.warpAffine(i, matrix,   (width, height))\n",
    "                            #   원본                  변환행렬     너비높이 \n",
    "        catDegree.append(dst)"
   ]
  },
  {
   "cell_type": "code",
   "execution_count": 8,
   "id": "c2da8266-5d5c-4ac7-8a1c-bf76bba1b67f",
   "metadata": {},
   "outputs": [],
   "source": [
    "dogDegree255=[i/255 for i in dogDegree]\n",
    "catDegree255=[i/255 for i in catDegree]\n",
    "dogDegree255 = [i.flatten().astype(np.uint8) for i in dogDegree255]\n",
    "catDegree255 = [i.flatten().astype(np.int8) for i in catDegree255]\n"
   ]
  },
  {
   "cell_type": "code",
   "execution_count": 9,
   "id": "79e63808-24d3-4131-a59f-a4ef34256c00",
   "metadata": {},
   "outputs": [],
   "source": [
    "rabbitDegree = []\n",
    "\n",
    "for i in rabbitList:\n",
    "    \n",
    "    for degree in range(0,360,10):\n",
    "        # 변환행렬 만들기\n",
    "        matrix = cv2.getRotationMatrix2D((width//2, height//2), degree, 1)  \n",
    "                                         #    회전 중심좌표     각도   원본배율\n",
    "        \n",
    "        #회전 변환 행렬에 따른 회전 이미지 반환\n",
    "        dst = cv2.warpAffine(i, matrix,   (width, height))\n",
    "                            #   원본                  변환행렬     너비높이 \n",
    "        rabbitDegree.append(dst)"
   ]
  },
  {
   "cell_type": "code",
   "execution_count": 10,
   "id": "5191e3bc-2a71-4769-a0f2-f9eb40d208df",
   "metadata": {},
   "outputs": [],
   "source": [
    "snakeDegree = []\n",
    "\n",
    "for i in snakeList:\n",
    "    \n",
    "    for degree in range(0,360,10):\n",
    "        # 변환행렬 만들기\n",
    "        matrix = cv2.getRotationMatrix2D((width//2, height//2), degree, 1)  \n",
    "                                         #    회전 중심좌표     각도   원본배율\n",
    "        \n",
    "        #회전 변환 행렬에 따른 회전 이미지 반환\n",
    "        dst = cv2.warpAffine(i, matrix,   (width, height))\n",
    "                            #   원본                  변환행렬     너비높이 \n",
    "        snakeDegree.append(dst)"
   ]
  },
  {
   "cell_type": "markdown",
   "id": "512bd547-13e4-4a70-a0f3-0365067c1d51",
   "metadata": {},
   "source": [
    "### 정규화"
   ]
  },
  {
   "cell_type": "code",
   "execution_count": 11,
   "id": "a3a96394-b454-426a-bfba-c233921838be",
   "metadata": {},
   "outputs": [],
   "source": [
    "rabbitDegree255=[i/255 for i in rabbitDegree]\n",
    "snakeDegree255=[i/255 for i in snakeDegree]\n",
    "rabbitDegree255 = [i.flatten().astype(np.uint8) for i in rabbitDegree255]\n",
    "snakeDegree255 = [i.flatten().astype(np.uint8) for i in snakeDegree255]"
   ]
  },
  {
   "cell_type": "code",
   "execution_count": 21,
   "id": "68b37de4-0ad5-4b67-aa49-584d114506ef",
   "metadata": {},
   "outputs": [],
   "source": [
    "#정규화한거 합치기\n",
    "feature_snake=np.vstack(snakeDegree255)\n",
    "feature_rabbit=np.vstack(rabbitDegree255)\n",
    "feature_cat = np.vstack(catDegree255)\n",
    "feature_dog = np.vstack(dogDegree255)"
   ]
  },
  {
   "cell_type": "code",
   "execution_count": 22,
   "id": "d4370cc5-acb6-44e3-aef0-d24f08788172",
   "metadata": {},
   "outputs": [
    {
     "data": {
      "text/plain": [
       "(6228, 11772, 7884, 8892)"
      ]
     },
     "execution_count": 22,
     "metadata": {},
     "output_type": "execute_result"
    }
   ],
   "source": [
    "len(feature_snake), len(feature_rabbit), len(feature_cat), len(feature_dog)"
   ]
  },
  {
   "cell_type": "code",
   "execution_count": 29,
   "id": "24a56afa-51dc-42e3-b50b-7581359647fc",
   "metadata": {},
   "outputs": [],
   "source": [
    "target_snake=np.array([3,]*len(feature_snake))\n",
    "target_rabbit=np.array([2,]*len(feature_rabbit))\n",
    "target_dog=np.array([1,]*len(feature_dog))\n",
    "target_cat=np.array([0,]*len(feature_cat))"
   ]
  },
  {
   "cell_type": "markdown",
   "id": "b71a2f43-d8c2-4a86-8ffd-1e6ef3720bd4",
   "metadata": {},
   "source": [
    "### 피처"
   ]
  },
  {
   "cell_type": "code",
   "execution_count": 26,
   "id": "eab360aa-a930-4f30-9055-982059ac58bf",
   "metadata": {},
   "outputs": [],
   "source": [
    "feature=np.vstack((feature_cat,feature_dog,feature_rabbit,feature_snake))"
   ]
  },
  {
   "cell_type": "code",
   "execution_count": 37,
   "id": "23c3539d-8b98-4562-939f-a91304d9beb3",
   "metadata": {},
   "outputs": [
    {
     "data": {
      "text/plain": [
       "(34776, 40000)"
      ]
     },
     "execution_count": 37,
     "metadata": {},
     "output_type": "execute_result"
    }
   ],
   "source": [
    "feature.shape"
   ]
  },
  {
   "cell_type": "markdown",
   "id": "59ee0d7c-74b2-4e06-8d40-50d96cd7c02e",
   "metadata": {},
   "source": [
    "### 타겟"
   ]
  },
  {
   "cell_type": "code",
   "execution_count": 30,
   "id": "8eca66b7-bd3a-4c68-9785-fb616e4f11db",
   "metadata": {},
   "outputs": [],
   "source": [
    "target = np.concatenate((target_cat,target_dog,target_rabbit,target_snake), axis=0)"
   ]
  },
  {
   "cell_type": "code",
   "execution_count": 38,
   "id": "e5cd9a20-e86c-4271-87f5-022a86fc54d2",
   "metadata": {},
   "outputs": [
    {
     "data": {
      "text/plain": [
       "(34776,)"
      ]
     },
     "execution_count": 38,
     "metadata": {},
     "output_type": "execute_result"
    }
   ],
   "source": [
    "target.shape"
   ]
  },
  {
   "cell_type": "code",
   "execution_count": 31,
   "id": "c70b8068-0e82-4738-ab56-497c7bfed59a",
   "metadata": {},
   "outputs": [],
   "source": [
    "np.save('feature_snake',feature_snake)\n",
    "np.save('feature_rabbit', feature_rabbit)\n",
    "np.save('feature_dog', feature_dog)\n",
    "np.save('feature_cat',feature_cat)\n",
    "np.save('target',target)"
   ]
  },
  {
   "cell_type": "markdown",
   "id": "aac74f56-5554-4ff3-8e26-551c9be13d18",
   "metadata": {},
   "source": [
    "### 트레인 테스트 나누기"
   ]
  },
  {
   "cell_type": "code",
   "execution_count": 32,
   "id": "6fa507e4-3cb1-421b-b3b6-360a8065d4aa",
   "metadata": {},
   "outputs": [],
   "source": [
    "from sklearn.model_selection import train_test_split"
   ]
  },
  {
   "cell_type": "code",
   "execution_count": 33,
   "id": "788b4367-da05-431e-a190-4ab44583f4ca",
   "metadata": {},
   "outputs": [],
   "source": [
    "trainX, valX, trainy, valy = train_test_split(feature, target,\n",
    "                                             stratify=target,\n",
    "                                             random_state=85)"
   ]
  },
  {
   "cell_type": "markdown",
   "id": "3b1ca7d8-6595-47ad-baf1-c93353f130f7",
   "metadata": {},
   "source": [
    "### 모델학습"
   ]
  },
  {
   "cell_type": "code",
   "execution_count": 34,
   "id": "45ceeba5-418b-41be-9c3e-db03f6735ccf",
   "metadata": {},
   "outputs": [],
   "source": [
    "from sklearn.ensemble import RandomForestClassifier"
   ]
  },
  {
   "cell_type": "code",
   "execution_count": 39,
   "id": "e9941dfc-7dd7-4ad0-84d9-1f9fb0253741",
   "metadata": {},
   "outputs": [],
   "source": [
    "r1 =  RandomForestClassifier()"
   ]
  },
  {
   "cell_type": "code",
   "execution_count": 41,
   "id": "047adc80-6725-4445-90a6-a27c6a3a7d9a",
   "metadata": {},
   "outputs": [
    {
     "data": {
      "text/html": [
       "<style>#sk-container-id-1 {color: black;}#sk-container-id-1 pre{padding: 0;}#sk-container-id-1 div.sk-toggleable {background-color: white;}#sk-container-id-1 label.sk-toggleable__label {cursor: pointer;display: block;width: 100%;margin-bottom: 0;padding: 0.3em;box-sizing: border-box;text-align: center;}#sk-container-id-1 label.sk-toggleable__label-arrow:before {content: \"▸\";float: left;margin-right: 0.25em;color: #696969;}#sk-container-id-1 label.sk-toggleable__label-arrow:hover:before {color: black;}#sk-container-id-1 div.sk-estimator:hover label.sk-toggleable__label-arrow:before {color: black;}#sk-container-id-1 div.sk-toggleable__content {max-height: 0;max-width: 0;overflow: hidden;text-align: left;background-color: #f0f8ff;}#sk-container-id-1 div.sk-toggleable__content pre {margin: 0.2em;color: black;border-radius: 0.25em;background-color: #f0f8ff;}#sk-container-id-1 input.sk-toggleable__control:checked~div.sk-toggleable__content {max-height: 200px;max-width: 100%;overflow: auto;}#sk-container-id-1 input.sk-toggleable__control:checked~label.sk-toggleable__label-arrow:before {content: \"▾\";}#sk-container-id-1 div.sk-estimator input.sk-toggleable__control:checked~label.sk-toggleable__label {background-color: #d4ebff;}#sk-container-id-1 div.sk-label input.sk-toggleable__control:checked~label.sk-toggleable__label {background-color: #d4ebff;}#sk-container-id-1 input.sk-hidden--visually {border: 0;clip: rect(1px 1px 1px 1px);clip: rect(1px, 1px, 1px, 1px);height: 1px;margin: -1px;overflow: hidden;padding: 0;position: absolute;width: 1px;}#sk-container-id-1 div.sk-estimator {font-family: monospace;background-color: #f0f8ff;border: 1px dotted black;border-radius: 0.25em;box-sizing: border-box;margin-bottom: 0.5em;}#sk-container-id-1 div.sk-estimator:hover {background-color: #d4ebff;}#sk-container-id-1 div.sk-parallel-item::after {content: \"\";width: 100%;border-bottom: 1px solid gray;flex-grow: 1;}#sk-container-id-1 div.sk-label:hover label.sk-toggleable__label {background-color: #d4ebff;}#sk-container-id-1 div.sk-serial::before {content: \"\";position: absolute;border-left: 1px solid gray;box-sizing: border-box;top: 0;bottom: 0;left: 50%;z-index: 0;}#sk-container-id-1 div.sk-serial {display: flex;flex-direction: column;align-items: center;background-color: white;padding-right: 0.2em;padding-left: 0.2em;position: relative;}#sk-container-id-1 div.sk-item {position: relative;z-index: 1;}#sk-container-id-1 div.sk-parallel {display: flex;align-items: stretch;justify-content: center;background-color: white;position: relative;}#sk-container-id-1 div.sk-item::before, #sk-container-id-1 div.sk-parallel-item::before {content: \"\";position: absolute;border-left: 1px solid gray;box-sizing: border-box;top: 0;bottom: 0;left: 50%;z-index: -1;}#sk-container-id-1 div.sk-parallel-item {display: flex;flex-direction: column;z-index: 1;position: relative;background-color: white;}#sk-container-id-1 div.sk-parallel-item:first-child::after {align-self: flex-end;width: 50%;}#sk-container-id-1 div.sk-parallel-item:last-child::after {align-self: flex-start;width: 50%;}#sk-container-id-1 div.sk-parallel-item:only-child::after {width: 0;}#sk-container-id-1 div.sk-dashed-wrapped {border: 1px dashed gray;margin: 0 0.4em 0.5em 0.4em;box-sizing: border-box;padding-bottom: 0.4em;background-color: white;}#sk-container-id-1 div.sk-label label {font-family: monospace;font-weight: bold;display: inline-block;line-height: 1.2em;}#sk-container-id-1 div.sk-label-container {text-align: center;}#sk-container-id-1 div.sk-container {/* jupyter's `normalize.less` sets `[hidden] { display: none; }` but bootstrap.min.css set `[hidden] { display: none !important; }` so we also need the `!important` here to be able to override the default hidden behavior on the sphinx rendered scikit-learn.org. See: https://github.com/scikit-learn/scikit-learn/issues/21755 */display: inline-block !important;position: relative;}#sk-container-id-1 div.sk-text-repr-fallback {display: none;}</style><div id=\"sk-container-id-1\" class=\"sk-top-container\"><div class=\"sk-text-repr-fallback\"><pre>RandomForestClassifier()</pre><b>In a Jupyter environment, please rerun this cell to show the HTML representation or trust the notebook. <br />On GitHub, the HTML representation is unable to render, please try loading this page with nbviewer.org.</b></div><div class=\"sk-container\" hidden><div class=\"sk-item\"><div class=\"sk-estimator sk-toggleable\"><input class=\"sk-toggleable__control sk-hidden--visually\" id=\"sk-estimator-id-1\" type=\"checkbox\" checked><label for=\"sk-estimator-id-1\" class=\"sk-toggleable__label sk-toggleable__label-arrow\">RandomForestClassifier</label><div class=\"sk-toggleable__content\"><pre>RandomForestClassifier()</pre></div></div></div></div></div>"
      ],
      "text/plain": [
       "RandomForestClassifier()"
      ]
     },
     "execution_count": 41,
     "metadata": {},
     "output_type": "execute_result"
    }
   ],
   "source": [
    "r1.fit(trainX,trainy)"
   ]
  },
  {
   "cell_type": "markdown",
   "id": "bcdbec4f-dfb3-423a-a7fe-1fa4d1a886fb",
   "metadata": {},
   "source": [
    "### 모델저장"
   ]
  },
  {
   "cell_type": "code",
   "execution_count": 42,
   "id": "5dcbbb00-0fb7-4796-a015-c9455b143d58",
   "metadata": {},
   "outputs": [],
   "source": [
    "import joblib"
   ]
  },
  {
   "cell_type": "code",
   "execution_count": 43,
   "id": "fadbf1fc-f6f6-46d5-b849-151e9d496d63",
   "metadata": {},
   "outputs": [
    {
     "data": {
      "text/plain": [
       "['woman_animal.pkl']"
      ]
     },
     "execution_count": 43,
     "metadata": {},
     "output_type": "execute_result"
    }
   ],
   "source": [
    "model_file = 'woman_animal.pkl'\n",
    "joblib.dump(r1, model_file)"
   ]
  },
  {
   "cell_type": "code",
   "execution_count": 44,
   "id": "9d96df76-f87b-48cd-917b-8a9276a68803",
   "metadata": {},
   "outputs": [
    {
     "data": {
      "text/plain": [
       "(0.9587838355954298, 0.3493213710605015)"
      ]
     },
     "execution_count": 44,
     "metadata": {},
     "output_type": "execute_result"
    }
   ],
   "source": [
    "r1.score(trainX,trainy), r1.score(valX,valy)"
   ]
  }
 ],
 "metadata": {
  "kernelspec": {
   "display_name": "Python 3 (ipykernel)",
   "language": "python",
   "name": "python3"
  },
  "language_info": {
   "codemirror_mode": {
    "name": "ipython",
    "version": 3
   },
   "file_extension": ".py",
   "mimetype": "text/x-python",
   "name": "python",
   "nbconvert_exporter": "python",
   "pygments_lexer": "ipython3",
   "version": "3.8.17"
  }
 },
 "nbformat": 4,
 "nbformat_minor": 5
}

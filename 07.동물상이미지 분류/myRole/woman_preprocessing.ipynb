{
 "cells": [
  {
   "cell_type": "code",
   "execution_count": 5,
   "id": "c0b932e6-7436-491a-88c1-3c7e9b7451d9",
   "metadata": {},
   "outputs": [],
   "source": [
    "import cv2, os\n",
    "import matplotlib.pyplot as plt"
   ]
  },
  {
   "cell_type": "markdown",
   "id": "030dac95-ba51-4d07-aa7b-06e72958fc47",
   "metadata": {},
   "source": [
    "### 사진 형식 jpg통일"
   ]
  },
  {
   "cell_type": "code",
   "execution_count": 150,
   "id": "a34792ab-56a4-46de-adda-55043052c8a7",
   "metadata": {},
   "outputs": [
    {
     "data": {
      "text/plain": [
       "['.ipynb_checkpoints', 'haerin', 'sana', 'Untitled.ipynb', 'yeji', 'yujin']"
      ]
     },
     "execution_count": 150,
     "metadata": {},
     "output_type": "execute_result"
    }
   ],
   "source": [
    "folder_names = os.listdir()\n",
    "folder_names = folder_names\n",
    "folder_names"
   ]
  },
  {
   "cell_type": "code",
   "execution_count": 168,
   "id": "5fa36747-432a-4ede-a6b3-b9a4560c6200",
   "metadata": {},
   "outputs": [],
   "source": [
    "file_path = folder_names[1] +'/'"
   ]
  },
  {
   "cell_type": "code",
   "execution_count": 169,
   "id": "89fef157-b13a-4378-a16e-c9c04a2d9a15",
   "metadata": {
    "scrolled": true
   },
   "outputs": [],
   "source": [
    "file_names = os.listdir(file_path)"
   ]
  },
  {
   "cell_type": "code",
   "execution_count": 170,
   "id": "af6c029f-28f5-4add-8614-409c75ac6c13",
   "metadata": {
    "scrolled": true
   },
   "outputs": [],
   "source": [
    "i = 1\n",
    "for name in file_names:\n",
    "    src = os.path.join(file_path, name)\n",
    "    dst = 'w_dog_' + str(i+105) + '.jpg'\n",
    "    dst = os.path.join(file_path, dst)\n",
    "    os.rename(src, dst)\n",
    "    i += 1"
   ]
  },
  {
   "cell_type": "markdown",
   "id": "acf63a90-d279-4ce9-9b88-8d6a95632e99",
   "metadata": {},
   "source": [
    "### 사이즈 바꾸고 넘파이로 저장"
   ]
  },
  {
   "cell_type": "code",
   "execution_count": 2,
   "id": "8b300a92-870b-4a27-9809-77cb1588d57b",
   "metadata": {},
   "outputs": [],
   "source": [
    "import numpy as np\n",
    "from rembg import remove"
   ]
  },
  {
   "cell_type": "code",
   "execution_count": 3,
   "id": "db6f4c07-e101-4c59-902f-5c6625e2c4e8",
   "metadata": {},
   "outputs": [],
   "source": [
    "folder_path = ['dog','cat','rabbit','snake']"
   ]
  },
  {
   "cell_type": "code",
   "execution_count": 4,
   "id": "35989303-0340-46e4-a0ed-92ab2fdb7df7",
   "metadata": {},
   "outputs": [],
   "source": [
    "file_path = './' + folder_path[0]"
   ]
  },
  {
   "cell_type": "code",
   "execution_count": 5,
   "id": "2eba1a20-d11a-4f3b-a064-db32028f7980",
   "metadata": {},
   "outputs": [],
   "source": [
    "file_names = os.listdir(file_path)"
   ]
  },
  {
   "cell_type": "code",
   "execution_count": 6,
   "id": "605ffc1d-9a9d-44a8-a28d-2719dd373993",
   "metadata": {},
   "outputs": [],
   "source": [
    "dsize_ = (100,100)\n",
    "dogList = []\n",
    "for name in file_names:\n",
    "    #파일 읽기    \n",
    "    src = os.path.join(file_path, name)    \n",
    "    img = cv2.imread(src, cv2.IMREAD_GRAYSCALE)\n",
    "\n",
    "    # 파일 사이즈 바꾸기\n",
    "    org = cv2.resize(img, dsize_)\n",
    "    \n",
    "    # 파일 돌리기\n",
    "    img = remove(org)\n",
    "    \n",
    "    dogList.append(img)\n"
   ]
  },
  {
   "cell_type": "code",
   "execution_count": 11,
   "id": "0bafcb04-02e9-49b5-8ffc-b308470467cd",
   "metadata": {},
   "outputs": [],
   "source": [
    "np.save('dog',dogList)"
   ]
  },
  {
   "cell_type": "code",
   "execution_count": 101,
   "id": "25944f40-12cd-43c7-9c36-50622786c365",
   "metadata": {},
   "outputs": [],
   "source": [
    "file_path = './' + folder_path[1]\n",
    "file_names = os.listdir(file_path)"
   ]
  },
  {
   "cell_type": "code",
   "execution_count": 102,
   "id": "baa81baa-6b73-403e-b21c-bfa6b5043930",
   "metadata": {},
   "outputs": [],
   "source": [
    "dsize_ = (100,100)\n",
    "catList = []\n",
    "for name in file_names:\n",
    "    #파일 읽기    \n",
    "    src = os.path.join(file_path, name)    \n",
    "    img = cv2.imread(src, cv2.IMREAD_GRAYSCALE)\n",
    "\n",
    "    # 파일 사이즈 바꾸기\n",
    "    org = cv2.resize(img, dsize_)\n",
    "    \n",
    "    # 파일 돌리기\n",
    "    img = remove(org)\n",
    "    \n",
    "    catList.append(img)\n",
    "np.save('cat',catList)"
   ]
  },
  {
   "cell_type": "code",
   "execution_count": 103,
   "id": "e24a1ed8-b3f8-47a1-981d-3f399bc8a554",
   "metadata": {
    "scrolled": true
   },
   "outputs": [
    {
     "data": {
      "text/plain": [
       "(247, 219)"
      ]
     },
     "execution_count": 103,
     "metadata": {},
     "output_type": "execute_result"
    }
   ],
   "source": [
    "len(dogList), len(catList)"
   ]
  },
  {
   "cell_type": "code",
   "execution_count": 104,
   "id": "0b4615a1-b7ff-45fa-b20f-2e64ddc09b0e",
   "metadata": {},
   "outputs": [
    {
     "data": {
      "text/plain": [
       "(100, 100, 4)"
      ]
     },
     "execution_count": 104,
     "metadata": {},
     "output_type": "execute_result"
    }
   ],
   "source": [
    "catList[0].shape"
   ]
  },
  {
   "cell_type": "code",
   "execution_count": 25,
   "id": "9d94e69f-dced-4976-bdc2-123fbe4aa98e",
   "metadata": {},
   "outputs": [
    {
     "data": {
      "text/plain": [
       "<matplotlib.image.AxesImage at 0x2040dfe7e50>"
      ]
     },
     "execution_count": 25,
     "metadata": {},
     "output_type": "execute_result"
    },
    {
     "data": {
      "image/png": "[encoded data removed]",
      "text/plain": [
       "<Figure size 640x480 with 1 Axes>"
      ]
     },
     "metadata": {},
     "output_type": "display_data"
    }
   ],
   "source": [
    "plt.imshow(dogList[10])"
   ]
  },
  {
   "cell_type": "code",
   "execution_count": 6,
   "id": "b20d60da-c6c7-4379-8562-f39062aa8002",
   "metadata": {},
   "outputs": [],
   "source": [
    "file_path = './' + folder_path[2]\n",
    "file_names = os.listdir(file_path)"
   ]
  },
  {
   "cell_type": "code",
   "execution_count": 10,
   "id": "b8529d31-d19d-4c19-a97f-050ed0402f33",
   "metadata": {},
   "outputs": [],
   "source": [
    "dsize_ = (100,100)\n",
    "rabbitList = []\n",
    "for name in file_names:\n",
    "    try:    #파일 읽기    \n",
    "        src = os.path.join(file_path, name)    \n",
    "        img = cv2.imread(src, cv2.IMREAD_GRAYSCALE)\n",
    "    \n",
    "        # 파일 사이즈 바꾸기\n",
    "        org = cv2.resize(img, dsize_)\n",
    "        \n",
    "        # 파일 돌리기\n",
    "        img = remove(org)\n",
    "        rabbitList.append(img)\n",
    "    except Exception:\n",
    "        continue\n",
    "np.save('rabbit',rabbitList)"
   ]
  },
  {
   "cell_type": "code",
   "execution_count": 16,
   "id": "54e8c4ff-bb59-4e34-a556-8971503eea27",
   "metadata": {},
   "outputs": [],
   "source": [
    "file_path = './' + folder_path[3]\n",
    "file_names = os.listdir(file_path)"
   ]
  },
  {
   "cell_type": "code",
   "execution_count": 17,
   "id": "a3fa4aaa-c1be-4362-a648-1c6e9b69e1a7",
   "metadata": {},
   "outputs": [],
   "source": [
    "dsize_ = (100,100)\n",
    "snakeList = []\n",
    "for name in file_names:\n",
    "    try :\n",
    "        #파일 읽기    \n",
    "        src = os.path.join(file_path, name)    \n",
    "        img = cv2.imread(src, cv2.IMREAD_GRAYSCALE)\n",
    "    \n",
    "        # 파일 사이즈 바꾸기\n",
    "        org = cv2.resize(img, dsize_)\n",
    "        \n",
    "        # 파일 돌리기\n",
    "        img = remove(org)\n",
    "        snakeList.append(img)\n",
    "    except Exception:\n",
    "        continue\n",
    "np.save('snake',snakeList)"
   ]
  },
  {
   "cell_type": "markdown",
   "id": "93d0849c-42ef-44d7-a2a6-74bfe3fe906e",
   "metadata": {},
   "source": [
    "### 흑백 및 각도 조절 검증"
   ]
  },
  {
   "cell_type": "code",
   "execution_count": 36,
   "id": "ace64951-cd1f-4b8e-b43c-31b7951d6cdb",
   "metadata": {},
   "outputs": [],
   "source": [
    "height, width, ch = dogList[10].shape"
   ]
  },
  {
   "cell_type": "code",
   "execution_count": 32,
   "id": "2bae412d-dad5-4584-9598-e4c817071c4a",
   "metadata": {},
   "outputs": [
    {
     "data": {
      "text/plain": [
       "(100, 100, 4)"
      ]
     },
     "execution_count": 32,
     "metadata": {},
     "output_type": "execute_result"
    }
   ],
   "source": [
    "dogList[14].shape"
   ]
  },
  {
   "cell_type": "code",
   "execution_count": 33,
   "id": "afd5fdbb-5636-4a33-912b-11abb73585e3",
   "metadata": {},
   "outputs": [],
   "source": [
    "dogDegree = []"
   ]
  },
  {
   "cell_type": "code",
   "execution_count": 37,
   "id": "d0310173-0447-440d-8fcd-cb20fabc214c",
   "metadata": {},
   "outputs": [],
   "source": [
    "dogDegree = []\n",
    "\n",
    "for i in dogList:\n",
    "    \n",
    "    for degree in range(0,360,10):\n",
    "        # 변환행렬 만들기\n",
    "        matrix = cv2.getRotationMatrix2D((width//2, height//2), degree, 1)  \n",
    "                                         #    회전 중심좌표     각도   원본배율\n",
    "        \n",
    "        #회전 변환 행렬에 따른 회전 이미지 반환\n",
    "        dst = cv2.warpAffine(i, matrix,   (width, height))\n",
    "                            #   원본                  변환행렬     너비높이 \n",
    "        dogDegree.append(dst)"
   ]
  },
  {
   "cell_type": "code",
   "execution_count": 40,
   "id": "fc1dec0a-d968-49a1-b0fd-c14a9bd23df0",
   "metadata": {},
   "outputs": [
    {
     "data": {
      "text/plain": [
       "8892"
      ]
     },
     "execution_count": 40,
     "metadata": {},
     "output_type": "execute_result"
    }
   ],
   "source": [
    "len(dogDegree)"
   ]
  },
  {
   "cell_type": "code",
   "execution_count": 105,
   "id": "8bbd1a46-2b9a-4ae3-9bb4-1b6b06c22ff7",
   "metadata": {},
   "outputs": [],
   "source": [
    "catDegree = []\n",
    "\n",
    "for i in catList:\n",
    "    \n",
    "    for degree in range(0,360,10):\n",
    "        # 변환행렬 만들기\n",
    "        matrix = cv2.getRotationMatrix2D((width//2, height//2), degree, 1)  \n",
    "                                         #    회전 중심좌표     각도   원본배율\n",
    "        \n",
    "        #회전 변환 행렬에 따른 회전 이미지 반환\n",
    "        dst = cv2.warpAffine(i, matrix,   (width, height))\n",
    "                            #   원본                  변환행렬     너비높이 \n",
    "        catDegree.append(dst)"
   ]
  },
  {
   "cell_type": "code",
   "execution_count": 106,
   "id": "d277c70f-1c0e-4054-85b5-ff94c2b64103",
   "metadata": {},
   "outputs": [
    {
     "data": {
      "text/plain": [
       "(100, 100, 4)"
      ]
     },
     "execution_count": 106,
     "metadata": {},
     "output_type": "execute_result"
    }
   ],
   "source": [
    "catDegree[0].shape"
   ]
  },
  {
   "cell_type": "code",
   "execution_count": 107,
   "id": "0816a64e-dc74-459c-84fb-b7607beea179",
   "metadata": {},
   "outputs": [
    {
     "data": {
      "text/plain": [
       "<matplotlib.image.AxesImage at 0x2040bded1f0>"
      ]
     },
     "execution_count": 107,
     "metadata": {},
     "output_type": "execute_result"
    },
    {
     "data": {
      "image/png": "[encoded data removed]",
      "text/plain": [
       "<Figure size 640x480 with 1 Axes>"
      ]
     },
     "metadata": {},
     "output_type": "display_data"
    }
   ],
   "source": [
    "plt.imshow(catDegree[5000])"
   ]
  },
  {
   "cell_type": "code",
   "execution_count": null,
   "id": "4371fc2d-d7a1-413f-b23d-4af625caa229",
   "metadata": {},
   "outputs": [],
   "source": []
  }
 ],
 "metadata": {
  "kernelspec": {
   "display_name": "Python 3 (ipykernel)",
   "language": "python",
   "name": "python3"
  },
  "language_info": {
   "codemirror_mode": {
    "name": "ipython",
    "version": 3
   },
   "file_extension": ".py",
   "mimetype": "text/x-python",
   "name": "python",
   "nbconvert_exporter": "python",
   "pygments_lexer": "ipython3",
   "version": "3.8.17"
  }
 },
 "nbformat": 4,
 "nbformat_minor": 5
}

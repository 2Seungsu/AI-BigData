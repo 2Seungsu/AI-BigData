{
 "cells": [
  {
   "cell_type": "code",
   "execution_count": 1,
   "id": "a1931144-b5e5-4b5d-b66c-f0c3b46c0566",
   "metadata": {},
   "outputs": [],
   "source": [
    "import numpy as np\n",
    "import matplotlib.pyplot as plt"
   ]
  },
  {
   "cell_type": "code",
   "execution_count": 2,
   "id": "5c89e354-c5ee-488e-b5b8-32869f6d523f",
   "metadata": {},
   "outputs": [],
   "source": [
    "import os\n",
    "os.environ['KMP_DUPLICATE_LIB_OK'] = 'True'"
   ]
  },
  {
   "cell_type": "code",
   "execution_count": 3,
   "id": "c1e84821-582b-4c2e-bb4a-68b129b22726",
   "metadata": {},
   "outputs": [],
   "source": [
    "from keras.preprocessing.image import ImageDataGenerator\n",
    "from keras.applications import VGG16\n",
    "from keras.callbacks import EarlyStopping\n",
    "from keras.models import Sequential\n",
    "from keras.layers import Layer, Dense, Flatten, Dropout, Activation"
   ]
  },
  {
   "cell_type": "markdown",
   "id": "bd82d781-4047-4bc5-ae12-aea7e631a933",
   "metadata": {},
   "source": [
    "### 이미지 데이터 증폭"
   ]
  },
  {
   "cell_type": "code",
   "execution_count": 4,
   "id": "c961f905-3112-4eb6-8cb2-db19f7aba2cf",
   "metadata": {},
   "outputs": [],
   "source": [
    "train_datagen = ImageDataGenerator(rescale = 1./255,\n",
    "                                  horizontal_flip= True,\n",
    "                                   rotation_range=10,\n",
    "                                  width_shift_range=0.2,\n",
    "                                  height_shift_range=0.2)"
   ]
  },
  {
   "cell_type": "code",
   "execution_count": 5,
   "id": "cc3c13c6-5c46-42bf-a554-040910f71269",
   "metadata": {
    "scrolled": true
   },
   "outputs": [
    {
     "name": "stdout",
     "output_type": "stream",
     "text": [
      "Found 2996 images belonging to 3 classes.\n"
     ]
    }
   ],
   "source": [
    "train_generator=train_datagen.flow_from_directory(\n",
    "    './album/',\n",
    "    target_size=(48,48),\n",
    "    batch_size=3,\n",
    "    class_mode='categorical',\n",
    "    shuffle=False\n",
    ")"
   ]
  },
  {
   "cell_type": "markdown",
   "id": "6b98fee6-06cb-47b7-a24a-0e401dfa4c7a",
   "metadata": {
    "jp-MarkdownHeadingCollapsed": true
   },
   "source": [
    "### 함수"
   ]
  },
  {
   "cell_type": "code",
   "execution_count": 14,
   "id": "22a66e11-9f72-4cfe-9d05-63bc8023c630",
   "metadata": {},
   "outputs": [],
   "source": [
    "def train_img(rotation, width, height):\n",
    "    train_datagen = ImageDataGenerator(rescale = 1./255,\n",
    "                                  horizontal_flip= True,\n",
    "                                   rotation_range = rotation,\n",
    "                                  width_shift_range= width,\n",
    "                                  height_shift_range= height)\n",
    "    \n",
    "    train_generator=train_datagen.flow_from_directory(\n",
    "        './album/',\n",
    "        target_size=(48,48),\n",
    "        batch_size=3,\n",
    "        class_mode='categorical',\n",
    "        shuffle=False)\n",
    "    \n",
    "    all_images = []\n",
    "    all_labels = []\n",
    "    \n",
    "    # 모든 배치를 가져올 때까지 반복합니다.\n",
    "    for _ in range(len(train_generator)):\n",
    "        batch_images, batch_labels = next(train_generator)\n",
    "        all_images.extend(batch_images)\n",
    "        all_labels.extend(batch_labels)\n",
    "\n",
    "    all_ = np.stack(all_images)\n",
    "    all_labels_ = np.vstack(all_labels)\n",
    "    \n",
    "    return all_, all_labels_"
   ]
  },
  {
   "cell_type": "code",
   "execution_count": 15,
   "id": "39eb8651-43d4-47b9-a75e-4208c994280c",
   "metadata": {
    "scrolled": true
   },
   "outputs": [
    {
     "name": "stdout",
     "output_type": "stream",
     "text": [
      "Found 2996 images belonging to 3 classes.\n"
     ]
    }
   ],
   "source": [
    "img, label = train_img(10,0.1,0.1)"
   ]
  },
  {
   "cell_type": "code",
   "execution_count": 16,
   "id": "aece9afe-6547-45bf-9b03-2352e89b31a6",
   "metadata": {},
   "outputs": [
    {
     "data": {
      "text/plain": [
       "(2996, 48, 48, 3)"
      ]
     },
     "execution_count": 16,
     "metadata": {},
     "output_type": "execute_result"
    }
   ],
   "source": [
    "img.shape"
   ]
  },
  {
   "cell_type": "code",
   "execution_count": 18,
   "id": "e1a9e53c-acb4-41ed-a1a0-1dcd5779841c",
   "metadata": {},
   "outputs": [
    {
     "data": {
      "text/plain": [
       "(2996, 3)"
      ]
     },
     "execution_count": 18,
     "metadata": {},
     "output_type": "execute_result"
    }
   ],
   "source": [
    "label.shape"
   ]
  },
  {
   "cell_type": "code",
   "execution_count": 24,
   "id": "82cfd02b-d141-4d1a-926c-686b156c71fa",
   "metadata": {},
   "outputs": [
    {
     "data": {
      "text/plain": [
       "(5992, 48, 48, 3)"
      ]
     },
     "execution_count": 24,
     "metadata": {},
     "output_type": "execute_result"
    }
   ],
   "source": [
    "np.vstack((img,img)).shape"
   ]
  },
  {
   "cell_type": "code",
   "execution_count": 28,
   "id": "b6181b94-37e3-4129-8baf-8e5e29ab1e5e",
   "metadata": {
    "scrolled": true
   },
   "outputs": [
    {
     "name": "stdout",
     "output_type": "stream",
     "text": [
      "Found 2996 images belonging to 3 classes.\n",
      "Found 2996 images belonging to 3 classes.\n",
      "Found 2996 images belonging to 3 classes.\n",
      "Found 2996 images belonging to 3 classes.\n",
      "Found 2996 images belonging to 3 classes.\n",
      "Found 2996 images belonging to 3 classes.\n",
      "Found 2996 images belonging to 3 classes.\n",
      "Found 2996 images belonging to 3 classes.\n",
      "Found 2996 images belonging to 3 classes.\n",
      "Found 2996 images belonging to 3 classes.\n",
      "Found 2996 images belonging to 3 classes.\n",
      "Found 2996 images belonging to 3 classes.\n",
      "Found 2996 images belonging to 3 classes.\n",
      "Found 2996 images belonging to 3 classes.\n",
      "Found 2996 images belonging to 3 classes.\n",
      "Found 2996 images belonging to 3 classes.\n",
      "Found 2996 images belonging to 3 classes.\n",
      "Found 2996 images belonging to 3 classes.\n",
      "Found 2996 images belonging to 3 classes.\n",
      "Found 2996 images belonging to 3 classes.\n",
      "Found 2996 images belonging to 3 classes.\n",
      "Found 2996 images belonging to 3 classes.\n",
      "Found 2996 images belonging to 3 classes.\n",
      "Found 2996 images belonging to 3 classes.\n",
      "Found 2996 images belonging to 3 classes.\n",
      "Found 2996 images belonging to 3 classes.\n",
      "Found 2996 images belonging to 3 classes.\n",
      "Found 2996 images belonging to 3 classes.\n",
      "Found 2996 images belonging to 3 classes.\n",
      "Found 2996 images belonging to 3 classes.\n",
      "Found 2996 images belonging to 3 classes.\n",
      "Found 2996 images belonging to 3 classes.\n",
      "Found 2996 images belonging to 3 classes.\n",
      "Found 2996 images belonging to 3 classes.\n",
      "Found 2996 images belonging to 3 classes.\n",
      "Found 2996 images belonging to 3 classes.\n",
      "Found 2996 images belonging to 3 classes.\n",
      "Found 2996 images belonging to 3 classes.\n",
      "Found 2996 images belonging to 3 classes.\n",
      "Found 2996 images belonging to 3 classes.\n",
      "Found 2996 images belonging to 3 classes.\n",
      "Found 2996 images belonging to 3 classes.\n",
      "Found 2996 images belonging to 3 classes.\n",
      "Found 2996 images belonging to 3 classes.\n",
      "Found 2996 images belonging to 3 classes.\n",
      "Found 2996 images belonging to 3 classes.\n",
      "Found 2996 images belonging to 3 classes.\n",
      "Found 2996 images belonging to 3 classes.\n",
      "Found 2996 images belonging to 3 classes.\n",
      "Found 2996 images belonging to 3 classes.\n",
      "Found 2996 images belonging to 3 classes.\n",
      "Found 2996 images belonging to 3 classes.\n",
      "Found 2996 images belonging to 3 classes.\n",
      "Found 2996 images belonging to 3 classes.\n",
      "Found 2996 images belonging to 3 classes.\n",
      "Found 2996 images belonging to 3 classes.\n",
      "Found 2996 images belonging to 3 classes.\n",
      "Found 2996 images belonging to 3 classes.\n",
      "Found 2996 images belonging to 3 classes.\n",
      "Found 2996 images belonging to 3 classes.\n",
      "Found 2996 images belonging to 3 classes.\n",
      "Found 2996 images belonging to 3 classes.\n",
      "Found 2996 images belonging to 3 classes.\n",
      "Found 2996 images belonging to 3 classes.\n",
      "Found 2996 images belonging to 3 classes.\n",
      "Found 2996 images belonging to 3 classes.\n",
      "Found 2996 images belonging to 3 classes.\n",
      "Found 2996 images belonging to 3 classes.\n",
      "Found 2996 images belonging to 3 classes.\n",
      "Found 2996 images belonging to 3 classes.\n",
      "Found 2996 images belonging to 3 classes.\n",
      "Found 2996 images belonging to 3 classes.\n",
      "Found 2996 images belonging to 3 classes.\n",
      "Found 2996 images belonging to 3 classes.\n",
      "Found 2996 images belonging to 3 classes.\n",
      "Found 2996 images belonging to 3 classes.\n",
      "Found 2996 images belonging to 3 classes.\n",
      "Found 2996 images belonging to 3 classes.\n",
      "Found 2996 images belonging to 3 classes.\n",
      "Found 2996 images belonging to 3 classes.\n",
      "Found 2996 images belonging to 3 classes.\n",
      "Found 2996 images belonging to 3 classes.\n",
      "Found 2996 images belonging to 3 classes.\n",
      "Found 2996 images belonging to 3 classes.\n",
      "Found 2996 images belonging to 3 classes.\n",
      "Found 2996 images belonging to 3 classes.\n",
      "Found 2996 images belonging to 3 classes.\n",
      "Found 2996 images belonging to 3 classes.\n",
      "Found 2996 images belonging to 3 classes.\n",
      "Found 2996 images belonging to 3 classes.\n",
      "Found 2996 images belonging to 3 classes.\n",
      "Found 2996 images belonging to 3 classes.\n",
      "Found 2996 images belonging to 3 classes.\n",
      "Found 2996 images belonging to 3 classes.\n",
      "Found 2996 images belonging to 3 classes.\n",
      "Found 2996 images belonging to 3 classes.\n",
      "Found 2996 images belonging to 3 classes.\n",
      "Found 2996 images belonging to 3 classes.\n",
      "Found 2996 images belonging to 3 classes.\n",
      "Found 2996 images belonging to 3 classes.\n",
      "Found 2996 images belonging to 3 classes.\n",
      "Found 2996 images belonging to 3 classes.\n",
      "Found 2996 images belonging to 3 classes.\n",
      "Found 2996 images belonging to 3 classes.\n",
      "Found 2996 images belonging to 3 classes.\n",
      "Found 2996 images belonging to 3 classes.\n",
      "Found 2996 images belonging to 3 classes.\n",
      "Found 2996 images belonging to 3 classes.\n",
      "Found 2996 images belonging to 3 classes.\n",
      "Found 2996 images belonging to 3 classes.\n",
      "Found 2996 images belonging to 3 classes.\n",
      "Found 2996 images belonging to 3 classes.\n",
      "Found 2996 images belonging to 3 classes.\n",
      "Found 2996 images belonging to 3 classes.\n",
      "Found 2996 images belonging to 3 classes.\n",
      "Found 2996 images belonging to 3 classes.\n",
      "Found 2996 images belonging to 3 classes.\n",
      "Found 2996 images belonging to 3 classes.\n",
      "Found 2996 images belonging to 3 classes.\n",
      "Found 2996 images belonging to 3 classes.\n",
      "Found 2996 images belonging to 3 classes.\n",
      "Found 2996 images belonging to 3 classes.\n",
      "Found 2996 images belonging to 3 classes.\n",
      "Found 2996 images belonging to 3 classes.\n",
      "Found 2996 images belonging to 3 classes.\n",
      "Found 2996 images belonging to 3 classes.\n",
      "Found 2996 images belonging to 3 classes.\n",
      "Found 2996 images belonging to 3 classes.\n",
      "Found 2996 images belonging to 3 classes.\n",
      "Found 2996 images belonging to 3 classes.\n",
      "Found 2996 images belonging to 3 classes.\n",
      "Found 2996 images belonging to 3 classes.\n",
      "Found 2996 images belonging to 3 classes.\n",
      "Found 2996 images belonging to 3 classes.\n",
      "Found 2996 images belonging to 3 classes.\n",
      "Found 2996 images belonging to 3 classes.\n",
      "Found 2996 images belonging to 3 classes.\n",
      "Found 2996 images belonging to 3 classes.\n",
      "Found 2996 images belonging to 3 classes.\n",
      "Found 2996 images belonging to 3 classes.\n",
      "Found 2996 images belonging to 3 classes.\n",
      "Found 2996 images belonging to 3 classes.\n",
      "Found 2996 images belonging to 3 classes.\n",
      "Found 2996 images belonging to 3 classes.\n"
     ]
    }
   ],
   "source": [
    "# 초기 빈 배열 생성\n",
    "new_img = None\n",
    "new_label = None\n",
    "\n",
    "for i in np.linspace(0, 1, num=6):\n",
    "    for j in np.arange(1, 360, 15):\n",
    "        # train_img() 함수로 이미지와 라벨 생성\n",
    "        img, label = train_img(j, i, i)\n",
    "        \n",
    "        # new_img가 비어있는 경우 초기화\n",
    "        if new_img is None:\n",
    "            new_img = img\n",
    "            new_label = label\n",
    "        else:\n",
    "            # 이미지와 라벨을 쌓아서 새로운 배열에 추가\n",
    "            new_img = np.vstack((new_img, img))\n",
    "            new_label = np.vstack((new_label, label))"
   ]
  },
  {
   "cell_type": "code",
   "execution_count": 29,
   "id": "cd45a617-820c-4533-a87d-8a565ce4db85",
   "metadata": {},
   "outputs": [
    {
     "data": {
      "text/plain": [
       "(431424, 48, 48, 3)"
      ]
     },
     "execution_count": 29,
     "metadata": {},
     "output_type": "execute_result"
    }
   ],
   "source": [
    "new_img.shape"
   ]
  },
  {
   "cell_type": "code",
   "execution_count": 30,
   "id": "02b8bc3b-436e-4136-ae5d-b6f75fd43338",
   "metadata": {},
   "outputs": [],
   "source": [
    "# np.save('num1.npy',new_img)"
   ]
  },
  {
   "cell_type": "code",
   "execution_count": 32,
   "id": "3e022295-8262-4bfe-9ec1-7833fb67f015",
   "metadata": {},
   "outputs": [],
   "source": [
    "np.savez('feature.npz',new_img)"
   ]
  },
  {
   "cell_type": "code",
   "execution_count": 34,
   "id": "411c8c87-9b6d-4b29-959f-bb58c16e6a66",
   "metadata": {},
   "outputs": [],
   "source": [
    "np.save('target.npy',new_label)"
   ]
  },
  {
   "cell_type": "code",
   "execution_count": 36,
   "id": "e68beade-13b4-4482-a129-4fd0588a95c2",
   "metadata": {},
   "outputs": [
    {
     "data": {
      "text/plain": [
       "(431424, 3)"
      ]
     },
     "execution_count": 36,
     "metadata": {},
     "output_type": "execute_result"
    }
   ],
   "source": [
    "np.load('target.npy').shape"
   ]
  },
  {
   "cell_type": "code",
   "execution_count": 31,
   "id": "6ffd9c7e-d4ef-4824-a27e-97765e3a303d",
   "metadata": {
    "scrolled": true
   },
   "outputs": [
    {
     "data": {
      "text/plain": [
       "array([[[[0.75553596, 0.7476928 , 0.76730067],\n",
       "         [0.75793743, 0.7500943 , 0.76970214],\n",
       "         [0.77777725, 0.7699341 , 0.78954196],\n",
       "         ...,\n",
       "         [0.81568635, 0.8078432 , 0.82745105],\n",
       "         [0.80518794, 0.7973448 , 0.81695265],\n",
       "         [0.8000001 , 0.79215693, 0.8117648 ]],\n",
       "\n",
       "        [[0.76856613, 0.76072294, 0.78033084],\n",
       "         [0.7780355 , 0.7701924 , 0.7898002 ],\n",
       "         [0.7761605 , 0.76831734, 0.7879252 ],\n",
       "         ...,\n",
       "         [0.7075066 , 0.69966346, 0.7192713 ],\n",
       "         [0.7421761 , 0.734333  , 0.7539408 ],\n",
       "         [0.7829976 , 0.7751545 , 0.7947623 ]],\n",
       "\n",
       "        [[0.7765343 , 0.7686912 , 0.788299  ],\n",
       "         [0.7853932 , 0.77755004, 0.7971579 ],\n",
       "         [0.8060054 , 0.7981623 , 0.8177701 ],\n",
       "         ...,\n",
       "         [0.6874774 , 0.6796343 , 0.6992421 ],\n",
       "         [0.74296975, 0.7351266 , 0.75473446],\n",
       "         [0.7998609 , 0.79201776, 0.8116256 ]],\n",
       "\n",
       "        ...,\n",
       "\n",
       "        [[0.80349994, 0.7956568 , 0.81526464],\n",
       "         [0.8314697 , 0.8236266 , 0.8432344 ],\n",
       "         [0.84981   , 0.84196687, 0.8615747 ],\n",
       "         ...,\n",
       "         [0.55501837, 0.553792  , 0.612313  ],\n",
       "         [0.60591453, 0.61107785, 0.67794085],\n",
       "         [0.770966  , 0.77618414, 0.84288263]],\n",
       "\n",
       "        [[0.768419  , 0.7605759 , 0.78018373],\n",
       "         [0.7975222 , 0.78967905, 0.8092869 ],\n",
       "         [0.81429696, 0.8064538 , 0.82606167],\n",
       "         ...,\n",
       "         [0.6925377 , 0.6910667 , 0.75086975],\n",
       "         [0.53647125, 0.5420666 , 0.61181796],\n",
       "         [0.47479418, 0.48396495, 0.5519286 ]],\n",
       "\n",
       "        [[0.6992776 , 0.69143444, 0.7110423 ],\n",
       "         [0.7241319 , 0.71628875, 0.7358966 ],\n",
       "         [0.7372549 , 0.7294118 , 0.7490196 ],\n",
       "         ...,\n",
       "         [0.73480535, 0.7389684 , 0.79714924],\n",
       "         [0.62751013, 0.6339911 , 0.70329964],\n",
       "         [0.48680618, 0.4985709 , 0.5652376 ]]],\n",
       "\n",
       "\n",
       "       [[[1.        , 0.98450875, 0.85787374],\n",
       "         [0.6980815 , 0.6736456 , 0.53892565],\n",
       "         [0.40508884, 0.3665814 , 0.21656199],\n",
       "         ...,\n",
       "         [0.5136305 , 0.5057874 , 0.2717371 ],\n",
       "         [0.65967345, 0.64408344, 0.45660993],\n",
       "         [0.9089019 , 0.90220344, 0.75815266]],\n",
       "\n",
       "        [[1.        , 1.        , 0.89966726],\n",
       "         [0.6992074 , 0.68674034, 0.5752623 ],\n",
       "         [0.41653872, 0.3891123 , 0.25360653],\n",
       "         ...,\n",
       "         [0.52711093, 0.51744133, 0.29258496],\n",
       "         [0.58589673, 0.572844  , 0.39159742],\n",
       "         [0.8709124 , 0.85919964, 0.7147028 ]],\n",
       "\n",
       "        [[1.        , 1.        , 0.9321846 ],\n",
       "         [0.6286647 , 0.6267864 , 0.54151726],\n",
       "         [0.40203077, 0.38654023, 0.2752575 ],\n",
       "         ...,\n",
       "         [0.5433781 , 0.5338564 , 0.32412136],\n",
       "         [0.55962497, 0.55051714, 0.38136908],\n",
       "         [0.8635762 , 0.8570777 , 0.72919995]],\n",
       "\n",
       "        ...,\n",
       "\n",
       "        [[0.78694767, 0.7817339 , 0.72319484],\n",
       "         [0.3878541 , 0.38223255, 0.31057397],\n",
       "         [0.44889027, 0.44187763, 0.35462204],\n",
       "         ...,\n",
       "         [0.38305938, 0.37400818, 0.29648763],\n",
       "         [0.60838896, 0.5986217 , 0.53397554],\n",
       "         [0.9974174 , 0.99225193, 0.9320895 ]],\n",
       "\n",
       "        [[0.781398  , 0.7770544 , 0.72525764],\n",
       "         [0.3114659 , 0.3049054 , 0.23838584],\n",
       "         [0.26346102, 0.25904697, 0.17117009],\n",
       "         ...,\n",
       "         [0.3649496 , 0.35401556, 0.28211245],\n",
       "         [0.6044216 , 0.5956227 , 0.5376132 ],\n",
       "         [0.9986608 , 0.9959823 , 0.9449056 ]],\n",
       "\n",
       "        [[0.77656597, 0.76872283, 0.7150631 ],\n",
       "         [0.3485384 , 0.34203455, 0.27517536],\n",
       "         [0.30980393, 0.30722123, 0.21817398],\n",
       "         ...,\n",
       "         [0.3836094 , 0.3718447 , 0.3026201 ],\n",
       "         [0.6160465 , 0.6082445 , 0.5533836 ],\n",
       "         [1.        , 1.        , 0.95294124]]],\n",
       "\n",
       "\n",
       "       [[[0.9552569 , 0.9328852 , 0.9093558 ],\n",
       "         [0.95614964, 0.92869866, 0.90516925],\n",
       "         [0.9847567 , 0.9586867 , 0.9379193 ],\n",
       "         ...,\n",
       "         [0.694787  , 0.5953855 , 0.6230019 ],\n",
       "         [0.675942  , 0.5739812 , 0.60927534],\n",
       "         [0.6867227 , 0.5847619 , 0.62005603]],\n",
       "\n",
       "        [[0.96150553, 0.93925065, 0.91572124],\n",
       "         [0.9634732 , 0.9342556 , 0.91160953],\n",
       "         [0.97180057, 0.93761134, 0.9203063 ],\n",
       "         ...,\n",
       "         [0.68807626, 0.59168303, 0.61786276],\n",
       "         [0.6693708 , 0.5713791 , 0.60270405],\n",
       "         [0.68400204, 0.58618563, 0.6173354 ]],\n",
       "\n",
       "        [[0.9673475 , 0.93918294, 0.9233312 ],\n",
       "         [0.9511109 , 0.91851294, 0.904101  ],\n",
       "         [0.90520746, 0.86298335, 0.8543335 ],\n",
       "         ...,\n",
       "         [0.7092989 , 0.6216314 , 0.6438965 ],\n",
       "         [0.6962171 , 0.6086663 , 0.63087314],\n",
       "         [0.6468374 , 0.55940336, 0.58155173]],\n",
       "\n",
       "        ...,\n",
       "\n",
       "        [[0.6061885 , 0.54001695, 0.5808351 ],\n",
       "         [0.6205538 , 0.5478978 , 0.5902563 ],\n",
       "         [0.6494231 , 0.5650568 , 0.6107413 ],\n",
       "         ...,\n",
       "         [0.61336493, 0.5480913 , 0.5978074 ],\n",
       "         [0.6170622 , 0.5596309 , 0.61592495],\n",
       "         [0.63322085, 0.57924175, 0.63991094]],\n",
       "\n",
       "        [[0.562834  , 0.54741544, 0.57000893],\n",
       "         [0.59445477, 0.5737339 , 0.5986536 ],\n",
       "         [0.64102477, 0.6076622 , 0.63798463],\n",
       "         ...,\n",
       "         [0.6094769 , 0.54326135, 0.5953947 ],\n",
       "         [0.62521166, 0.56895125, 0.6255843 ],\n",
       "         [0.64690554, 0.5955209 , 0.6590809 ]],\n",
       "\n",
       "        [[0.5591784 , 0.58087784, 0.5914847 ],\n",
       "         [0.61137336, 0.62666625, 0.639716  ],\n",
       "         [0.67645764, 0.6817049 , 0.70111835],\n",
       "         ...,\n",
       "         [0.593095  , 0.5250473 , 0.58226836],\n",
       "         [0.6152408 , 0.5612747 , 0.6189396 ],\n",
       "         [0.643847  , 0.5942485 , 0.6567695 ]]],\n",
       "\n",
       "\n",
       "       ...,\n",
       "\n",
       "\n",
       "       [[[0.9176471 , 0.9176471 , 0.9176471 ],\n",
       "         [0.9194414 , 0.9194414 , 0.9194414 ],\n",
       "         [0.9239596 , 0.9239596 , 0.9239596 ],\n",
       "         ...,\n",
       "         [0.935597  , 0.935597  , 0.935597  ],\n",
       "         [0.9519968 , 0.9519968 , 0.9519968 ],\n",
       "         [0.9423803 , 0.9423803 , 0.9423803 ]],\n",
       "\n",
       "        [[0.9176471 , 0.9176471 , 0.9176471 ],\n",
       "         [0.9176471 , 0.9176471 , 0.9176471 ],\n",
       "         [0.9176471 , 0.9176471 , 0.9176471 ],\n",
       "         ...,\n",
       "         [0.94915146, 0.94915146, 0.94915146],\n",
       "         [0.9452196 , 0.9452196 , 0.9452196 ],\n",
       "         [0.9486078 , 0.9486078 , 0.9486078 ]],\n",
       "\n",
       "        [[0.9176471 , 0.9176471 , 0.9176471 ],\n",
       "         [0.9176471 , 0.9176471 , 0.9176471 ],\n",
       "         [0.9176471 , 0.9176471 , 0.9176471 ],\n",
       "         ...,\n",
       "         [0.9480589 , 0.9480589 , 0.9480589 ],\n",
       "         [0.9448221 , 0.9448221 , 0.9448221 ],\n",
       "         [0.9551049 , 0.9551049 , 0.9551049 ]],\n",
       "\n",
       "        ...,\n",
       "\n",
       "        [[0.96394086, 0.96394086, 0.96394086],\n",
       "         [0.9203462 , 0.9203462 , 0.9203462 ],\n",
       "         [0.74887353, 0.74887353, 0.74887353],\n",
       "         ...,\n",
       "         [0.8397616 , 0.8397616 , 0.8397616 ],\n",
       "         [0.61035544, 0.61035544, 0.61035544],\n",
       "         [0.30764008, 0.30764008, 0.30764008]],\n",
       "\n",
       "        [[0.96845895, 0.96845895, 0.96845895],\n",
       "         [0.7938383 , 0.7938383 , 0.7938383 ],\n",
       "         [0.74661446, 0.74661446, 0.74661446],\n",
       "         ...,\n",
       "         [0.97548574, 0.97548574, 0.97548574],\n",
       "         [0.8814051 , 0.8814051 , 0.8814051 ],\n",
       "         [0.7371786 , 0.7371786 , 0.7371786 ]],\n",
       "\n",
       "        [[0.846839  , 0.846839  , 0.846839  ],\n",
       "         [0.7475609 , 0.7475609 , 0.7475609 ],\n",
       "         [0.69385314, 0.69385314, 0.69385314],\n",
       "         ...,\n",
       "         [0.94343066, 0.94343066, 0.94343066],\n",
       "         [0.9660213 , 0.9660213 , 0.9660213 ],\n",
       "         [0.92304856, 0.92304856, 0.92304856]]],\n",
       "\n",
       "\n",
       "       [[[0.34449738, 0.65562963, 0.8480869 ],\n",
       "         [0.32645768, 0.6303741 , 0.8318511 ],\n",
       "         [0.30447277, 0.6169541 , 0.8235058 ],\n",
       "         ...,\n",
       "         [0.5316123 , 0.7629849 , 0.92769074],\n",
       "         [0.52156866, 0.75294125, 0.9176471 ],\n",
       "         [0.52156866, 0.75294125, 0.9176471 ]],\n",
       "\n",
       "        [[0.38487738, 0.68028474, 0.8553319 ],\n",
       "         [0.36142582, 0.6784808 , 0.8625478 ],\n",
       "         [0.3432381 , 0.65386665, 0.8469535 ],\n",
       "         ...,\n",
       "         [0.52156866, 0.75294125, 0.9176471 ],\n",
       "         [0.52156866, 0.75294125, 0.9176471 ],\n",
       "         [0.52156866, 0.75294125, 0.9176471 ]],\n",
       "\n",
       "        [[0.4442811 , 0.6851805 , 0.84423137],\n",
       "         [0.40669194, 0.6819628 , 0.84861976],\n",
       "         [0.38324034, 0.68015885, 0.8558356 ],\n",
       "         ...,\n",
       "         [0.52156866, 0.75294125, 0.9176471 ],\n",
       "         [0.52156866, 0.75294125, 0.9176471 ],\n",
       "         [0.5173491 , 0.74872166, 0.91342753]],\n",
       "\n",
       "        ...,\n",
       "\n",
       "        [[0.42832705, 0.6338638 , 0.81051916],\n",
       "         [0.4551192 , 0.64566404, 0.8150975 ],\n",
       "         [0.48407567, 0.6687559 , 0.8427709 ],\n",
       "         ...,\n",
       "         [0.49049953, 0.68265635, 0.842814  ],\n",
       "         [0.5139511 , 0.706108  , 0.86446166],\n",
       "         [0.5311422 , 0.7232991 , 0.8770315 ]],\n",
       "\n",
       "        [[0.44095483, 0.63747174, 0.8087152 ],\n",
       "         [0.47315893, 0.6600958 , 0.8313332 ],\n",
       "         [0.47325185, 0.65973604, 0.8409668 ],\n",
       "         ...,\n",
       "         [0.5337493 , 0.7230509 , 0.88097984],\n",
       "         [0.50127786, 0.6923834 , 0.8521163 ],\n",
       "         [0.49213657, 0.6842935 , 0.84432524]],\n",
       "\n",
       "        [[0.4563785 , 0.6466715 , 0.81623083],\n",
       "         [0.48332012, 0.6681262 , 0.8426449 ],\n",
       "         [0.4631679 , 0.6516146 , 0.8398499 ],\n",
       "         ...,\n",
       "         [0.5408622 , 0.72426593, 0.8714655 ],\n",
       "         [0.5498821 , 0.7368938 , 0.8913092 ],\n",
       "         [0.53148264, 0.7209101 , 0.87896496]]],\n",
       "\n",
       "\n",
       "       [[[0.1370525 , 0.21548389, 0.36058193],\n",
       "         [0.13909487, 0.21752626, 0.35694104],\n",
       "         [0.13416213, 0.21259351, 0.34984842],\n",
       "         ...,\n",
       "         [0.15534654, 0.20349306, 0.26057044],\n",
       "         [0.20306435, 0.2416221 , 0.29935777],\n",
       "         [0.23029828, 0.2655924 , 0.32441592]],\n",
       "\n",
       "        [[0.18764158, 0.26937115, 0.41446918],\n",
       "         [0.17757855, 0.25938252, 0.40128356],\n",
       "         [0.18976052, 0.27287135, 0.40987593],\n",
       "         ...,\n",
       "         [0.11573688, 0.16392061, 0.22581267],\n",
       "         [0.1685178 , 0.21437673, 0.27640006],\n",
       "         [0.19713752, 0.24262537, 0.3048468 ]],\n",
       "\n",
       "        [[0.10905992, 0.19533443, 0.3404325 ],\n",
       "         [0.11040085, 0.19667536, 0.34177342],\n",
       "         [0.10886369, 0.19668928, 0.33713412],\n",
       "         ...,\n",
       "         [0.05088785, 0.09910879, 0.16185391],\n",
       "         [0.05932146, 0.10638029, 0.1691254 ],\n",
       "         [0.06931465, 0.11637348, 0.17911859]],\n",
       "\n",
       "        ...,\n",
       "\n",
       "        [[0.20318308, 0.33651644, 0.6149478 ],\n",
       "         [0.1755096 , 0.30934256, 0.58627516],\n",
       "         [0.17649111, 0.3115402 , 0.5848244 ],\n",
       "         ...,\n",
       "         [0.16420743, 0.23971403, 0.4457172 ],\n",
       "         [0.17916653, 0.24935423, 0.44425136],\n",
       "         [0.21515486, 0.2857431 , 0.47504127]],\n",
       "\n",
       "        [[0.15205309, 0.28538644, 0.56381786],\n",
       "         [0.1421921 , 0.27665547, 0.55169684],\n",
       "         [0.13613279, 0.2733877 , 0.5400544 ],\n",
       "         ...,\n",
       "         [0.10799877, 0.18418564, 0.388662  ],\n",
       "         [0.09728489, 0.16787313, 0.3617074 ],\n",
       "         [0.07669769, 0.14728594, 0.33552125]],\n",
       "\n",
       "        [[0.07213162, 0.20546496, 0.48389634],\n",
       "         [0.08736733, 0.22179349, 0.49694642],\n",
       "         [0.07817707, 0.21543199, 0.48209867],\n",
       "         ...,\n",
       "         [0.09695417, 0.17321546, 0.37780347],\n",
       "         [0.08326896, 0.15385719, 0.3477659 ],\n",
       "         [0.05490196, 0.1254902 , 0.3137255 ]]]], dtype=float32)"
      ]
     },
     "execution_count": 31,
     "metadata": {},
     "output_type": "execute_result"
    }
   ],
   "source": [
    "np.load('num1.npy')"
   ]
  },
  {
   "cell_type": "markdown",
   "id": "ced2e24c-34fe-4d54-a75b-078c22efa4ea",
   "metadata": {},
   "source": [
    "### 이미지 리스트"
   ]
  },
  {
   "cell_type": "code",
   "execution_count": 6,
   "id": "d3146ada-753f-4541-8d0c-be1992acb057",
   "metadata": {},
   "outputs": [],
   "source": [
    "all_images = []\n",
    "all_labels = []\n",
    "\n",
    "# 모든 배치를 가져올 때까지 반복합니다.\n",
    "for _ in range(len(train_generator)):\n",
    "    batch_images, batch_labels = next(train_generator)\n",
    "    all_images.extend(batch_images)\n",
    "    all_labels.extend(batch_labels)\n"
   ]
  },
  {
   "cell_type": "code",
   "execution_count": 7,
   "id": "17674837-6c02-454c-a2c2-4ab814e5a4c0",
   "metadata": {},
   "outputs": [
    {
     "data": {
      "text/plain": [
       "2996"
      ]
     },
     "execution_count": 7,
     "metadata": {},
     "output_type": "execute_result"
    }
   ],
   "source": [
    "len(all_images)"
   ]
  },
  {
   "cell_type": "code",
   "execution_count": 8,
   "id": "72ffa021-5ca4-4cb7-b925-dcbe503445a7",
   "metadata": {
    "scrolled": true
   },
   "outputs": [
    {
     "data": {
      "text/plain": [
       "array([0., 0., 1.], dtype=float32)"
      ]
     },
     "execution_count": 8,
     "metadata": {},
     "output_type": "execute_result"
    }
   ],
   "source": [
    "# 0 ~ 995      1번\n",
    "# 996 ~ 1995   2번\n",
    "# 1996 ~ -1    3번\n",
    "all_labels[-1]"
   ]
  },
  {
   "cell_type": "code",
   "execution_count": 9,
   "id": "975dd3fa-2384-494c-b3fb-2b4703618db9",
   "metadata": {},
   "outputs": [],
   "source": [
    "img1990=all_images[:996]\n",
    "img2000=all_images[996:1996]\n",
    "img2010=all_images[1996:]"
   ]
  },
  {
   "cell_type": "code",
   "execution_count": 10,
   "id": "e8b065fb-74c6-4aac-93a3-ba8bcd57d599",
   "metadata": {},
   "outputs": [],
   "source": [
    "label1990 = all_labels[:996]\n",
    "label2000 = all_labels[996:1996]\n",
    "label2010 = all_labels[1996:]"
   ]
  },
  {
   "cell_type": "code",
   "execution_count": 11,
   "id": "f9540b02-fde3-4fbc-9285-e1c2e13ef92f",
   "metadata": {
    "collapsed": true,
    "jupyter": {
     "outputs_hidden": true
    }
   },
   "outputs": [
    {
     "data": {
      "text/plain": [
       "array([[0.8073323 , 0.81568635, 0.8339094 , ..., 0.7949578 , 0.7824491 ,\n",
       "        0.7812172 ],\n",
       "       [0.7394434 , 0.70412123, 0.7116704 , ..., 0.7583252 , 0.762006  ,\n",
       "        0.7628272 ],\n",
       "       [0.73691654, 0.68927187, 0.7121738 , ..., 0.76075155, 0.77647066,\n",
       "        0.77647066],\n",
       "       ...,\n",
       "       [0.77711135, 0.7467645 , 0.5299389 , ..., 0.74107945, 0.73630846,\n",
       "        0.7163597 ],\n",
       "       [0.49892965, 0.4832146 , 0.5832396 , ..., 0.7372443 , 0.7372549 ,\n",
       "        0.7177541 ],\n",
       "       [0.47350326, 0.4856857 , 0.69686204, ..., 0.73703897, 0.7372549 ,\n",
       "        0.71878076]], dtype=float32)"
      ]
     },
     "execution_count": 11,
     "metadata": {},
     "output_type": "execute_result"
    }
   ],
   "source": [
    "# r \n",
    "img1990[0][:,:,0] "
   ]
  },
  {
   "cell_type": "code",
   "execution_count": 72,
   "id": "c0543aa2-ca0e-4bae-b445-e74c025458c2",
   "metadata": {
    "collapsed": true,
    "jupyter": {
     "outputs_hidden": true
    },
    "scrolled": true
   },
   "outputs": [
    {
     "data": {
      "text/plain": [
       "array([[0.7686275 , 0.7777525 , 0.789272  , ..., 0.8054022 , 0.8270354 ,\n",
       "        0.83423245],\n",
       "       [0.7370344 , 0.7691558 , 0.78438365, ..., 0.8240681 , 0.7973706 ,\n",
       "        0.8216562 ],\n",
       "       [0.7570509 , 0.77237964, 0.78839564, ..., 0.85565567, 0.82455343,\n",
       "        0.8281987 ],\n",
       "       ...,\n",
       "       [0.68235296, 0.68235296, 0.6874857 , ..., 0.76919585, 0.73182493,\n",
       "        0.7420965 ],\n",
       "       [0.68235296, 0.68235296, 0.68642044, ..., 0.77102196, 0.73121625,\n",
       "        0.7428574 ],\n",
       "       [0.68235296, 0.68235296, 0.6853552 , ..., 0.7728481 , 0.7306075 ,\n",
       "        0.7436182 ]], dtype=float32)"
      ]
     },
     "execution_count": 72,
     "metadata": {},
     "output_type": "execute_result"
    }
   ],
   "source": [
    "# g\n",
    "img1990[0][:,:,1] "
   ]
  },
  {
   "cell_type": "code",
   "execution_count": 73,
   "id": "aa2b583f-e461-443d-8f21-e85a0f9af81e",
   "metadata": {
    "collapsed": true,
    "jupyter": {
     "outputs_hidden": true
    },
    "scrolled": true
   },
   "outputs": [
    {
     "data": {
      "text/plain": [
       "array([[0.7686275 , 0.7777525 , 0.789272  , ..., 0.8054022 , 0.8270354 ,\n",
       "        0.83423245],\n",
       "       [0.7370344 , 0.7691558 , 0.78438365, ..., 0.8240681 , 0.7973706 ,\n",
       "        0.8216562 ],\n",
       "       [0.7570509 , 0.77237964, 0.78839564, ..., 0.85565567, 0.82455343,\n",
       "        0.8281987 ],\n",
       "       ...,\n",
       "       [0.68235296, 0.68235296, 0.6874857 , ..., 0.76919585, 0.73182493,\n",
       "        0.7420965 ],\n",
       "       [0.68235296, 0.68235296, 0.68642044, ..., 0.77102196, 0.73121625,\n",
       "        0.7428574 ],\n",
       "       [0.68235296, 0.68235296, 0.6853552 , ..., 0.7728481 , 0.7306075 ,\n",
       "        0.7436182 ]], dtype=float32)"
      ]
     },
     "execution_count": 73,
     "metadata": {},
     "output_type": "execute_result"
    }
   ],
   "source": [
    "# b\n",
    "img1990[0][:,:,1] "
   ]
  },
  {
   "cell_type": "code",
   "execution_count": 12,
   "id": "7e0a4302-c6be-4176-ad09-ba48149956a8",
   "metadata": {},
   "outputs": [],
   "source": [
    "r_1990 = []\n",
    "g_1990 = []\n",
    "b_1990 = []\n",
    "for i in range(48):\n",
    "    r_1990.append(img1990[i][:,:,0])\n",
    "    g_1990.append(img1990[i][:,:,1])\n",
    "    b_1990.append(img1990[i][:,:,2])"
   ]
  },
  {
   "cell_type": "markdown",
   "id": "9e8b4461-04ab-4ca5-a4d9-81c4ba8b2d4f",
   "metadata": {},
   "source": [
    "### r 이미지 특징 행렬"
   ]
  },
  {
   "cell_type": "code",
   "execution_count": 13,
   "id": "f3ead01a-de8b-411f-85c9-c3d0b7230e30",
   "metadata": {},
   "outputs": [
    {
     "data": {
      "text/plain": [
       "(48,)"
      ]
     },
     "execution_count": 13,
     "metadata": {},
     "output_type": "execute_result"
    }
   ],
   "source": [
    "r_1990[0][0].shape"
   ]
  },
  {
   "cell_type": "code",
   "execution_count": 14,
   "id": "c8043afc-a49e-40fd-a7b6-c506698c7127",
   "metadata": {},
   "outputs": [
    {
     "data": {
      "text/plain": [
       "(48, 48)"
      ]
     },
     "execution_count": 14,
     "metadata": {},
     "output_type": "execute_result"
    }
   ],
   "source": [
    "r_1990[47].shape"
   ]
  },
  {
   "cell_type": "code",
   "execution_count": 15,
   "id": "58a13f26-6417-433b-9767-bd2e5f240595",
   "metadata": {},
   "outputs": [],
   "source": [
    "r_vstack = np.vstack(r_1990)"
   ]
  },
  {
   "cell_type": "code",
   "execution_count": 16,
   "id": "8d1dde74-034b-42d1-ad3b-65f54a3d2cbd",
   "metadata": {},
   "outputs": [],
   "source": [
    "r_sample = np.array([])\n",
    "for i in range(48):\n",
    "    r_sample = np.append(r_sample,np.random.choice(r_vstack[:,i]))"
   ]
  },
  {
   "cell_type": "code",
   "execution_count": 17,
   "id": "4debba80-4141-43a2-9ba8-b3f310a29f6d",
   "metadata": {},
   "outputs": [
    {
     "data": {
      "text/plain": [
       "(48,)"
      ]
     },
     "execution_count": 17,
     "metadata": {},
     "output_type": "execute_result"
    }
   ],
   "source": [
    "r_sample.shape"
   ]
  },
  {
   "cell_type": "markdown",
   "id": "456780ca-4ecc-4162-bd8b-056c80902a8d",
   "metadata": {},
   "source": [
    "### g 이미지 특징 행렬"
   ]
  },
  {
   "cell_type": "code",
   "execution_count": 18,
   "id": "4c5e57a4-6dd4-45a4-8476-a18c3b53bdc3",
   "metadata": {},
   "outputs": [],
   "source": [
    "g_vstack = np.vstack(g_1990)"
   ]
  },
  {
   "cell_type": "code",
   "execution_count": 19,
   "id": "58a1b883-c347-477b-9902-ef1113ba16e1",
   "metadata": {},
   "outputs": [],
   "source": [
    "g_sample = np.array([])\n",
    "for i in range(48):\n",
    "    g_sample = np.append(g_sample,np.random.choice(g_vstack[:,i]))"
   ]
  },
  {
   "cell_type": "markdown",
   "id": "71315ed1-33cc-4fe3-96d0-765ae347f1a4",
   "metadata": {},
   "source": [
    "### b 이미지 특징 행렬"
   ]
  },
  {
   "cell_type": "code",
   "execution_count": 20,
   "id": "5c925ae9-67e0-46d1-a644-de0b9279805c",
   "metadata": {},
   "outputs": [],
   "source": [
    "b_vstack = np.vstack(b_1990)"
   ]
  },
  {
   "cell_type": "code",
   "execution_count": 21,
   "id": "f2cb0537-201b-4b0c-b4ae-5eff303180ec",
   "metadata": {},
   "outputs": [],
   "source": [
    "b_sample = np.array([])\n",
    "for i in range(48):\n",
    "    b_sample = np.append(b_sample,np.random.choice(b_vstack[:,i]))"
   ]
  },
  {
   "cell_type": "code",
   "execution_count": 22,
   "id": "34740f81-deaf-4339-b58f-8a34d16b7b04",
   "metadata": {
    "scrolled": true
   },
   "outputs": [
    {
     "data": {
      "text/plain": [
       "((48,), (48,), (48,))"
      ]
     },
     "execution_count": 22,
     "metadata": {},
     "output_type": "execute_result"
    }
   ],
   "source": [
    "r_sample.shape, g_sample.shape, b_sample.shape"
   ]
  },
  {
   "cell_type": "code",
   "execution_count": 23,
   "id": "630c25fc-9157-4244-b40f-e284e1f4cd2d",
   "metadata": {
    "scrolled": true
   },
   "outputs": [
    {
     "data": {
      "text/plain": [
       "array([[0.48235297, 0.15484183, 0.94672585],\n",
       "       [0.15442425, 0.95669645, 0.93499821],\n",
       "       [0.98778141, 0.8188861 , 0.57183439],\n",
       "       [0.64830786, 0.78285128, 0.5196501 ],\n",
       "       [0.9908638 , 0.2753365 , 0.02611405],\n",
       "       [0.02858193, 0.99587637, 0.84873623],\n",
       "       [0.55843592, 0.87282777, 0.66252208],\n",
       "       [0.14135331, 0.87027538, 0.46339869],\n",
       "       [0.99410367, 0.95547086, 0.56862748],\n",
       "       [0.98775262, 0.81927061, 0.70192665],\n",
       "       [0.93900305, 0.39152721, 0.87102395],\n",
       "       [0.63496393, 0.1137255 , 0.65032482],\n",
       "       [0.32739213, 0.9213205 , 0.91205901],\n",
       "       [0.79176342, 0.48661608, 0.85797989],\n",
       "       [0.73280936, 0.27731565, 0.33986327],\n",
       "       [0.99048269, 0.27698165, 0.08721811],\n",
       "       [0.99507028, 0.8867932 , 0.38110179],\n",
       "       [0.4720878 , 0.03280047, 0.79527706],\n",
       "       [0.68821526, 0.14457332, 0.48831546],\n",
       "       [0.99714106, 0.86327159, 0.88762122],\n",
       "       [0.60012043, 1.        , 0.2949051 ],\n",
       "       [0.52198374, 0.83408046, 0.99083948],\n",
       "       [0.97973096, 0.34242037, 0.51653719],\n",
       "       [0.44743744, 0.08676751, 0.77157116],\n",
       "       [0.99963194, 0.9424324 , 0.77634615],\n",
       "       [0.74519002, 0.22790809, 0.292835  ],\n",
       "       [0.45282978, 0.52891636, 0.65421695],\n",
       "       [0.82005864, 0.16938145, 0.95629996],\n",
       "       [0.65589565, 0.86959207, 0.003353  ],\n",
       "       [0.90571451, 0.49247468, 0.5330984 ],\n",
       "       [0.43426138, 0.84959263, 0.8572244 ],\n",
       "       [0.13146032, 0.7648558 , 0.943618  ],\n",
       "       [0.07042702, 0.38591373, 0.85715294],\n",
       "       [0.8827343 , 0.98523122, 0.89700645],\n",
       "       [0.15889469, 0.66879624, 0.32049662],\n",
       "       [0.94904834, 0.86369622, 0.77597034],\n",
       "       [0.80335689, 0.1797372 , 0.5563854 ],\n",
       "       [0.21948862, 0.14191388, 0.66908264],\n",
       "       [0.53609872, 0.97092491, 0.51584458],\n",
       "       [0.99718308, 0.5451377 , 0.05003327],\n",
       "       [0.30007473, 1.        , 0.98039222],\n",
       "       [0.59424347, 0.89853764, 0.34225419],\n",
       "       [0.87353927, 0.10907092, 0.06777833],\n",
       "       [0.94409984, 0.91398448, 0.61421669],\n",
       "       [0.30101663, 0.94051486, 0.84705889],\n",
       "       [0.83114582, 0.99215692, 0.52048761],\n",
       "       [0.57978457, 0.66670537, 0.82532042],\n",
       "       [0.98192179, 0.99963665, 0.23494856]])"
      ]
     },
     "execution_count": 23,
     "metadata": {},
     "output_type": "execute_result"
    }
   ],
   "source": [
    "np.stack([r_sample,g_sample,b_sample], axis=-1)"
   ]
  },
  {
   "cell_type": "code",
   "execution_count": 24,
   "id": "53abcbb9-843a-49e9-bc7c-c9d4afd4420d",
   "metadata": {},
   "outputs": [
    {
     "data": {
      "text/plain": [
       "((48, 48, 3), (48, 3), (3,))"
      ]
     },
     "execution_count": 24,
     "metadata": {},
     "output_type": "execute_result"
    }
   ],
   "source": [
    "img2010[3].shape, img2010[3][0].shape, img2010[3][0][0].shape"
   ]
  },
  {
   "cell_type": "markdown",
   "id": "e4be5f3b-31c3-4178-9096-ec4ec5330668",
   "metadata": {},
   "source": [
    "### 히스토그램"
   ]
  },
  {
   "cell_type": "code",
   "execution_count": 25,
   "id": "2a098aba-3bc9-4d15-98c7-8031deee6963",
   "metadata": {},
   "outputs": [
    {
     "data": {
      "image/png": "[encoded data removed]",
      "text/plain": [
       "<Figure size 1200x1200 with 16 Axes>"
      ]
     },
     "metadata": {},
     "output_type": "display_data"
    }
   ],
   "source": [
    "# 4x4 그리드의 서브플롯 생성\n",
    "fig, axs = plt.subplots(4, 4, figsize=(12, 12))\n",
    "\n",
    "# r_1990 배열에서 데이터 추출 및 히스토그램 그리기\n",
    "for i in range(4):\n",
    "    for j in range(4):\n",
    "        axs[i, j].hist(r_1990[4 * i + j], bins=20,alpha=0.7)\n",
    "        axs[i, j].set_title(f'Subplot {4 * i + j + 1}')\n",
    "\n",
    "plt.tight_layout()  # 서브플롯 간 간격 조절\n",
    "plt.show()"
   ]
  },
  {
   "cell_type": "markdown",
   "id": "da6f73e1-f49f-440f-ade9-f7cf8a0180e4",
   "metadata": {},
   "source": [
    "### 분포에서 뽑은 걸로 이미지 생성"
   ]
  },
  {
   "cell_type": "code",
   "execution_count": 46,
   "id": "cfc8ef8a-63e7-4718-b1f7-018f59121618",
   "metadata": {},
   "outputs": [],
   "source": [
    "# 초기화할 때 (48, 48, 3) 모양의 3차원 배열로 시작\n",
    "sample1990 = np.zeros((48, 48, 3), dtype=np.float32)\n",
    "lst = []\n",
    "np.random.seed(45)\n",
    "for k in range(48):\n",
    "    r_sample = np.array([])\n",
    "    g_sample = np.array([])\n",
    "    b_sample = np.array([])\n",
    "    \n",
    "    for i in range(48):\n",
    "\n",
    "        r_sample = np.append(r_sample, np.random.choice(r_vstack[:, i]))\n",
    "        g_sample = np.append(g_sample, np.random.choice(g_vstack[:, i]))\n",
    "        b_sample = np.append(b_sample, np.random.choice(b_vstack[:, i]))\n",
    "    \n",
    "    sample_ = np.stack([r_sample, g_sample, b_sample], axis=-1)\n",
    "\n",
    "    \n",
    "    # (k, :, :) 위치에 데이터 추가\n",
    "    sample1990[k, :, :] = sample_\n"
   ]
  },
  {
   "cell_type": "code",
   "execution_count": 47,
   "id": "61bf5795-ddeb-4222-bbe6-867004da1614",
   "metadata": {},
   "outputs": [
    {
     "data": {
      "text/plain": [
       "(48, 48, 3)"
      ]
     },
     "execution_count": 47,
     "metadata": {},
     "output_type": "execute_result"
    }
   ],
   "source": [
    "sample1990.shape"
   ]
  },
  {
   "cell_type": "code",
   "execution_count": 198,
   "id": "544ca04a-8a32-42ba-a675-40df36f6f784",
   "metadata": {},
   "outputs": [],
   "source": [
    "# r_sample = np.array([])\n",
    "# g_sample = np.array([])\n",
    "# b_sample = np.array([])\n",
    "\n",
    "# sample1990 = np.empty((48, 3), dtype=np.float32)\n",
    "# for k in range(48):\n",
    "    \n",
    "#     for i in range(48):\n",
    "#         np.random.seed(i)\n",
    "#         r_sample = np.append(r_sample,np.random.choice(r_vstack[:,i]))\n",
    "#         g_sample = np.append(g_sample,np.random.choice(g_vstack[:,i]))\n",
    "#         b_sample = np.append(b_sample,np.random.choice(b_vstack[:,i]))\n",
    "#     sample_ = np.stack([r_sample,g_sample,b_sample], axis=-1)\n",
    "#     sample1990 = np.stack([sample1990, sample_] )"
   ]
  },
  {
   "cell_type": "code",
   "execution_count": 49,
   "id": "52fc0614-bec2-4964-8365-4201dc6e22ee",
   "metadata": {},
   "outputs": [
    {
     "data": {
      "text/plain": [
       "(48, 48, 3)"
      ]
     },
     "execution_count": 49,
     "metadata": {},
     "output_type": "execute_result"
    }
   ],
   "source": [
    "sample1990.shape"
   ]
  },
  {
   "cell_type": "code",
   "execution_count": 48,
   "id": "d871e997-1b7a-49d1-8464-4b7857869263",
   "metadata": {},
   "outputs": [
    {
     "data": {
      "text/plain": [
       "(48, 48, 3)"
      ]
     },
     "execution_count": 48,
     "metadata": {},
     "output_type": "execute_result"
    }
   ],
   "source": [
    "img1990[0].shape"
   ]
  },
  {
   "cell_type": "code",
   "execution_count": 50,
   "id": "06231b9b-0fa8-4300-8153-051f22ec60df",
   "metadata": {},
   "outputs": [
    {
     "data": {
      "text/plain": [
       "<matplotlib.image.AxesImage at 0x22d488bc5e0>"
      ]
     },
     "execution_count": 50,
     "metadata": {},
     "output_type": "execute_result"
    },
    {
     "data": {
      "image/png": "[encoded data removed]",
      "text/plain": [
       "<Figure size 640x480 with 1 Axes>"
      ]
     },
     "metadata": {},
     "output_type": "display_data"
    }
   ],
   "source": [
    "plt.imshow(sample1990)"
   ]
  },
  {
   "cell_type": "code",
   "execution_count": null,
   "id": "dddf0692-79d3-46cb-b81a-a89709654e61",
   "metadata": {},
   "outputs": [],
   "source": [
    "# 초기화할 때 (48, 48, 3) 모양의 3차원 배열로 시작\n",
    "sample1990 = np.zeros((48, 48, 3), dtype=np.float32)\n",
    "lst = []\n",
    "np.random.seed(45)\n",
    "for k in range(48):\n",
    "    r_sample = np.array([])\n",
    "    g_sample = np.array([])\n",
    "    b_sample = np.array([])\n",
    "    \n",
    "    for i in range(48):\n",
    "\n",
    "        r_sample = np.append(r_sample, np.random.choice(r_vstack[:, i]))\n",
    "        g_sample = np.append(g_sample, np.random.choice(g_vstack[:, i]))\n",
    "        b_sample = np.append(b_sample, np.random.choice(b_vstack[:, i]))\n",
    "    \n",
    "    sample_ = np.stack([r_sample, g_sample, b_sample], axis=-1)\n",
    "\n",
    "    \n",
    "    # (k, :, :) 위치에 데이터 추가\n",
    "    sample1990[k, :, :] = sample_\n"
   ]
  },
  {
   "cell_type": "code",
   "execution_count": 33,
   "id": "78fd3d45-b85b-481e-90f8-0e14f3c73f34",
   "metadata": {},
   "outputs": [
    {
     "data": {
      "text/plain": [
       "<matplotlib.image.AxesImage at 0x22d46a189a0>"
      ]
     },
     "execution_count": 33,
     "metadata": {},
     "output_type": "execute_result"
    },
    {
     "data": {
      "image/png": "[encoded data removed]",
      "text/plain": [
       "<Figure size 640x480 with 1 Axes>"
      ]
     },
     "metadata": {},
     "output_type": "display_data"
    }
   ],
   "source": [
    "plt.imshow(img1990[5])"
   ]
  },
  {
   "cell_type": "markdown",
   "id": "94030b63-68e7-4c24-b16b-20fdf40fb7e7",
   "metadata": {},
   "source": [
    "### VGG16 모델 불러오기"
   ]
  },
  {
   "cell_type": "code",
   "execution_count": 38,
   "id": "6dfbfd3e-a12b-4d9e-a59a-370eaba643db",
   "metadata": {},
   "outputs": [],
   "source": [
    "transfer_model = VGG16(weights='imagenet', include_top = False, input_shape=(48,48,3))\n",
    "transfer_model.trainable = False"
   ]
  },
  {
   "cell_type": "markdown",
   "id": "3909388b-fd96-4164-8b1d-6f2a99067e6b",
   "metadata": {},
   "source": [
    "### 전이학습1"
   ]
  },
  {
   "cell_type": "code",
   "execution_count": 39,
   "id": "c4540a81-932e-4502-8ef5-3713ba8dbcab",
   "metadata": {},
   "outputs": [],
   "source": [
    "finetune_model = Sequential()\n",
    "finetune_model.add(transfer_model)\n",
    "finetune_model.add(Flatten())\n",
    "finetune_model.add(Dense(64, activation='relu'))\n",
    "finetune_model.add(Dropout(0.5))\n",
    "finetune_model.add(Dense(3, activation = 'softmax'))"
   ]
  },
  {
   "cell_type": "code",
   "execution_count": 40,
   "id": "d17528e9-789d-4fe9-b77e-1c0bc8f246fe",
   "metadata": {},
   "outputs": [
    {
     "name": "stdout",
     "output_type": "stream",
     "text": [
      "Model: \"sequential_1\"\n",
      "_________________________________________________________________\n",
      " Layer (type)                Output Shape              Param #   \n",
      "=================================================================\n",
      " vgg16 (Functional)          (None, 1, 1, 512)         14714688  \n",
      "                                                                 \n",
      " flatten (Flatten)           (None, 512)               0         \n",
      "                                                                 \n",
      " dense (Dense)               (None, 64)                32832     \n",
      "                                                                 \n",
      " dropout (Dropout)           (None, 64)                0         \n",
      "                                                                 \n",
      " dense_1 (Dense)             (None, 3)                 195       \n",
      "                                                                 \n",
      "=================================================================\n",
      "Total params: 14,747,715\n",
      "Trainable params: 33,027\n",
      "Non-trainable params: 14,714,688\n",
      "_________________________________________________________________\n"
     ]
    }
   ],
   "source": [
    "finetune_model.summary()"
   ]
  },
  {
   "cell_type": "code",
   "execution_count": 41,
   "id": "f3dde05c-7c21-4f9e-a42b-a8615c496159",
   "metadata": {},
   "outputs": [],
   "source": [
    "finetune_model.compile(optimizer='adam', loss='categorical_crossentropy', metrics=['accuracy'])"
   ]
  },
  {
   "cell_type": "code",
   "execution_count": 43,
   "id": "eae9d3e1-5881-4a32-a921-7735e51441c4",
   "metadata": {},
   "outputs": [],
   "source": [
    "early_stop = EarlyStopping(monitor='val_loss', patience = 5, min_delta = 0.05)"
   ]
  },
  {
   "cell_type": "code",
   "execution_count": 31,
   "id": "baded4d9-0119-4b5a-acd7-ee5561a763c0",
   "metadata": {},
   "outputs": [
    {
     "data": {
      "text/plain": [
       "array([[1., 0., 0.],\n",
       "       [1., 0., 0.],\n",
       "       [1., 0., 0.],\n",
       "       ...,\n",
       "       [0., 0., 1.],\n",
       "       [0., 0., 1.],\n",
       "       [0., 0., 1.]], dtype=float32)"
      ]
     },
     "execution_count": 31,
     "metadata": {},
     "output_type": "execute_result"
    }
   ],
   "source": [
    "all_labels_ = np.vstack(all_labels)\n",
    "all_labels_"
   ]
  },
  {
   "cell_type": "code",
   "execution_count": 30,
   "id": "024d7f9c-a84d-4b6b-b89e-78a3e722eb95",
   "metadata": {},
   "outputs": [],
   "source": [
    "all_ = np.stack(all_images)"
   ]
  },
  {
   "cell_type": "code",
   "execution_count": 310,
   "id": "d0442163-1102-49f1-97ae-d7135be70277",
   "metadata": {},
   "outputs": [
    {
     "data": {
      "text/plain": [
       "((2996, 48, 48, 3), (2996, 3))"
      ]
     },
     "execution_count": 310,
     "metadata": {},
     "output_type": "execute_result"
    }
   ],
   "source": [
    "all_.shape, all_labels_.shape"
   ]
  },
  {
   "cell_type": "code",
   "execution_count": 311,
   "id": "8c3a24d5-0553-4bd4-ab4f-2940fc52801a",
   "metadata": {
    "scrolled": true
   },
   "outputs": [
    {
     "name": "stdout",
     "output_type": "stream",
     "text": [
      "Epoch 1/50\n",
      "75/75 [==============================] - 14s 170ms/step - loss: 1.0854 - accuracy: 0.4157 - val_loss: 1.5921 - val_accuracy: 0.0167\n",
      "Epoch 2/50\n",
      "75/75 [==============================] - 16s 211ms/step - loss: 0.9901 - accuracy: 0.4946 - val_loss: 1.7639 - val_accuracy: 0.0183\n",
      "Epoch 3/50\n",
      "75/75 [==============================] - 14s 190ms/step - loss: 0.9661 - accuracy: 0.5259 - val_loss: 1.8575 - val_accuracy: 0.0267\n",
      "Epoch 4/50\n",
      "75/75 [==============================] - 15s 201ms/step - loss: 0.9373 - accuracy: 0.5413 - val_loss: 1.7140 - val_accuracy: 0.0783\n",
      "Epoch 5/50\n",
      "75/75 [==============================] - 14s 190ms/step - loss: 0.9217 - accuracy: 0.5588 - val_loss: 1.8747 - val_accuracy: 0.0467\n",
      "Epoch 6/50\n",
      "75/75 [==============================] - 15s 194ms/step - loss: 0.8979 - accuracy: 0.5856 - val_loss: 1.5822 - val_accuracy: 0.1250\n"
     ]
    }
   ],
   "source": [
    "result = finetune_model.fit(all_, all_labels_,epochs = 50,\n",
    "                           validation_split=0.2,\n",
    "                           callbacks=[early_stop])"
   ]
  },
  {
   "cell_type": "code",
   "execution_count": null,
   "id": "33a41a1e-8c5e-4043-895e-8e5cc6fa9f67",
   "metadata": {},
   "outputs": [
    {
     "name": "stdout",
     "output_type": "stream",
     "text": [
      "Epoch 1/5\n",
      "346/346 [==============================] - 3476s 10s/step - loss: 1.0225 - accuracy: 0.4844 - val_loss: 0.9375 - val_accuracy: 0.5569\n",
      "Epoch 2/5\n",
      "  4/346 [..............................] - ETA: 47:58 - loss: 0.9888 - accuracy: 0.5175"
     ]
    }
   ],
   "source": [
    "result = finetune_model.fit(new_img, new_label,epochs = 5,batch_size=1000,\n",
    "                           validation_split=0.2,\n",
    "                           callbacks=[early_stop])"
   ]
  },
  {
   "cell_type": "code",
   "execution_count": 312,
   "id": "a7cdc3e7-b09f-4b33-95f6-44df849cae02",
   "metadata": {},
   "outputs": [],
   "source": [
    "# # 커스텀 모델의 중간 레이어 선택 (예: Dense 레이어 직전)\n",
    "# selected_layer = finetune_model.get_layer('dense_1')  # 예시: 'dense_1'은 원하는 레이어 이름\n",
    "\n",
    "# # 중간 레이어의 출력을 추출하는 새로운 모델 생성\n",
    "# feature_extraction_model = Model(inputs=finetune_model.input, outputs=selected_layer.output)"
   ]
  },
  {
   "cell_type": "markdown",
   "id": "382062c8-6de3-4579-afbb-5322cace182b",
   "metadata": {},
   "source": [
    "### 전이학습2"
   ]
  },
  {
   "cell_type": "code",
   "execution_count": 7,
   "id": "c33aa4b1-7ba9-4035-a222-628f4fd6c0c2",
   "metadata": {},
   "outputs": [],
   "source": [
    "from keras.layers import Dense, Conv2D, Flatten, Dropout, MaxPool2D"
   ]
  },
  {
   "cell_type": "code",
   "execution_count": 22,
   "id": "c45142eb-fc6a-4664-acdc-fc42304c05ec",
   "metadata": {
    "scrolled": true
   },
   "outputs": [
    {
     "name": "stdout",
     "output_type": "stream",
     "text": [
      "Model: \"vgg16\"\n",
      "_________________________________________________________________\n",
      " Layer (type)                Output Shape              Param #   \n",
      "=================================================================\n",
      " input_4 (InputLayer)        [(None, 48, 48, 3)]       0         \n",
      "                                                                 \n",
      " block1_conv1 (Conv2D)       (None, 48, 48, 64)        1792      \n",
      "                                                                 \n",
      " block1_conv2 (Conv2D)       (None, 48, 48, 64)        36928     \n",
      "                                                                 \n",
      " block1_pool (MaxPooling2D)  (None, 24, 24, 64)        0         \n",
      "                                                                 \n",
      " block2_conv1 (Conv2D)       (None, 24, 24, 128)       73856     \n",
      "                                                                 \n",
      " block2_conv2 (Conv2D)       (None, 24, 24, 128)       147584    \n",
      "                                                                 \n",
      " block2_pool (MaxPooling2D)  (None, 12, 12, 128)       0         \n",
      "                                                                 \n",
      " block3_conv1 (Conv2D)       (None, 12, 12, 256)       295168    \n",
      "                                                                 \n",
      " block3_conv2 (Conv2D)       (None, 12, 12, 256)       590080    \n",
      "                                                                 \n",
      " block3_conv3 (Conv2D)       (None, 12, 12, 256)       590080    \n",
      "                                                                 \n",
      " block3_pool (MaxPooling2D)  (None, 6, 6, 256)         0         \n",
      "                                                                 \n",
      " block4_conv1 (Conv2D)       (None, 6, 6, 512)         1180160   \n",
      "                                                                 \n",
      " block4_conv2 (Conv2D)       (None, 6, 6, 512)         2359808   \n",
      "                                                                 \n",
      " block4_conv3 (Conv2D)       (None, 6, 6, 512)         2359808   \n",
      "                                                                 \n",
      " block4_pool (MaxPooling2D)  (None, 3, 3, 512)         0         \n",
      "                                                                 \n",
      " block5_conv1 (Conv2D)       (None, 3, 3, 512)         2359808   \n",
      "                                                                 \n",
      " block5_conv2 (Conv2D)       (None, 3, 3, 512)         2359808   \n",
      "                                                                 \n",
      " block5_conv3 (Conv2D)       (None, 3, 3, 512)         2359808   \n",
      "                                                                 \n",
      " block5_pool (MaxPooling2D)  (None, 1, 1, 512)         0         \n",
      "                                                                 \n",
      "=================================================================\n",
      "Total params: 14,714,688\n",
      "Trainable params: 0\n",
      "Non-trainable params: 14,714,688\n",
      "_________________________________________________________________\n"
     ]
    }
   ],
   "source": [
    "transfer_model = VGG16(weights='imagenet', include_top=False, input_shape=(48,48,3))\n",
    "transfer_model.trainable = False\n",
    "transfer_model.summary()"
   ]
  },
  {
   "cell_type": "code",
   "execution_count": 33,
   "id": "86cd8333-69bb-4c7e-80fb-57778b495538",
   "metadata": {},
   "outputs": [],
   "source": [
    "model1=Sequential(name='cnn')\n",
    "model1.add(transfer_model)\n",
    "model1.add(Flatten())\n",
    "model1.add(Dense(100, activation='relu'))\n",
    "model1.add(Flatten())\n",
    "model1.add(Dense(100, activation='relu'))\n",
    "model1.add(Dense(3,activation='softmax', name='output'))"
   ]
  },
  {
   "cell_type": "code",
   "execution_count": 34,
   "id": "3fbfe65f-7800-4a7f-8e34-7442221e1202",
   "metadata": {},
   "outputs": [
    {
     "name": "stdout",
     "output_type": "stream",
     "text": [
      "Model: \"cnn\"\n",
      "_________________________________________________________________\n",
      " Layer (type)                Output Shape              Param #   \n",
      "=================================================================\n",
      " vgg16 (Functional)          (None, 1, 1, 512)         14714688  \n",
      "                                                                 \n",
      " flatten_11 (Flatten)        (None, 512)               0         \n",
      "                                                                 \n",
      " dense_9 (Dense)             (None, 100)               51300     \n",
      "                                                                 \n",
      " flatten_12 (Flatten)        (None, 100)               0         \n",
      "                                                                 \n",
      " dense_10 (Dense)            (None, 100)               10100     \n",
      "                                                                 \n",
      " output (Dense)              (None, 3)                 303       \n",
      "                                                                 \n",
      "=================================================================\n",
      "Total params: 14,776,391\n",
      "Trainable params: 61,703\n",
      "Non-trainable params: 14,714,688\n",
      "_________________________________________________________________\n"
     ]
    }
   ],
   "source": [
    "model1.summary()"
   ]
  },
  {
   "cell_type": "code",
   "execution_count": 35,
   "id": "8a266b5c-c5fb-47f8-932a-2e62f358784f",
   "metadata": {},
   "outputs": [],
   "source": [
    "model1.compile(optimizer='adam', loss='categorical_crossentropy',metrics=['accuracy'])"
   ]
  },
  {
   "cell_type": "code",
   "execution_count": 46,
   "id": "251ecc73-33df-44e7-9ec5-6a1bb4e2ca1d",
   "metadata": {},
   "outputs": [],
   "source": [
    "from keras.callbacks import EarlyStopping, ModelCheckpoint,LearningRateScheduler\n",
    "model_path = './models/'\n",
    "model_file = model_path + 'fashion.h5'\n",
    "mcCB=ModelCheckpoint(model_file,save_best_only=True)\n",
    "esCB=EarlyStopping(patience=5)\n",
    "def scheduler(epoch,lr):\n",
    "    if epoch > 10:\n",
    "        return 0.00001\n",
    "    else:\n",
    "        return lr\n",
    "lrDB = LearningRateScheduler(scheduler)"
   ]
  },
  {
   "cell_type": "code",
   "execution_count": 47,
   "id": "75b77687-c0f5-43fe-86cf-39f93b9a5827",
   "metadata": {},
   "outputs": [
    {
     "name": "stdout",
     "output_type": "stream",
     "text": [
      "Epoch 1/1000\n",
      "48/48 [==============================] - 13s 283ms/step - loss: 0.0166 - accuracy: 0.9987 - val_loss: 5.3479 - val_accuracy: 0.1733 - lr: 0.0010\n",
      "Epoch 2/1000\n",
      "48/48 [==============================] - 15s 307ms/step - loss: 0.0127 - accuracy: 0.9996 - val_loss: 5.4636 - val_accuracy: 0.1833 - lr: 0.0010\n",
      "Epoch 3/1000\n",
      "48/48 [==============================] - 16s 334ms/step - loss: 0.0104 - accuracy: 0.9996 - val_loss: 5.5141 - val_accuracy: 0.1900 - lr: 0.0010\n",
      "Epoch 4/1000\n",
      "48/48 [==============================] - 16s 340ms/step - loss: 0.0095 - accuracy: 0.9996 - val_loss: 5.6507 - val_accuracy: 0.1900 - lr: 0.0010\n",
      "Epoch 5/1000\n",
      "48/48 [==============================] - 16s 334ms/step - loss: 0.0091 - accuracy: 0.9996 - val_loss: 5.7512 - val_accuracy: 0.1883 - lr: 0.0010\n",
      "Epoch 6/1000\n",
      "48/48 [==============================] - 17s 347ms/step - loss: 0.0080 - accuracy: 0.9996 - val_loss: 6.3422 - val_accuracy: 0.1700 - lr: 0.0010\n"
     ]
    }
   ],
   "source": [
    "result=model1.fit(all_, all_labels_, batch_size=50, epochs=1000, validation_split=0.2, callbacks=[mcCB,esCB,lrDB])"
   ]
  },
  {
   "cell_type": "code",
   "execution_count": 48,
   "id": "44be485a-e109-4f59-861f-59070211f350",
   "metadata": {},
   "outputs": [],
   "source": [
    "# 입력 이미지 크기 설정\n",
    "input_shape = (224, 224, 3)\n",
    "\n",
    "# VGG16 모델 로드\n",
    "base_model = VGG16(weights='imagenet', include_top=False, input_shape=input_shape)\n",
    "\n",
    "# Sequential 모델 생성\n",
    "model = Sequential()\n",
    "\n",
    "# VGG16 모델 추가\n",
    "model.add(base_model)\n",
    "\n",
    "# Flatten 및 Dense 레이어 추가\n",
    "model.add(Flatten())\n",
    "model.add(Dense(256, activation='relu'))\n",
    "model.add(Dense(512, activation='relu'))\n",
    "model.add(Dense(1024, activation='relu'))\n",
    "model.add(Dense(256, activation='relu'))\n",
    "model.add(Dense(3, activation='softmax'))  # 분류 클래스 수에 맞게 조정\n",
    "\n",
    "# 모델 컴파일\n",
    "model.compile(loss='categorical_crossentropy', optimizer='adam', metrics=['accuracy'])"
   ]
  },
  {
   "cell_type": "code",
   "execution_count": null,
   "id": "1209d9a2-9550-4a2b-9ad4-8362fadbce05",
   "metadata": {},
   "outputs": [
    {
     "name": "stdout",
     "output_type": "stream",
     "text": [
      "Epoch 1/1000\n",
      "48/48 [==============================] - 22s 471ms/step - loss: 0.0102 - accuracy: 0.9987 - val_loss: 6.1921 - val_accuracy: 0.1850 - lr: 0.0010\n",
      "Epoch 2/1000\n",
      "48/48 [==============================] - 26s 554ms/step - loss: 0.0075 - accuracy: 0.9992 - val_loss: 5.8160 - val_accuracy: 0.2150 - lr: 0.0010\n",
      "Epoch 3/1000\n",
      "48/48 [==============================] - 30s 625ms/step - loss: 0.0065 - accuracy: 0.9992 - val_loss: 6.6350 - val_accuracy: 0.1733 - lr: 0.0010\n",
      "Epoch 4/1000\n",
      "48/48 [==============================] - 24s 494ms/step - loss: 0.0044 - accuracy: 1.0000 - val_loss: 6.3254 - val_accuracy: 0.1933 - lr: 0.0010\n",
      "Epoch 5/1000\n",
      "43/48 [=========================>....] - ETA: 1s - loss: 0.0037 - accuracy: 1.0000"
     ]
    }
   ],
   "source": [
    "result=model1.fit(all_, all_labels_, batch_size=50, epochs=1000, validation_split=0.2, callbacks=[mcCB,esCB,lrDB])"
   ]
  },
  {
   "cell_type": "code",
   "execution_count": null,
   "id": "56e87e0a-9279-4f60-b191-ea84ae645bbf",
   "metadata": {},
   "outputs": [],
   "source": []
  },
  {
   "cell_type": "code",
   "execution_count": null,
   "id": "b85f7658-e2fc-4d82-bb7b-fc86d2a2acd6",
   "metadata": {},
   "outputs": [],
   "source": []
  }
 ],
 "metadata": {
  "kernelspec": {
   "display_name": "Python 3 (ipykernel)",
   "language": "python",
   "name": "python3"
  },
  "language_info": {
   "codemirror_mode": {
    "name": "ipython",
    "version": 3
   },
   "file_extension": ".py",
   "mimetype": "text/x-python",
   "name": "python",
   "nbconvert_exporter": "python",
   "pygments_lexer": "ipython3",
   "version": "3.9.12"
  }
 },
 "nbformat": 4,
 "nbformat_minor": 5
}

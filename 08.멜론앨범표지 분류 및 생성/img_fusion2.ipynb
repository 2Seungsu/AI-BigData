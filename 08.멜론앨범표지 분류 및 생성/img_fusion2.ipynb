{
 "cells": [
  {
   "cell_type": "markdown",
   "id": "03262b4f-b36e-49d6-b342-9c82aebde992",
   "metadata": {},
   "source": [
    "### 이미지 데이터 불러오기"
   ]
  },
  {
   "cell_type": "code",
   "execution_count": 1,
   "id": "6255ac02-62d9-471c-9015-b9147430fd7d",
   "metadata": {
    "scrolled": true
   },
   "outputs": [
    {
     "data": {
      "text/plain": [
       "['image1',\n",
       " 'image10',\n",
       " 'image100',\n",
       " 'image101',\n",
       " 'image102',\n",
       " 'image103',\n",
       " 'image104',\n",
       " 'image105',\n",
       " 'image106',\n",
       " 'image107',\n",
       " 'image108',\n",
       " 'image109',\n",
       " 'image11',\n",
       " 'image110',\n",
       " 'image111',\n",
       " 'image112',\n",
       " 'image113',\n",
       " 'image114',\n",
       " 'image115',\n",
       " 'image116',\n",
       " 'image117',\n",
       " 'image118',\n",
       " 'image119',\n",
       " 'image12',\n",
       " 'image120',\n",
       " 'image121',\n",
       " 'image122',\n",
       " 'image123',\n",
       " 'image124',\n",
       " 'image125',\n",
       " 'image126',\n",
       " 'image127',\n",
       " 'image128',\n",
       " 'image129',\n",
       " 'image13',\n",
       " 'image130',\n",
       " 'image131',\n",
       " 'image132',\n",
       " 'image133',\n",
       " 'image134',\n",
       " 'image135',\n",
       " 'image136',\n",
       " 'image137',\n",
       " 'image138',\n",
       " 'image139',\n",
       " 'image14',\n",
       " 'image140',\n",
       " 'image141',\n",
       " 'image142',\n",
       " 'image143',\n",
       " 'image144',\n",
       " 'image145',\n",
       " 'image146',\n",
       " 'image147',\n",
       " 'image148',\n",
       " 'image149',\n",
       " 'image15',\n",
       " 'image150',\n",
       " 'image151',\n",
       " 'image152',\n",
       " 'image153',\n",
       " 'image154',\n",
       " 'image155',\n",
       " 'image156',\n",
       " 'image157',\n",
       " 'image158',\n",
       " 'image159',\n",
       " 'image16',\n",
       " 'image160',\n",
       " 'image161',\n",
       " 'image162',\n",
       " 'image163',\n",
       " 'image164',\n",
       " 'image165',\n",
       " 'image166',\n",
       " 'image167',\n",
       " 'image168',\n",
       " 'image169',\n",
       " 'image17',\n",
       " 'image170',\n",
       " 'image171',\n",
       " 'image172',\n",
       " 'image173',\n",
       " 'image174',\n",
       " 'image175',\n",
       " 'image176',\n",
       " 'image177',\n",
       " 'image178',\n",
       " 'image179',\n",
       " 'image18',\n",
       " 'image180',\n",
       " 'image181',\n",
       " 'image182',\n",
       " 'image183',\n",
       " 'image184',\n",
       " 'image185',\n",
       " 'image186',\n",
       " 'image187',\n",
       " 'image188',\n",
       " 'image189',\n",
       " 'image19',\n",
       " 'image190',\n",
       " 'image191',\n",
       " 'image192',\n",
       " 'image2',\n",
       " 'image20',\n",
       " 'image21',\n",
       " 'image22',\n",
       " 'image23',\n",
       " 'image24',\n",
       " 'image25',\n",
       " 'image26',\n",
       " 'image27',\n",
       " 'image28',\n",
       " 'image29',\n",
       " 'image3',\n",
       " 'image30',\n",
       " 'image31',\n",
       " 'image32',\n",
       " 'image33',\n",
       " 'image34',\n",
       " 'image35',\n",
       " 'image36',\n",
       " 'image37',\n",
       " 'image38',\n",
       " 'image39',\n",
       " 'image4',\n",
       " 'image40',\n",
       " 'image41',\n",
       " 'image42',\n",
       " 'image43',\n",
       " 'image44',\n",
       " 'image45',\n",
       " 'image46',\n",
       " 'image47',\n",
       " 'image48',\n",
       " 'image49',\n",
       " 'image5',\n",
       " 'image50',\n",
       " 'image51',\n",
       " 'image52',\n",
       " 'image53',\n",
       " 'image54',\n",
       " 'image55',\n",
       " 'image56',\n",
       " 'image57',\n",
       " 'image58',\n",
       " 'image59',\n",
       " 'image6',\n",
       " 'image60',\n",
       " 'image61',\n",
       " 'image62',\n",
       " 'image63',\n",
       " 'image64',\n",
       " 'image65',\n",
       " 'image66',\n",
       " 'image67',\n",
       " 'image68',\n",
       " 'image69',\n",
       " 'image7',\n",
       " 'image70',\n",
       " 'image71',\n",
       " 'image72',\n",
       " 'image73',\n",
       " 'image74',\n",
       " 'image75',\n",
       " 'image76',\n",
       " 'image77',\n",
       " 'image78',\n",
       " 'image79',\n",
       " 'image8',\n",
       " 'image80',\n",
       " 'image81',\n",
       " 'image82',\n",
       " 'image83',\n",
       " 'image84',\n",
       " 'image85',\n",
       " 'image86',\n",
       " 'image87',\n",
       " 'image88',\n",
       " 'image89',\n",
       " 'image9',\n",
       " 'image90',\n",
       " 'image91',\n",
       " 'image92',\n",
       " 'image93',\n",
       " 'image94',\n",
       " 'image95',\n",
       " 'image96',\n",
       " 'image97',\n",
       " 'image98',\n",
       " 'image99']"
      ]
     },
     "execution_count": 1,
     "metadata": {},
     "output_type": "execute_result"
    }
   ],
   "source": [
    "import os\n",
    "folder_path = 'image/'\n",
    "files = os.listdir(folder_path)\n",
    "files"
   ]
  },
  {
   "cell_type": "code",
   "execution_count": 2,
   "id": "f07b43d2-94d7-4aa4-806b-4b0933cfef0d",
   "metadata": {
    "scrolled": true
   },
   "outputs": [
    {
     "name": "stdout",
     "output_type": "stream",
     "text": [
      "File 'image1' successfully renamed to 'image1'.\n",
      "이미 있습니다\n"
     ]
    }
   ],
   "source": [
    "# Rename each file using the base name and a unique identifier\n",
    "try:\n",
    "    for i, old_name in enumerate(files):\n",
    "        new_name = f\"image{i + 1}\"\n",
    "        old_file_path = os.path.join(folder_path, old_name)\n",
    "        new_file_path = os.path.join(folder_path, new_name)\n",
    "    \n",
    "        # Rename the file\n",
    "        os.rename(old_file_path, new_file_path)\n",
    "        print(f\"File '{old_name}' successfully renamed to '{new_name}'.\")\n",
    "except Exception:\n",
    "    print('이미 있습니다')"
   ]
  },
  {
   "cell_type": "markdown",
   "id": "38189064-fbe4-4f2a-9f18-f94e35b94d3b",
   "metadata": {},
   "source": [
    "### 이미지 데이터 넘파이 변환"
   ]
  },
  {
   "cell_type": "code",
   "execution_count": 3,
   "id": "61ec9e64-4aac-4bba-9efc-fb8ccaa20d82",
   "metadata": {},
   "outputs": [],
   "source": [
    "from PIL import Image\n",
    "import numpy as np"
   ]
  },
  {
   "cell_type": "code",
   "execution_count": 4,
   "id": "cb907669-edea-4859-8d1b-642a20d4301a",
   "metadata": {
    "scrolled": true
   },
   "outputs": [
    {
     "data": {
      "text/plain": [
       "array([[[174,  90, 101],\n",
       "        [171,  89, 100],\n",
       "        [171,  82,  95],\n",
       "        ...,\n",
       "        [173,  83,  94],\n",
       "        [169,  83,  95],\n",
       "        [169,  85,  96]],\n",
       "\n",
       "       [[172,  92, 105],\n",
       "        [170,  92, 103],\n",
       "        [170,  87,  98],\n",
       "        ...,\n",
       "        [173,  86,  98],\n",
       "        [169,  84,  97],\n",
       "        [169,  86,  98]],\n",
       "\n",
       "       [[171,  97, 108],\n",
       "        [169,  93, 104],\n",
       "        [169,  92, 102],\n",
       "        ...,\n",
       "        [171,  91, 101],\n",
       "        [169,  89, 101],\n",
       "        [169,  91, 103]],\n",
       "\n",
       "       ...,\n",
       "\n",
       "       [[171,  87,  99],\n",
       "        [170,  87, 100],\n",
       "        [171,  80,  92],\n",
       "        ...,\n",
       "        [169,  73,  88],\n",
       "        [169,  82,  96],\n",
       "        [170,  81,  94]],\n",
       "\n",
       "       [[174,  99, 109],\n",
       "        [172,  95, 105],\n",
       "        [171,  90, 101],\n",
       "        ...,\n",
       "        [176,  93, 105],\n",
       "        [171,  90, 101],\n",
       "        [171,  94, 103]],\n",
       "\n",
       "       [[170,  92, 106],\n",
       "        [169,  90, 103],\n",
       "        [169,  85,  97],\n",
       "        ...,\n",
       "        [173,  85,  98],\n",
       "        [168,  86,  97],\n",
       "        [168,  87,  99]]], dtype=uint8)"
      ]
     },
     "execution_count": 4,
     "metadata": {},
     "output_type": "execute_result"
    }
   ],
   "source": [
    "image = Image.open('./image/image1')\n",
    "image = image.resize((48,48))    # 48*48 사이즈 변환\n",
    "img_array = np.array(image)\n",
    "img_array"
   ]
  },
  {
   "cell_type": "code",
   "execution_count": 5,
   "id": "9202b55a-6014-49af-963a-eb6005280e73",
   "metadata": {},
   "outputs": [],
   "source": [
    "from glob import glob\n",
    "imgList = glob('image/' + '*')\n",
    "numpyList = []\n",
    "for i in imgList:\n",
    "    image = Image.open(i)\n",
    "    image = image.resize((48,48))\n",
    "    img_array = np.array(image)\n",
    "    numpyList.append(img_array)"
   ]
  },
  {
   "cell_type": "markdown",
   "id": "852716d2-785f-4c14-b61e-f6d4bb421dc2",
   "metadata": {},
   "source": [
    "### VGG16 전이학습"
   ]
  },
  {
   "cell_type": "code",
   "execution_count": 6,
   "id": "294a0e42-b15b-4620-8e26-7ff6216c52e9",
   "metadata": {},
   "outputs": [],
   "source": [
    "from keras.models import Sequential\n",
    "from keras import layers\n",
    "from keras.callbacks import EarlyStopping\n",
    "from keras import optimizers\n",
    "from keras.applications import VGG19"
   ]
  },
  {
   "cell_type": "code",
   "execution_count": 7,
   "id": "807a4a35-3932-40e9-8777-c3c66a00fdca",
   "metadata": {},
   "outputs": [
    {
     "name": "stdout",
     "output_type": "stream",
     "text": [
      "Model: \"vgg19\"\n",
      "_________________________________________________________________\n",
      " Layer (type)                Output Shape              Param #   \n",
      "=================================================================\n",
      " input_1 (InputLayer)        [(None, None, None, 3)]   0         \n",
      "                                                                 \n",
      " block1_conv1 (Conv2D)       (None, None, None, 64)    1792      \n",
      "                                                                 \n",
      " block1_conv2 (Conv2D)       (None, None, None, 64)    36928     \n",
      "                                                                 \n",
      " block1_pool (MaxPooling2D)  (None, None, None, 64)    0         \n",
      "                                                                 \n",
      " block2_conv1 (Conv2D)       (None, None, None, 128)   73856     \n",
      "                                                                 \n",
      " block2_conv2 (Conv2D)       (None, None, None, 128)   147584    \n",
      "                                                                 \n",
      " block2_pool (MaxPooling2D)  (None, None, None, 128)   0         \n",
      "                                                                 \n",
      " block3_conv1 (Conv2D)       (None, None, None, 256)   295168    \n",
      "                                                                 \n",
      " block3_conv2 (Conv2D)       (None, None, None, 256)   590080    \n",
      "                                                                 \n",
      " block3_conv3 (Conv2D)       (None, None, None, 256)   590080    \n",
      "                                                                 \n",
      " block3_conv4 (Conv2D)       (None, None, None, 256)   590080    \n",
      "                                                                 \n",
      " block3_pool (MaxPooling2D)  (None, None, None, 256)   0         \n",
      "                                                                 \n",
      " block4_conv1 (Conv2D)       (None, None, None, 512)   1180160   \n",
      "                                                                 \n",
      " block4_conv2 (Conv2D)       (None, None, None, 512)   2359808   \n",
      "                                                                 \n",
      " block4_conv3 (Conv2D)       (None, None, None, 512)   2359808   \n",
      "                                                                 \n",
      " block4_conv4 (Conv2D)       (None, None, None, 512)   2359808   \n",
      "                                                                 \n",
      " block4_pool (MaxPooling2D)  (None, None, None, 512)   0         \n",
      "                                                                 \n",
      " block5_conv1 (Conv2D)       (None, None, None, 512)   2359808   \n",
      "                                                                 \n",
      " block5_conv2 (Conv2D)       (None, None, None, 512)   2359808   \n",
      "                                                                 \n",
      " block5_conv3 (Conv2D)       (None, None, None, 512)   2359808   \n",
      "                                                                 \n",
      " block5_conv4 (Conv2D)       (None, None, None, 512)   2359808   \n",
      "                                                                 \n",
      " block5_pool (MaxPooling2D)  (None, None, None, 512)   0         \n",
      "                                                                 \n",
      "=================================================================\n",
      "Total params: 20024384 (76.39 MB)\n",
      "Trainable params: 0 (0.00 Byte)\n",
      "Non-trainable params: 20024384 (76.39 MB)\n",
      "_________________________________________________________________\n"
     ]
    }
   ],
   "source": [
    "transfer_model = VGG19(weights='imagenet', include_top=False)\n",
    "transfer_model.trainable=False\n",
    "transfer_model.summary()"
   ]
  },
  {
   "cell_type": "code",
   "execution_count": 8,
   "id": "3ef4ef61-40ec-4458-961e-cf025249fa6c",
   "metadata": {},
   "outputs": [
    {
     "name": "stdout",
     "output_type": "stream",
     "text": [
      "Model: \"sequential\"\n",
      "_________________________________________________________________\n",
      " Layer (type)                Output Shape              Param #   \n",
      "=================================================================\n",
      " vgg19 (Functional)          (None, None, None, 512)   20024384  \n",
      "                                                                 \n",
      " block_conv (Conv2D)         (None, None, None, 512)   2359808   \n",
      "                                                                 \n",
      " block1_conv1 (Dense)        (None, None, None, 64)    32832     \n",
      "                                                                 \n",
      " block2_conv1 (Dense)        (None, None, None, 128)   8320      \n",
      "                                                                 \n",
      " block3_conv1 (Dense)        (None, None, None, 256)   33024     \n",
      "                                                                 \n",
      " block4_conv2 (Conv2D)       (None, None, None, 512)   1180160   \n",
      "                                                                 \n",
      " dropout (Dropout)           (None, None, None, 512)   0         \n",
      "                                                                 \n",
      " block4_conv1 (Dense)        (None, None, None, 512)   262656    \n",
      "                                                                 \n",
      " dropout_1 (Dropout)         (None, None, None, 512)   0         \n",
      "                                                                 \n",
      " block5_conv1 (Dense)        (None, None, None, 512)   262656    \n",
      "                                                                 \n",
      " dense (Dense)               (None, None, None, 3)     1539      \n",
      "                                                                 \n",
      "=================================================================\n",
      "Total params: 24165379 (92.18 MB)\n",
      "Trainable params: 4140995 (15.80 MB)\n",
      "Non-trainable params: 20024384 (76.39 MB)\n",
      "_________________________________________________________________\n"
     ]
    }
   ],
   "source": [
    "# Define your custom Model\n",
    "myModel = Sequential()\n",
    "myModel.add(transfer_model)\n",
    "myModel.add(layers.Conv2D(512, kernel_size=(3, 3), activation='relu', padding='same', name='block_conv'))\n",
    "myModel.add(layers.Dense(64, activation='relu', name='block1_conv1'))\n",
    "myModel.add(layers.Dense(128, activation='relu', name='block2_conv1'))\n",
    "myModel.add(layers.Dense(256, activation='relu', name='block3_conv1'))\n",
    "myModel.add(layers.Conv2D(512, kernel_size=(3, 3), activation='relu', padding='same', name='block4_conv2'))\n",
    "myModel.add(layers.Dropout(0.5))\n",
    "myModel.add(layers.Dense(512, activation='relu', name='block4_conv1'))\n",
    "myModel.add(layers.Dropout(0.5))\n",
    "myModel.add(layers.Dense(512, activation='relu', name='block5_conv1'))\n",
    "\n",
    "myModel.add(layers.Dense(3, activation='softmax'))\n",
    "myModel.summary()"
   ]
  },
  {
   "cell_type": "markdown",
   "id": "3229b989-4bfd-43e2-b530-1f7e611610ac",
   "metadata": {},
   "source": [
    "(None, None, None, 512) \n",
    "- 샘플, 높이, 너비, 필터\n",
    "\n",
    "kernel_size=(3, 3)\n",
    "- 필터 크기\n",
    "\n",
    "strides=(2, 2)\n",
    "- 필터 이동 크기\n",
    "\n",
    "활성화 함수 Relu: 비선형성 함수, f(x)=최대(0,x)로 기울기 소실문제 해결"
   ]
  },
  {
   "cell_type": "markdown",
   "id": "b2d15648-a10b-4c4f-ab02-0b98e2df8b6a",
   "metadata": {},
   "source": [
    "Input Feature Map (4x4):\n",
    "```\n",
    "| 1 | 2 | 3 | 4 |\n",
    "| 5 | 6 | 7 | 8 |\n",
    "| 9 |10 |11 |12 |\n",
    "|13 |14 |15 |16 |\n",
    "```\n",
    "\n",
    "Output Feature Map (2x2)\n",
    "```\n",
    "| 6 | 8 |\r\n",
    "|14 |16 |\n",
    "```\n",
    "2*2 행열 반복 하는 중 가장 큰값 하나만 가져옴 6,8,14,16\n"
   ]
  },
  {
   "cell_type": "markdown",
   "id": "93b4aebb-4072-4a44-872e-5c4692c8cbad",
   "metadata": {},
   "source": [
    "Upsampling2D는 입력 데이터의 공간 차원을 업샘플링하거나 늘리는 데 사용되는 레이어입니다. CNN(컨벌루션 신경망) 및 기타 딥 러닝 아키텍처, 특히 이미지 분할이나 고해상도 이미지 생성과 같은 작업에 자주 사용됩니다.\n",
    "\n",
    "입력: 특정 공간 해상도(높이, 너비)\n",
    "\n",
    "업샘플링: 각 차원(높이, 너비)에 대해 값이 반복되거나 중복되어 데이터 크기가 커집니다.간 해상도가 높아졌습니다."
   ]
  },
  {
   "cell_type": "code",
   "execution_count": 9,
   "id": "be4f8d7d-72bb-417b-8ceb-3ebf81e0de6e",
   "metadata": {},
   "outputs": [],
   "source": [
    "content_layers = ['block4_conv2']\n",
    "style_layers = ['block1_conv1', 'block2_conv1', 'block3_conv1', 'block4_conv1', 'block5_conv1']"
   ]
  },
  {
   "cell_type": "code",
   "execution_count": 10,
   "id": "05ad8684-70a4-47e3-8389-aec7168ccaf8",
   "metadata": {},
   "outputs": [
    {
     "data": {
      "text/plain": [
       "[<KerasTensor: shape=(None, None, None, 64) dtype=float32 (created by layer 'block1_conv1')>,\n",
       " <KerasTensor: shape=(None, None, None, 128) dtype=float32 (created by layer 'block2_conv1')>,\n",
       " <KerasTensor: shape=(None, None, None, 256) dtype=float32 (created by layer 'block3_conv1')>,\n",
       " <KerasTensor: shape=(None, None, None, 512) dtype=float32 (created by layer 'block4_conv1')>,\n",
       " <KerasTensor: shape=(None, None, None, 512) dtype=float32 (created by layer 'block5_conv1')>]"
      ]
     },
     "execution_count": 10,
     "metadata": {},
     "output_type": "execute_result"
    }
   ],
   "source": [
    "[myModel.get_layer(name).output for name in style_layers]"
   ]
  },
  {
   "cell_type": "code",
   "execution_count": 11,
   "id": "a12c9d8c-7589-4f68-9f9c-60a97ec17146",
   "metadata": {},
   "outputs": [],
   "source": [
    "import tensorflow as tf"
   ]
  },
  {
   "cell_type": "code",
   "execution_count": 12,
   "id": "0df781cf-f210-43bd-8693-2b92ce5b6812",
   "metadata": {},
   "outputs": [],
   "source": [
    "def build_vgg_layers(layer_names):\n",
    "    '''return output activation value'''\n",
    "    vgg = tf.keras.applications.VGG19(include_top=False, weights='imagenet')\n",
    "    vgg.trainable = False\n",
    "\n",
    "    outputs = [vgg.get_layer(name).output for name in layer_names]\n",
    "    network = tf.keras.Model(inputs=[vgg.input], outputs=outputs)\n",
    "\n",
    "    return network"
   ]
  },
  {
   "cell_type": "code",
   "execution_count": 13,
   "id": "43e7f9be-b07c-47e7-b2f3-3de91744f997",
   "metadata": {},
   "outputs": [
    {
     "data": {
      "text/plain": [
       "[<KerasTensor: shape=(None, None, None, 64) dtype=float32 (created by layer 'block1_conv1')>,\n",
       " <KerasTensor: shape=(None, None, None, 128) dtype=float32 (created by layer 'block2_conv1')>,\n",
       " <KerasTensor: shape=(None, None, None, 256) dtype=float32 (created by layer 'block3_conv1')>,\n",
       " <KerasTensor: shape=(None, None, None, 512) dtype=float32 (created by layer 'block4_conv1')>,\n",
       " <KerasTensor: shape=(None, None, None, 512) dtype=float32 (created by layer 'block5_conv1')>]"
      ]
     },
     "execution_count": 13,
     "metadata": {},
     "output_type": "execute_result"
    }
   ],
   "source": [
    "# extract image style\n",
    "style_extractor = build_vgg_layers(style_layers)\n",
    "style_extractor.outputs"
   ]
  },
  {
   "cell_type": "code",
   "execution_count": 14,
   "id": "4abdf65e-ffff-4ccd-80c5-a853094a2236",
   "metadata": {},
   "outputs": [
    {
     "data": {
      "text/plain": [
       "(1, 48, 48, 3)"
      ]
     },
     "execution_count": 14,
     "metadata": {},
     "output_type": "execute_result"
    }
   ],
   "source": [
    "# 정규화된 이미지 \n",
    "contentImage=np.expand_dims(numpyList[3]/255, axis=0)\n",
    "styleImage=np.expand_dims(numpyList[5]/255, axis=0)\n",
    "contentImage.shape"
   ]
  },
  {
   "cell_type": "code",
   "execution_count": 15,
   "id": "507c3289-625e-44d7-93d0-a70b6b69e311",
   "metadata": {},
   "outputs": [
    {
     "data": {
      "text/plain": [
       "(TensorShape([1, 48, 48, 64]),\n",
       " TensorShape([1, 24, 24, 128]),\n",
       " TensorShape([1, 12, 12, 256]),\n",
       " TensorShape([1, 6, 6, 512]),\n",
       " TensorShape([1, 3, 3, 512]))"
      ]
     },
     "execution_count": 15,
     "metadata": {},
     "output_type": "execute_result"
    }
   ],
   "source": [
    "# 5 values with ReLU activation are applied\n",
    "style_outputs = style_extractor(styleImage)\n",
    "\n",
    "style_outputs[0].shape, style_outputs[1].shape, style_outputs[2].shape, style_outputs[3].shape, style_outputs[4].shape"
   ]
  },
  {
   "cell_type": "code",
   "execution_count": 16,
   "id": "5e38b386-e8ba-4697-b2fe-6244ee9a3dbd",
   "metadata": {},
   "outputs": [],
   "source": [
    "# https://www.tensorflow.org/api_docs/python/tf/einsum\n",
    "# Loss between the style and the content image (see original paper, section 2.2)\n",
    "def gram_matrix(layer_activation):\n",
    "    result = tf.linalg.einsum('bijc,bijd->bcd', layer_activation, layer_activation)\n",
    "    input_shape = tf.shape(layer_activation)\n",
    "    num_locations = tf.cast(input_shape[1] * input_shape[2], tf.float32)\n",
    "\n",
    "    return result / num_locations  # Normalizing"
   ]
  },
  {
   "cell_type": "code",
   "execution_count": 17,
   "id": "5bdeb8ee-ee56-44b0-bf08-eaac58367ff3",
   "metadata": {},
   "outputs": [],
   "source": [
    "class StyleContentModel(tf.keras.models.Model):\n",
    "    '''Build a model that returns the style and content tensors.'''\n",
    "    def __init__(self, style_layers, content_layers):\n",
    "        super().__init__() \n",
    "        self.vgg = build_vgg_layers(style_layers + content_layers)\n",
    "        self.style_layers = style_layers\n",
    "        self.content_layers = content_layers\n",
    "        self.num_style_layers = len(style_layers)\n",
    "        self.vgg.trainable = False  \n",
    "\n",
    "    def call(self, inputs):\n",
    "        inputs = inputs * 255.0  # 정규화\n",
    "        # Data is preprocessed and passed to the VGG (normalized from -127.50 to +127.50)\n",
    "        preprocessed_input = tf.keras.applications.vgg19.preprocess_input(inputs)\n",
    "        outputs = self.vgg(preprocessed_input)\n",
    "        style_outputs = outputs[:self.num_style_layers]\n",
    "        content_outputs = outputs[self.num_style_layers:]\n",
    "\n",
    "        style_outputs = [gram_matrix(style_output) for style_output in style_outputs]\n",
    "\n",
    "        content_dict = {content_name: value for content_name, value in zip(self.content_layers, content_outputs)}\n",
    "        style_dict = {style_name: value for style_name, value in zip(self.style_layers, style_outputs)}\n",
    "\n",
    "        return {'content': content_dict, 'style': style_dict}"
   ]
  },
  {
   "cell_type": "code",
   "execution_count": 18,
   "id": "d7f5e931-4e24-42f5-8a20-da4551d37c50",
   "metadata": {},
   "outputs": [],
   "source": [
    "extractor = StyleContentModel(style_layers, content_layers)\n",
    "results = extractor(contentImage)"
   ]
  },
  {
   "cell_type": "code",
   "execution_count": 19,
   "id": "bbed87cb-7c6d-4b33-8a4b-a1f2ff38635d",
   "metadata": {},
   "outputs": [
    {
     "name": "stdout",
     "output_type": "stream",
     "text": [
      "content dict_keys(['block4_conv2'])\n",
      "style dict_keys(['block1_conv1', 'block2_conv1', 'block3_conv1', 'block4_conv1', 'block5_conv1'])\n"
     ]
    }
   ],
   "source": [
    "for key, value in results.items():\n",
    "    print(key, value.keys())"
   ]
  },
  {
   "cell_type": "code",
   "execution_count": 20,
   "id": "223b6a84-1da8-4a84-a0c9-383bac465b8e",
   "metadata": {},
   "outputs": [],
   "source": [
    "style_targets = extractor(styleImage)['style']\n",
    "content_targets = extractor(contentImage)['content']"
   ]
  },
  {
   "cell_type": "code",
   "execution_count": 21,
   "id": "a9d22eb3-c7e9-4365-974e-60a082228cde",
   "metadata": {},
   "outputs": [],
   "source": [
    "import matplotlib.pyplot as plt"
   ]
  },
  {
   "cell_type": "code",
   "execution_count": 22,
   "id": "2f4c6e77-1b3a-4e65-b7f5-cced8efc2a78",
   "metadata": {
    "scrolled": true
   },
   "outputs": [
    {
     "name": "stdout",
     "output_type": "stream",
     "text": [
      "Epoch 50 | content loss: 0.0 | style loss: 948189659136.0 | total loss 948189659136.0\n"
     ]
    },
    {
     "data": {
      "image/png": "[encoded data removed]",
      "text/plain": [
       "<Figure size 640x480 with 1 Axes>"
      ]
     },
     "metadata": {},
     "output_type": "display_data"
    },
    {
     "name": "stdout",
     "output_type": "stream",
     "text": [
      "Epoch 100 | content loss: 0.0 | style loss: 948189659136.0 | total loss 948189659136.0\n"
     ]
    },
    {
     "data": {
      "image/png": "[encoded data removed]",
      "text/plain": [
       "<Figure size 640x480 with 1 Axes>"
      ]
     },
     "metadata": {},
     "output_type": "display_data"
    },
    {
     "name": "stdout",
     "output_type": "stream",
     "text": [
      "Epoch 150 | content loss: 0.0 | style loss: 948189659136.0 | total loss 948189659136.0\n"
     ]
    },
    {
     "data": {
      "image/png": "[encoded data removed]",
      "text/plain": [
       "<Figure size 640x480 with 1 Axes>"
      ]
     },
     "metadata": {},
     "output_type": "display_data"
    },
    {
     "name": "stdout",
     "output_type": "stream",
     "text": [
      "Epoch 200 | content loss: 0.0 | style loss: 948189659136.0 | total loss 948189659136.0\n"
     ]
    },
    {
     "data": {
      "image/png": "[encoded data removed]",
      "text/plain": [
       "<Figure size 640x480 with 1 Axes>"
      ]
     },
     "metadata": {},
     "output_type": "display_data"
    }
   ],
   "source": [
    "new_image = tf.Variable(contentImage)\n",
    "optimizer = tf.optimizers.Adam(learning_rate=0.067)\n",
    "\n",
    "content_weight = 1  # The greater the content weight, the greater the retention of the original image content\n",
    "style_weight = 1000  # The greater the style weight, the more styles are preserved\n",
    "\n",
    "num_epochs = 200\n",
    "verbose = 50\n",
    "\n",
    "for epoch in range(num_epochs):\n",
    "    with tf.GradientTape() as tape:\n",
    "        outputs = extractor(new_image)\n",
    "\n",
    "        content_outputs = outputs['content']\n",
    "        style_outputs = outputs['style']\n",
    "\n",
    "        content_loss = tf.add_n([tf.reduce_mean((content_outputs[name] - content_targets[name]) ** 2) for name in content_outputs.keys()])\n",
    "\n",
    "        style_loss = tf.add_n([tf.reduce_mean((style_outputs[name] - style_targets[name]) ** 2) for name in style_outputs.keys()])\n",
    "\n",
    "        total_loss = content_loss + style_loss\n",
    "\n",
    "    gradient = tape.gradient(total_loss, new_image)\n",
    "    # optimizer.apply_gradients([(gradient, new_image)])\n",
    "\n",
    "    # new_image.assign(tf.clip_by_value(new_image, 0.0, 1.0))\n",
    "\n",
    "    if (epoch + 1) % verbose == 0:\n",
    "        print(f'Epoch {epoch + 1} | content loss: {content_loss} | style loss: {style_loss} | total loss {total_loss}')\n",
    "        plt.imshow(tf.squeeze(new_image, axis=0))\n",
    "        plt.show()"
   ]
  },
  {
   "cell_type": "code",
   "execution_count": 23,
   "id": "ef852458-219f-4e3d-b50d-2d5368e13c98",
   "metadata": {},
   "outputs": [
    {
     "data": {
      "image/png": "[encoded data removed]",
      "text/plain": [
       "<Figure size 3000x800 with 3 Axes>"
      ]
     },
     "metadata": {},
     "output_type": "display_data"
    }
   ],
   "source": [
    "fig, (ax1, ax2, ax3) = plt.subplots(1, 3, figsize=(30, 8))\n",
    "ax1.imshow(tf.squeeze(contentImage, axis=0))\n",
    "ax1.set_title('Content image')\n",
    "ax2.imshow(tf.squeeze(new_image, axis=0))\n",
    "ax2.set_title('New image')\n",
    "ax3.imshow(tf.squeeze(styleImage, axis=0))\n",
    "ax3.set_title('Style image')\n",
    "plt.axis('off');"
   ]
  },
  {
   "cell_type": "code",
   "execution_count": null,
   "id": "c6c835e7-ddcc-4d4f-84e0-0ff37737f7a6",
   "metadata": {},
   "outputs": [],
   "source": []
  },
  {
   "cell_type": "code",
   "execution_count": null,
   "id": "47fe343e-17db-4383-a470-3429d0bb0b8d",
   "metadata": {},
   "outputs": [],
   "source": []
  }
 ],
 "metadata": {
  "kernelspec": {
   "display_name": "Python 3 (ipykernel)",
   "language": "python",
   "name": "python3"
  },
  "language_info": {
   "codemirror_mode": {
    "name": "ipython",
    "version": 3
   },
   "file_extension": ".py",
   "mimetype": "text/x-python",
   "name": "python",
   "nbconvert_exporter": "python",
   "pygments_lexer": "ipython3",
   "version": "3.8.18"
  }
 },
 "nbformat": 4,
 "nbformat_minor": 5
}

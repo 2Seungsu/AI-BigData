{
 "cells": [
  {
   "cell_type": "code",
   "execution_count": 2,
   "id": "66e7cd73-9bb7-46d5-9d63-e684b62a7658",
   "metadata": {},
   "outputs": [],
   "source": [
    "import numpy as np\n",
    "import pandas as pd"
   ]
  },
  {
   "cell_type": "code",
   "execution_count": 3,
   "id": "edfaa806-d9ca-4298-b46b-8d79433054d4",
   "metadata": {},
   "outputs": [],
   "source": [
    "# url\n",
    "import requests\n",
    "from bs4 import BeautifulSoup\n",
    "import time\n",
    "from tqdm import tqdm "
   ]
  },
  {
   "cell_type": "code",
   "execution_count": 4,
   "id": "134ee85a-f261-4df0-938b-c76fa18c532b",
   "metadata": {},
   "outputs": [],
   "source": [
    "# selenium\n",
    "from selenium import webdriver\n",
    "from selenium.webdriver.chrome.service import Service\n",
    "from selenium.webdriver.common.keys import Keys\n",
    "from selenium.webdriver.common.by import By"
   ]
  },
  {
   "cell_type": "code",
   "execution_count": 34,
   "id": "5afafd7d-c92d-4d9f-9a9d-4aa013d430aa",
   "metadata": {},
   "outputs": [],
   "source": [
    "# 이미지 저장\n",
    "from PIL import Image\n",
    "from io import BytesIO"
   ]
  },
  {
   "cell_type": "code",
   "execution_count": 37,
   "id": "63430340-e879-4260-9d34-5637d9d1f333",
   "metadata": {},
   "outputs": [],
   "source": [
    "service = Service(executable_path='../Text_mining/chromedriver.exe')\n",
    "driver = webdriver.Chrome(service=service)\n",
    "driver.get(\"https://www.melon.com/chart/age/index.htm?chartType=YE&chartGenre=KPOP&chartDate=1991\")\n",
    "driver.implicitly_wait(7)\n",
    "time.sleep(2 +  np.random.rand()) \n",
    "\n",
    "driver.execute_script(\"window.scrollTo(0, document.body.scrollHeight)\")   #스크롤 내리기"
   ]
  },
  {
   "cell_type": "code",
   "execution_count": 38,
   "id": "4891b6bd-2b28-4c66-8283-89a357d1cdc7",
   "metadata": {},
   "outputs": [],
   "source": [
    "html = BeautifulSoup(driver.page_source)"
   ]
  },
  {
   "cell_type": "code",
   "execution_count": 39,
   "id": "bec59410-cf1e-4a15-b0a2-ce929a5964de",
   "metadata": {},
   "outputs": [],
   "source": [
    "img_=html.find('tr', class_ = 'lst50').find('img')['src']\n",
    "img_"
   ]
  },
  {
   "cell_type": "code",
   "execution_count": null,
   "id": "fee6bcc5-7ae4-4abf-b122-775ca06852fa",
   "metadata": {},
   "outputs": [],
   "source": [
    "response = requests.get(img_)\n",
    "\n",
    "with open('./ns/' +'melon_image.jpg', 'wb') as f:\n",
    "        f.write(response.content)\n",
    "print('이미지 다운로드 및 저장 완료')"
   ]
  },
  {
   "cell_type": "code",
   "execution_count": 42,
   "id": "f0eb5317-90d7-4e5c-b9f5-0a715c4e59f1",
   "metadata": {},
   "outputs": [],
   "source": [
    "response = requests.get(img_)"
   ]
  },
  {
   "cell_type": "code",
   "execution_count": 47,
   "id": "687b3a1c-08a0-4cd1-a064-32332d1e8990",
   "metadata": {},
   "outputs": [
    {
     "name": "stdout",
     "output_type": "stream",
     "text": [
      "이미지 다운로드 및 저장 완료\n"
     ]
    }
   ],
   "source": [
    "with open('./ns/' +'melon_image.jpg', 'wb') as f:\n",
    "        f.write(response.content)\n",
    "print('이미지 다운로드 및 저장 완료')"
   ]
  },
  {
   "cell_type": "code",
   "execution_count": 59,
   "id": "7ba90304-d17e-4ba7-9874-8164b796fdb2",
   "metadata": {},
   "outputs": [],
   "source": [
    "imgList = html.find_all('tr', class_ = 'lst50')\n",
    "imgList=[i.find('img')['src'] for i in imgList]"
   ]
  },
  {
   "cell_type": "code",
   "execution_count": 60,
   "id": "0a83678c-b5e6-41e8-b682-fb6d6ff6c545",
   "metadata": {
    "collapsed": true,
    "jupyter": {
     "outputs_hidden": true
    }
   },
   "outputs": [
    {
     "data": {
      "text/plain": [
       "['https://cdnimg.melon.co.kr/cm/album/images/000/03/731/3731_500.jpg/melon/resize/48/quality/80/optimize',\n",
       " 'https://cdnimg.melon.co.kr/cm/album/images/003/55/709/355709_500.jpg/melon/resize/48/quality/80/optimize',\n",
       " 'https://cdnimg.melon.co.kr/cm/album/images/000/04/170/4170_500.jpg/melon/resize/48/quality/80/optimize',\n",
       " 'https://cdnimg.melon.co.kr/cm/album/images/000/03/584/3584_500.jpg/melon/resize/48/quality/80/optimize',\n",
       " 'https://cdnimg.melon.co.kr/cm/album/images/012/77/851/1277851_500.jpg/melon/resize/48/quality/80/optimize',\n",
       " 'https://cdnimg.melon.co.kr/cm/album/images/000/04/753/4753_500.jpg/melon/resize/48/quality/80/optimize',\n",
       " 'https://cdnimg.melon.co.kr/cm/album/images/000/04/297/4297_500.jpg/melon/resize/48/quality/80/optimize',\n",
       " 'https://cdnimg.melon.co.kr/cm/album/images/000/04/240/4240_500.jpg/melon/resize/48/quality/80/optimize',\n",
       " 'https://cdnimg.melon.co.kr/cm/album/images/000/04/519/4519_500.jpg/melon/resize/48/quality/80/optimize',\n",
       " 'https://cdnimg.melon.co.kr/cm/album/images/000/04/165/4165_500.jpg/melon/resize/48/quality/80/optimize',\n",
       " 'https://cdnimg.melon.co.kr/cm/album/images/003/10/678/310678_500.jpg/melon/resize/48/quality/80/optimize',\n",
       " 'https://cdnimg.melon.co.kr/cm/album/images/000/03/553/3553_500.jpg/melon/resize/48/quality/80/optimize',\n",
       " 'https://cdnimg.melon.co.kr/cm/album/images/000/03/645/3645_500.jpg/melon/resize/48/quality/80/optimize',\n",
       " 'https://cdnimg.melon.co.kr/cm/album/images/003/34/610/334610_500.jpg/melon/resize/48/quality/80/optimize',\n",
       " 'https://cdnimg.melon.co.kr/cm/album/images/003/74/867/374867_500.jpg/melon/resize/48/quality/80/optimize',\n",
       " 'https://cdnimg.melon.co.kr/cm/album/images/003/13/429/313429_500.jpg/melon/resize/48/quality/80/optimize',\n",
       " 'https://cdnimg.melon.co.kr/cm/album/images/000/04/243/4243_500.jpg/melon/resize/48/quality/80/optimize',\n",
       " 'https://cdnimg.melon.co.kr/cm/album/images/003/74/864/374864_500.jpg/melon/resize/48/quality/80/optimize',\n",
       " 'https://cdnimg.melon.co.kr/cm/album/images/000/04/493/4493_500.jpg/melon/resize/48/quality/80/optimize',\n",
       " 'https://cdnimg.melon.co.kr/cm/album/images/003/09/281/309281_500.jpg/melon/resize/48/quality/80/optimize',\n",
       " 'https://cdnimg.melon.co.kr/cm/album/images/000/04/493/4493_500.jpg/melon/resize/48/quality/80/optimize',\n",
       " 'https://cdnimg.melon.co.kr/cm/album/images/000/03/471/3471_500.jpg/melon/resize/48/quality/80/optimize',\n",
       " 'https://cdnimg.melon.co.kr/cm/album/images/000/04/297/4297_500.jpg/melon/resize/48/quality/80/optimize',\n",
       " 'https://cdnimg.melon.co.kr/cm/album/images/000/35/077/35077_500.jpg/melon/resize/48/quality/80/optimize',\n",
       " 'https://cdnimg.melon.co.kr/cm/album/images/021/36/746/2136746_500.jpg/melon/resize/48/quality/80/optimize',\n",
       " 'https://cdnimg.melon.co.kr/cm/album/images/000/03/482/3482_500.jpg/melon/resize/48/quality/80/optimize',\n",
       " 'https://cdnimg.melon.co.kr/cm/album/images/000/06/182/6182_500.jpg/melon/resize/48/quality/80/optimize',\n",
       " 'https://cdnimg.melon.co.kr/cm/album/images/000/03/733/3733_500.jpg/melon/resize/48/quality/80/optimize',\n",
       " 'https://cdnimg.melon.co.kr/cm/album/images/003/10/245/310245_500.jpg/melon/resize/48/quality/80/optimize',\n",
       " 'https://cdnimg.melon.co.kr/cm/album/images/000/04/481/4481_500.jpg/melon/resize/48/quality/80/optimize',\n",
       " 'https://cdnimg.melon.co.kr/cm/album/images/003/82/364/382364_500.jpg/melon/resize/48/quality/80/optimize',\n",
       " 'https://cdnimg.melon.co.kr/cm/album/images/000/04/906/4906_500.jpg/melon/resize/48/quality/80/optimize',\n",
       " 'https://cdnimg.melon.co.kr/cm/album/images/020/54/346/2054346_500.jpg/melon/resize/48/quality/80/optimize',\n",
       " 'https://cdnimg.melon.co.kr/cm/album/images/020/26/384/2026384_500.jpg/melon/resize/48/quality/80/optimize',\n",
       " 'https://cdnimg.melon.co.kr/cm/album/images/000/04/478/4478_500.jpg/melon/resize/48/quality/80/optimize',\n",
       " 'https://cdnimg.melon.co.kr/cm/album/images/003/10/565/310565_500.jpg/melon/resize/48/quality/80/optimize',\n",
       " 'https://cdnimg.melon.co.kr/cm/album/images/003/71/750/371750_500.jpg/melon/resize/48/quality/80/optimize',\n",
       " 'https://cdnimg.melon.co.kr/cm/album/images/000/04/531/4531_500.jpg/melon/resize/48/quality/80/optimize',\n",
       " 'https://cdnimg.melon.co.kr/cm/album/images/000/04/326/4326_500.jpg/melon/resize/48/quality/80/optimize',\n",
       " 'https://cdnimg.melon.co.kr/cm/album/images/000/04/243/4243_500.jpg/melon/resize/48/quality/80/optimize',\n",
       " 'https://cdnimg.melon.co.kr/cm/album/images/000/04/507/4507_500.jpg/melon/resize/48/quality/80/optimize',\n",
       " 'https://cdnimg.melon.co.kr/cm/album/images/003/34/610/334610_500.jpg/melon/resize/48/quality/80/optimize',\n",
       " 'https://cdnimg.melon.co.kr/cm/album/images/003/09/161/309161_500.jpg/melon/resize/48/quality/80/optimize',\n",
       " 'https://cdnimg.melon.co.kr/cm2/album/images/003/10/588/310588_20230915140528_500.jpg/melon/resize/48/quality/80/optimize',\n",
       " 'https://cdnimg.melon.co.kr/cm/album/images/000/04/795/4795_500.jpg/melon/resize/48/quality/80/optimize',\n",
       " 'https://cdnimg.melon.co.kr/cm/album/images/003/17/432/317432_500.jpg/melon/resize/48/quality/80/optimize',\n",
       " 'https://cdnimg.melon.co.kr/cm/album/images/003/13/429/313429_500.jpg/melon/resize/48/quality/80/optimize',\n",
       " 'https://cdnimg.melon.co.kr/cm/album/images/000/40/260/40260_500.jpg/melon/resize/48/quality/80/optimize',\n",
       " 'https://cdnimg.melon.co.kr/cm/album/images/000/33/504/33504_500.jpg/melon/resize/48/quality/80/optimize',\n",
       " 'https://cdnimg.melon.co.kr/cm/album/images/000/04/231/4231_500.jpg/melon/resize/48/quality/80/optimize']"
      ]
     },
     "execution_count": 60,
     "metadata": {},
     "output_type": "execute_result"
    }
   ],
   "source": [
    "imgList"
   ]
  },
  {
   "cell_type": "code",
   "execution_count": 62,
   "id": "7e7d502a-49f6-498c-9125-fafde177f493",
   "metadata": {
    "scrolled": true
   },
   "outputs": [],
   "source": [
    "for i in range(len(imgList)):\n",
    "    response = requests.get(imgList[i])\n",
    "    with open('./ns/' + 'melon_image{}.jpg'.format(i+1), 'wb') as f:\n",
    "            f.write(response.content)\n",
    "    time.sleep(1 + np.random.rand())"
   ]
  },
  {
   "cell_type": "markdown",
   "id": "cfa3e026-9c96-4a9f-88e0-ba9f18ea7326",
   "metadata": {},
   "source": [
    "### 함수"
   ]
  },
  {
   "cell_type": "code",
   "execution_count": 63,
   "id": "58381c83-069e-48ee-86a7-253182de6f16",
   "metadata": {},
   "outputs": [],
   "source": [
    "def img_crawl(dir,year):\n",
    "    service = Service(executable_path='../Text_mining/chromedriver.exe')\n",
    "    driver = webdriver.Chrome(service=service)\n",
    "    driver.get(f\"https://www.melon.com/chart/age/index.htm?chartType=YE&chartGenre=KPOP&chartDate={year}#params%5Bidx%5D=1\")\n",
    "    driver.implicitly_wait(5)\n",
    "    time.sleep(2 +  np.random.rand()) \n",
    "    \n",
    "    driver.execute_script(\"window.scrollTo(0, document.body.scrollHeight)\")   #스크롤 내리기\n",
    "    html = BeautifulSoup(driver.page_source)\n",
    "\n",
    "    imgList = html.find_all('tr', class_ = 'lst50')\n",
    "    imgList=[i.find('img')['src'] for i in imgList]\n",
    "\n",
    "    for i in range(len(imgList)):\n",
    "        response = requests.get(imgList[i])\n",
    "        with open(dir + 'melon_image{}.jpg'.format(i+1), 'wb') as f:\n",
    "                f.write(response.content)\n",
    "        time.sleep(1 + np.random.rand())\n",
    "        \n",
    "\n",
    "    driver.get(f\"https://www.melon.com/chart/age/index.htm?chartType=YE&chartGenre=KPOP&chartDate={year}#params%5Bidx%5D=51\")\n",
    "    driver.implicitly_wait(5)\n",
    "    time.sleep(2 +  np.random.rand()) \n",
    "\n",
    "    html = BeautifulSoup(driver.page_source)\n",
    "\n",
    "    imgList = html.find_all('tr', class_ = 'lst50')\n",
    "    imgList=[i.find('img')['src'] for i in imgList]\n",
    "\n",
    "    for i in range(len(imgList)):\n",
    "        response = requests.get(imgList[i])\n",
    "        with open(dir + 'melon_image{}.jpg'.format(i+51), 'wb') as f:\n",
    "                f.write(response.content)\n",
    "        time.sleep(1 + np.random.rand())\n"
   ]
  },
  {
   "cell_type": "code",
   "execution_count": 64,
   "id": "76c83633-9507-404b-bf13-0d605ed0ab43",
   "metadata": {},
   "outputs": [],
   "source": [
    "img_crawl('./1990/', 1991)"
   ]
  },
  {
   "cell_type": "code",
   "execution_count": null,
   "id": "2fecfbec-00d4-46b5-a7d6-2a889023803c",
   "metadata": {},
   "outputs": [],
   "source": []
  }
 ],
 "metadata": {
  "kernelspec": {
   "display_name": "Python 3 (ipykernel)",
   "language": "python",
   "name": "python3"
  },
  "language_info": {
   "codemirror_mode": {
    "name": "ipython",
    "version": 3
   },
   "file_extension": ".py",
   "mimetype": "text/x-python",
   "name": "python",
   "nbconvert_exporter": "python",
   "pygments_lexer": "ipython3",
   "version": "3.8.18"
  }
 },
 "nbformat": 4,
 "nbformat_minor": 5
}

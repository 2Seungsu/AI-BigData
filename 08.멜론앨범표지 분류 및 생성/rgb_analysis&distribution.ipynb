{
 "cells": [
  {
   "cell_type": "code",
   "execution_count": 1,
   "id": "cf26c51f-899b-4f3a-9c97-8f719b35d10c",
   "metadata": {},
   "outputs": [],
   "source": [
    "import os\n",
    "os.environ['KMP_DUPLICATE_LIB_OK'] = 'True'\n",
    "import numpy as np\n",
    "import matplotlib.pyplot as plt\n",
    "import glob"
   ]
  },
  {
   "cell_type": "code",
   "execution_count": 7,
   "id": "84d18f85-18d6-453c-9644-b67c1a9fc869",
   "metadata": {
    "scrolled": true
   },
   "outputs": [],
   "source": [
    "lst90 = glob.glob('./album/1990/'+'*')\n",
    "lst00 = glob.glob('./album/2000/'+'*')\n",
    "lst10 = glob.glob('./album/2010/'+'*')"
   ]
  },
  {
   "cell_type": "code",
   "execution_count": 4,
   "id": "6b94a4eb-639c-40ee-9d21-810297ef43ef",
   "metadata": {},
   "outputs": [],
   "source": [
    "from PIL import Image"
   ]
  },
  {
   "cell_type": "code",
   "execution_count": 8,
   "id": "bd846a58-7d99-4476-9c5f-1e0b2ce5115b",
   "metadata": {},
   "outputs": [],
   "source": [
    "imgList90 = []\n",
    "for i in lst90:\n",
    "    img=Image.open(i)\n",
    "    imgList90.append(np.array(img)/255.)"
   ]
  },
  {
   "cell_type": "code",
   "execution_count": 13,
   "id": "ffad294b-26ba-44bf-9e70-414248006f5a",
   "metadata": {},
   "outputs": [
    {
     "data": {
      "text/plain": [
       "(996, 1000, 1000)"
      ]
     },
     "execution_count": 13,
     "metadata": {},
     "output_type": "execute_result"
    }
   ],
   "source": [
    "len(imgList90), len(imgList00), len(imgList10)"
   ]
  },
  {
   "cell_type": "code",
   "execution_count": 11,
   "id": "817fbaa7-aafa-449c-9f74-a8d05db88ffa",
   "metadata": {},
   "outputs": [],
   "source": [
    "imgList00 = []\n",
    "for i in lst00:\n",
    "    img=Image.open(i)\n",
    "    imgList00.append(np.array(img)/255.)"
   ]
  },
  {
   "cell_type": "code",
   "execution_count": 12,
   "id": "b3ae04cf-2853-4a38-abf1-9283fb49ad55",
   "metadata": {},
   "outputs": [],
   "source": [
    "imgList10 = []\n",
    "for i in lst10:\n",
    "    img=Image.open(i)\n",
    "    imgList10.append(np.array(img)/255.)"
   ]
  },
  {
   "cell_type": "code",
   "execution_count": 15,
   "id": "8872be45-bdce-4c49-9695-689cce71baeb",
   "metadata": {},
   "outputs": [
    {
     "data": {
      "text/plain": [
       "(48, 48, 3)"
      ]
     },
     "execution_count": 15,
     "metadata": {},
     "output_type": "execute_result"
    }
   ],
   "source": [
    "imgList90[0].shape"
   ]
  },
  {
   "cell_type": "code",
   "execution_count": 18,
   "id": "a40045f1-cf44-4ea9-92c5-7dd2c16a5618",
   "metadata": {},
   "outputs": [
    {
     "data": {
      "image/png": "[encoded data removed]",
      "text/plain": [
       "<Figure size 640x480 with 1 Axes>"
      ]
     },
     "metadata": {},
     "output_type": "display_data"
    }
   ],
   "source": [
    "plt.imshow(imgList00[0])\n",
    "plt.show()"
   ]
  },
  {
   "cell_type": "code",
   "execution_count": 20,
   "id": "d1496527-9dcf-4a73-a202-be5e652a40b8",
   "metadata": {},
   "outputs": [
    {
     "data": {
      "text/plain": [
       "((48, 48), (48, 48), (48, 48))"
      ]
     },
     "execution_count": 20,
     "metadata": {},
     "output_type": "execute_result"
    }
   ],
   "source": [
    "imgList90[0][:,:,0].shape, imgList90[0][:,:,1].shape, imgList90[0][:,:,2].shape"
   ]
  },
  {
   "cell_type": "markdown",
   "id": "67e9fc1a-232b-4317-82bc-023c9520ae62",
   "metadata": {},
   "source": [
    "### 이미지 채널 분석"
   ]
  },
  {
   "cell_type": "code",
   "execution_count": 22,
   "id": "555d3827-7825-4c4a-9f1e-71f342bf79ab",
   "metadata": {},
   "outputs": [],
   "source": [
    "r_1990 = []\n",
    "g_1990 = []\n",
    "b_1990 = []\n",
    "for i in range(48):\n",
    "    r_1990.append(imgList90[i][:,:,0])\n",
    "    g_1990.append(imgList90[i][:,:,1])\n",
    "    b_1990.append(imgList90[i][:,:,2])"
   ]
  },
  {
   "cell_type": "code",
   "execution_count": 23,
   "id": "acb051c5-f084-468e-883d-5e881c6804a8",
   "metadata": {},
   "outputs": [],
   "source": [
    "r_vstack = np.vstack(r_1990)\n",
    "r_sample = np.array([])\n",
    "for i in range(48):\n",
    "    r_sample = np.append(r_sample,np.random.choice(r_vstack[:,i]))"
   ]
  },
  {
   "cell_type": "code",
   "execution_count": 24,
   "id": "e65f40fa-31de-4903-89fb-c9895d9c1aed",
   "metadata": {},
   "outputs": [],
   "source": [
    "g_vstack = np.vstack(g_1990)"
   ]
  },
  {
   "cell_type": "code",
   "execution_count": 25,
   "id": "43f531f1-deed-4733-90ce-71cd4ebae369",
   "metadata": {},
   "outputs": [],
   "source": [
    "g_sample = np.array([])\n",
    "for i in range(48):\n",
    "    g_sample = np.append(g_sample,np.random.choice(g_vstack[:,i]))"
   ]
  },
  {
   "cell_type": "code",
   "execution_count": 26,
   "id": "0956ca75-4338-48d4-8540-97bbcee7ec5c",
   "metadata": {},
   "outputs": [],
   "source": [
    "b_vstack = np.vstack(b_1990)\n",
    "b_sample = np.array([])\n",
    "for i in range(48):\n",
    "    b_sample = np.append(b_sample,np.random.choice(b_vstack[:,i]))"
   ]
  },
  {
   "cell_type": "code",
   "execution_count": 30,
   "id": "06441aa3-5813-424b-ab9f-e2885a4806a8",
   "metadata": {},
   "outputs": [],
   "source": [
    "# 초기화할 때 (48, 48, 3) 모양의 3차원 배열로 시작\n",
    "sample1990 = np.zeros((48, 48, 3), dtype=np.float32)\n",
    "lst = []\n",
    "np.random.seed(45)\n",
    "for k in range(48):\n",
    "    r_sample = np.array([])\n",
    "    g_sample = np.array([])\n",
    "    b_sample = np.array([])\n",
    "    \n",
    "    for i in range(48):\n",
    "\n",
    "        r_sample = np.append(r_sample, np.random.choice(r_vstack[:, i]))\n",
    "        g_sample = np.append(g_sample, np.random.choice(g_vstack[:, i]))\n",
    "        b_sample = np.append(b_sample, np.random.choice(b_vstack[:, i]))\n",
    "    \n",
    "    sample_ = np.stack([r_sample, g_sample, b_sample], axis=-1)\n",
    "\n",
    "    \n",
    "    # (k, :, :) 위치에 데이터 추가\n",
    "    sample1990[k, :, :] = sample_"
   ]
  },
  {
   "cell_type": "code",
   "execution_count": 28,
   "id": "ce8ae606-39e6-4f19-80b9-38fabc78747e",
   "metadata": {},
   "outputs": [
    {
     "data": {
      "text/plain": [
       "(48, 48, 3)"
      ]
     },
     "execution_count": 28,
     "metadata": {},
     "output_type": "execute_result"
    }
   ],
   "source": [
    "sample1990.shape"
   ]
  },
  {
   "cell_type": "code",
   "execution_count": 29,
   "id": "7f77af93-0dc7-499b-8d7c-eca3d7df1ee6",
   "metadata": {},
   "outputs": [
    {
     "data": {
      "text/plain": [
       "<matplotlib.image.AxesImage at 0x1a76f916790>"
      ]
     },
     "execution_count": 29,
     "metadata": {},
     "output_type": "execute_result"
    },
    {
     "data": {
      "image/png": "[encoded data removed]",
      "text/plain": [
       "<Figure size 640x480 with 1 Axes>"
      ]
     },
     "metadata": {},
     "output_type": "display_data"
    }
   ],
   "source": [
    "plt.imshow(sample1990)"
   ]
  },
  {
   "cell_type": "code",
   "execution_count": 58,
   "id": "64f68989-f623-4016-9da1-9266c478764a",
   "metadata": {},
   "outputs": [],
   "source": [
    "# 시드 설정\n",
    "np.random.seed(45)\n",
    "\n",
    "# 30개의 (48, 48, 3) 배열을 담을 리스트를 초기화합니다.\n",
    "sample1990_list = []\n",
    "\n",
    "for _ in range(300):\n",
    "    # (48, 48, 3) 모양의 3차원 배열로 초기화합니다.\n",
    "    sample1990 = np.zeros((48, 48, 3), dtype=np.float32)\n",
    "\n",
    "    for k in range(48):\n",
    "        r_sample = np.array([])\n",
    "        g_sample = np.array([])\n",
    "        b_sample = np.array([])\n",
    "\n",
    "        for i in range(48):\n",
    "            r_sample = np.append(r_sample, np.random.choice(r_vstack[:, i]))\n",
    "            g_sample = np.append(g_sample, np.random.choice(g_vstack[:, i]))\n",
    "            b_sample = np.append(b_sample, np.random.choice(b_vstack[:, i]))\n",
    "\n",
    "        sample_ = np.stack([r_sample, g_sample, b_sample], axis=-1)\n",
    "\n",
    "        # (k, :, :) 위치에 데이터 추가\n",
    "        sample1990[k, :, :] = sample_\n",
    "\n",
    "    # sample1990를 리스트에 추가 (복제)\n",
    "    sample1990_list.append(sample1990.copy())\n",
    "\n",
    "# sample1990_list에는 30개의 독립적인 (48, 48, 3) 배열이 담겨집니다."
   ]
  },
  {
   "cell_type": "code",
   "execution_count": 59,
   "id": "e831467b-5870-4354-9849-0312a90ecb49",
   "metadata": {},
   "outputs": [
    {
     "data": {
      "text/plain": [
       "(48, 48, 3)"
      ]
     },
     "execution_count": 59,
     "metadata": {},
     "output_type": "execute_result"
    }
   ],
   "source": [
    "sample1990_list[0].shape"
   ]
  },
  {
   "cell_type": "markdown",
   "id": "a9a6b524-ec53-4ce8-b295-9e27c9d7d1f7",
   "metadata": {},
   "source": [
    "### 이미지의 rgb값의 분포를 분석해서 새로운 이미지를 만들 수 있을까? 검증"
   ]
  },
  {
   "cell_type": "code",
   "execution_count": 60,
   "id": "e0b00341-8e4c-47c0-a673-a1c0b9055c91",
   "metadata": {
    "scrolled": true
   },
   "outputs": [
    {
     "data": {
      "text/plain": [
       "array([[[[0.58431375, 0.8235294 , 0.99215686],\n",
       "         [0.99215686, 0.99607843, 0.8627451 ],\n",
       "         [0.7137255 , 0.9843137 , 0.07843138],\n",
       "         ...,\n",
       "         [0.2       , 0.78039217, 0.8392157 ],\n",
       "         [0.07843138, 0.5529412 , 0.29803923],\n",
       "         [0.7490196 , 0.8627451 , 0.83137256]],\n",
       "\n",
       "        [[0.4392157 , 1.        , 0.9019608 ],\n",
       "         [0.88235295, 0.75686276, 0.88235295],\n",
       "         [0.8980392 , 0.9764706 , 0.31764707],\n",
       "         ...,\n",
       "         [0.827451  , 0.09803922, 1.        ],\n",
       "         [0.972549  , 0.49019608, 0.7372549 ],\n",
       "         [0.99607843, 0.35686275, 0.96862745]],\n",
       "\n",
       "        [[1.        , 1.        , 0.95686275],\n",
       "         [0.21568628, 0.59607846, 0.8039216 ],\n",
       "         [0.22745098, 0.30588236, 0.96862745],\n",
       "         ...,\n",
       "         [0.8745098 , 0.6666667 , 0.98039216],\n",
       "         [0.8666667 , 0.32941177, 0.84313726],\n",
       "         [0.8509804 , 0.8627451 , 0.80784315]],\n",
       "\n",
       "        ...,\n",
       "\n",
       "        [[0.00784314, 0.32941177, 0.4862745 ],\n",
       "         [0.972549  , 0.73333335, 0.3647059 ],\n",
       "         [0.8784314 , 0.78431374, 0.39607844],\n",
       "         ...,\n",
       "         [0.8666667 , 0.79607844, 1.        ],\n",
       "         [0.8039216 , 0.99607843, 0.6745098 ],\n",
       "         [0.7882353 , 0.8509804 , 0.56078434]],\n",
       "\n",
       "        [[0.10980392, 0.99607843, 0.36078432],\n",
       "         [0.85882354, 0.09803922, 0.58431375],\n",
       "         [0.6862745 , 0.2901961 , 0.92941177],\n",
       "         ...,\n",
       "         [0.26666668, 0.29803923, 0.1882353 ],\n",
       "         [0.4117647 , 0.88235295, 0.81960785],\n",
       "         [1.        , 0.68235296, 0.9254902 ]],\n",
       "\n",
       "        [[0.98039216, 0.87058824, 0.7176471 ],\n",
       "         [0.39607844, 0.1254902 , 0.17254902],\n",
       "         [0.9529412 , 0.92941177, 0.8117647 ],\n",
       "         ...,\n",
       "         [0.8235294 , 0.5372549 , 1.        ],\n",
       "         [0.972549  , 0.5294118 , 0.92941177],\n",
       "         [0.7921569 , 0.87058824, 0.28627452]]],\n",
       "\n",
       "\n",
       "       [[[1.        , 0.43137255, 0.9607843 ],\n",
       "         [0.98039216, 0.9490196 , 0.23921569],\n",
       "         [0.19607843, 0.64705884, 0.33333334],\n",
       "         ...,\n",
       "         [0.87058824, 0.6392157 , 0.9372549 ],\n",
       "         [0.78431374, 0.42352942, 0.85490197],\n",
       "         [0.9843137 , 0.7529412 , 0.14117648]],\n",
       "\n",
       "        [[0.99215686, 0.627451  , 0.8039216 ],\n",
       "         [0.93333334, 0.59607846, 0.9843137 ],\n",
       "         [0.9098039 , 0.972549  , 0.92941177],\n",
       "         ...,\n",
       "         [0.30980393, 0.99607843, 0.64705884],\n",
       "         [0.73333335, 0.52156866, 0.3372549 ],\n",
       "         [1.        , 0.10196079, 0.9254902 ]],\n",
       "\n",
       "        [[0.9372549 , 0.99607843, 0.7411765 ],\n",
       "         [0.78431374, 0.8       , 0.6627451 ],\n",
       "         [0.8392157 , 0.24705882, 0.46666667],\n",
       "         ...,\n",
       "         [0.81960785, 0.9098039 , 0.9647059 ],\n",
       "         [0.972549  , 0.6862745 , 0.60784316],\n",
       "         [0.9764706 , 0.9137255 , 0.0627451 ]],\n",
       "\n",
       "        ...,\n",
       "\n",
       "        [[0.972549  , 0.8862745 , 0.3254902 ],\n",
       "         [0.6901961 , 0.77254903, 0.9647059 ],\n",
       "         [0.827451  , 0.84705883, 0.8352941 ],\n",
       "         ...,\n",
       "         [0.85490197, 0.95686275, 0.8       ],\n",
       "         [1.        , 0.78431374, 0.09411765],\n",
       "         [0.65882355, 0.85882354, 0.85882354]],\n",
       "\n",
       "        [[1.        , 0.25882354, 0.98039216],\n",
       "         [0.99607843, 0.99607843, 0.63529414],\n",
       "         [0.6       , 0.05882353, 0.1764706 ],\n",
       "         ...,\n",
       "         [0.59607846, 0.57254905, 0.84705883],\n",
       "         [0.8352941 , 0.5294118 , 0.52156866],\n",
       "         [0.8392157 , 0.4745098 , 0.5294118 ]],\n",
       "\n",
       "        [[0.18039216, 0.96862745, 1.        ],\n",
       "         [0.5058824 , 0.53333336, 0.99215686],\n",
       "         [0.6039216 , 0.93333334, 0.9607843 ],\n",
       "         ...,\n",
       "         [0.09803922, 0.24313726, 0.2       ],\n",
       "         [0.61960787, 0.9607843 , 0.54509807],\n",
       "         [0.8509804 , 0.50980395, 0.15294118]]],\n",
       "\n",
       "\n",
       "       [[[0.85882354, 0.76862746, 0.34901962],\n",
       "         [0.9490196 , 0.6862745 , 1.        ],\n",
       "         [0.8       , 0.81960785, 0.20392157],\n",
       "         ...,\n",
       "         [1.        , 0.48235294, 0.94509804],\n",
       "         [0.09411765, 0.3529412 , 0.972549  ],\n",
       "         [0.6901961 , 0.5176471 , 0.8784314 ]],\n",
       "\n",
       "        [[0.78039217, 0.77254903, 0.7921569 ],\n",
       "         [0.9764706 , 0.8156863 , 0.0627451 ],\n",
       "         [0.42352942, 0.4745098 , 0.79607844],\n",
       "         ...,\n",
       "         [1.        , 0.04313726, 0.7529412 ],\n",
       "         [0.83137256, 0.88235295, 0.98039216],\n",
       "         [1.        , 0.8117647 , 0.8039216 ]],\n",
       "\n",
       "        [[0.85490197, 0.83137256, 0.7647059 ],\n",
       "         [0.92941177, 0.81960785, 0.07058824],\n",
       "         [0.9372549 , 0.99215686, 0.24313726],\n",
       "         ...,\n",
       "         [0.8352941 , 0.84313726, 0.15294118],\n",
       "         [0.5764706 , 0.32941177, 0.94509804],\n",
       "         [0.23137255, 1.        , 0.9411765 ]],\n",
       "\n",
       "        ...,\n",
       "\n",
       "        [[0.99215686, 0.78039217, 0.2       ],\n",
       "         [0.43529412, 0.8039216 , 0.36078432],\n",
       "         [0.6431373 , 0.09019608, 0.9764706 ],\n",
       "         ...,\n",
       "         [0.8666667 , 0.98039216, 0.98039216],\n",
       "         [0.84705883, 0.99607843, 0.5294118 ],\n",
       "         [0.99607843, 0.5529412 , 0.13725491]],\n",
       "\n",
       "        [[0.5921569 , 0.77254903, 0.9764706 ],\n",
       "         [0.8       , 0.8392157 , 0.7921569 ],\n",
       "         [1.        , 0.3529412 , 0.15686275],\n",
       "         ...,\n",
       "         [0.85882354, 0.99215686, 0.45490196],\n",
       "         [0.09411765, 0.17254902, 0.9372549 ],\n",
       "         [0.15294118, 0.88235295, 0.19215687]],\n",
       "\n",
       "        [[0.        , 0.89411765, 0.63529414],\n",
       "         [0.9137255 , 0.11764706, 0.87058824],\n",
       "         [0.37254903, 0.18431373, 0.8       ],\n",
       "         ...,\n",
       "         [0.69411767, 0.08235294, 0.10980392],\n",
       "         [0.8156863 , 0.93333334, 0.8156863 ],\n",
       "         [0.01568628, 0.10196079, 0.12156863]]],\n",
       "\n",
       "\n",
       "       ...,\n",
       "\n",
       "\n",
       "       [[[0.        , 0.7607843 , 0.59607846],\n",
       "         [0.6627451 , 0.9490196 , 0.48235294],\n",
       "         [0.08627451, 0.92941177, 0.99215686],\n",
       "         ...,\n",
       "         [0.90588236, 0.827451  , 0.3529412 ],\n",
       "         [1.        , 0.93333334, 0.92156863],\n",
       "         [0.9137255 , 0.8235294 , 0.9647059 ]],\n",
       "\n",
       "        [[0.81960785, 0.26666668, 0.21568628],\n",
       "         [0.20392157, 0.99215686, 0.0627451 ],\n",
       "         [0.8       , 0.9137255 , 0.10196079],\n",
       "         ...,\n",
       "         [0.4862745 , 0.59607846, 0.6039216 ],\n",
       "         [0.84705883, 0.7764706 , 0.2       ],\n",
       "         [0.85490197, 0.8627451 , 0.0627451 ]],\n",
       "\n",
       "        [[0.6862745 , 0.43137255, 0.9254902 ],\n",
       "         [0.4       , 0.8509804 , 0.6392157 ],\n",
       "         [0.57254905, 0.7882353 , 0.9843137 ],\n",
       "         ...,\n",
       "         [0.12941177, 0.64705884, 0.52156866],\n",
       "         [0.11372549, 0.9254902 , 0.5411765 ],\n",
       "         [0.09019608, 0.9019608 , 0.49803922]],\n",
       "\n",
       "        ...,\n",
       "\n",
       "        [[0.99607843, 0.9647059 , 0.95686275],\n",
       "         [0.21960784, 0.38039216, 0.4745098 ],\n",
       "         [0.68235296, 0.1254902 , 0.15294118],\n",
       "         ...,\n",
       "         [0.85490197, 0.4509804 , 0.9137255 ],\n",
       "         [0.19607843, 0.40392157, 0.06666667],\n",
       "         [0.80784315, 0.6901961 , 0.84705883]],\n",
       "\n",
       "        [[1.        , 1.        , 0.57254905],\n",
       "         [0.972549  , 0.78431374, 0.4862745 ],\n",
       "         [0.09411765, 0.98039216, 0.83137256],\n",
       "         ...,\n",
       "         [0.85490197, 0.3019608 , 0.9607843 ],\n",
       "         [0.5254902 , 0.7607843 , 0.19607843],\n",
       "         [0.84313726, 0.9764706 , 0.7137255 ]],\n",
       "\n",
       "        [[0.48235294, 0.9098039 , 0.7764706 ],\n",
       "         [0.3647059 , 0.50980395, 0.07450981],\n",
       "         [1.        , 0.7490196 , 0.22352941],\n",
       "         ...,\n",
       "         [0.9843137 , 0.90588236, 0.9411765 ],\n",
       "         [0.6745098 , 0.9764706 , 0.26666668],\n",
       "         [0.        , 1.        , 0.827451  ]]],\n",
       "\n",
       "\n",
       "       [[[0.88235295, 0.89411765, 0.18039216],\n",
       "         [0.3647059 , 0.5568628 , 0.3137255 ],\n",
       "         [1.        , 0.3647059 , 0.37254903],\n",
       "         ...,\n",
       "         [0.2627451 , 0.99607843, 0.8666667 ],\n",
       "         [1.        , 0.9254902 , 0.827451  ],\n",
       "         [0.972549  , 0.96862745, 0.9529412 ]],\n",
       "\n",
       "        [[0.        , 0.8745098 , 1.        ],\n",
       "         [0.45490196, 0.09803922, 0.59607846],\n",
       "         [0.8509804 , 0.2901961 , 0.84705883],\n",
       "         ...,\n",
       "         [0.36078432, 0.3647059 , 0.8117647 ],\n",
       "         [0.10980392, 0.03921569, 0.20392157],\n",
       "         [0.85490197, 0.70980394, 0.9529412 ]],\n",
       "\n",
       "        [[0.99607843, 1.        , 0.05882353],\n",
       "         [0.3254902 , 0.8627451 , 0.9607843 ],\n",
       "         [0.38039216, 0.63529414, 0.90588236],\n",
       "         ...,\n",
       "         [0.5372549 , 1.        , 0.41568628],\n",
       "         [0.9137255 , 0.23529412, 0.92156863],\n",
       "         [0.76862746, 0.9607843 , 0.5372549 ]],\n",
       "\n",
       "        ...,\n",
       "\n",
       "        [[0.25490198, 0.27450982, 0.59607846],\n",
       "         [0.627451  , 0.8       , 0.4862745 ],\n",
       "         [1.        , 0.5372549 , 0.99215686],\n",
       "         ...,\n",
       "         [1.        , 0.84313726, 0.47058824],\n",
       "         [0.9607843 , 0.81960785, 0.9490196 ],\n",
       "         [0.02745098, 0.20392157, 0.9764706 ]],\n",
       "\n",
       "        [[1.        , 0.7372549 , 0.16078432],\n",
       "         [0.6745098 , 0.8156863 , 0.99215686],\n",
       "         [1.        , 1.        , 0.46666667],\n",
       "         ...,\n",
       "         [0.09803922, 0.68235296, 0.7254902 ],\n",
       "         [0.8862745 , 0.91764706, 0.01568628],\n",
       "         [0.01960784, 0.99607843, 0.20392157]],\n",
       "\n",
       "        [[1.        , 0.50980395, 0.99215686],\n",
       "         [0.21960784, 0.92156863, 0.7921569 ],\n",
       "         [0.6431373 , 0.60784316, 0.27450982],\n",
       "         ...,\n",
       "         [0.9882353 , 0.42352942, 0.9137255 ],\n",
       "         [0.94509804, 0.972549  , 0.46666667],\n",
       "         [0.9882353 , 0.8784314 , 0.08627451]]],\n",
       "\n",
       "\n",
       "       [[[0.8901961 , 0.70980394, 0.08235294],\n",
       "         [0.9843137 , 0.17254902, 0.8980392 ],\n",
       "         [0.9882353 , 0.9882353 , 0.26666668],\n",
       "         ...,\n",
       "         [0.10196079, 0.99607843, 0.20784314],\n",
       "         [0.9411765 , 0.9098039 , 0.18431373],\n",
       "         [0.87058824, 0.5686275 , 0.9843137 ]],\n",
       "\n",
       "        [[0.13333334, 0.8666667 , 0.78431374],\n",
       "         [0.6901961 , 0.31764707, 0.7058824 ],\n",
       "         [0.        , 0.76862746, 0.2901961 ],\n",
       "         ...,\n",
       "         [0.7607843 , 0.91764706, 1.        ],\n",
       "         [0.8745098 , 0.9372549 , 0.6       ],\n",
       "         [0.8901961 , 0.8117647 , 0.9647059 ]],\n",
       "\n",
       "        [[1.        , 0.8509804 , 0.26666668],\n",
       "         [0.9647059 , 0.7529412 , 0.2509804 ],\n",
       "         [0.04705882, 0.2       , 0.8745098 ],\n",
       "         ...,\n",
       "         [0.9843137 , 0.34509805, 0.99215686],\n",
       "         [0.92941177, 0.99215686, 0.99607843],\n",
       "         [0.5803922 , 0.30588236, 0.1764706 ]],\n",
       "\n",
       "        ...,\n",
       "\n",
       "        [[0.99215686, 0.8901961 , 0.9098039 ],\n",
       "         [0.99215686, 1.        , 0.98039216],\n",
       "         [0.8352941 , 0.07058824, 0.25882354],\n",
       "         ...,\n",
       "         [0.48235294, 0.92941177, 0.99215686],\n",
       "         [0.48235294, 0.6745098 , 0.23921569],\n",
       "         [0.99607843, 0.99607843, 0.12156863]],\n",
       "\n",
       "        [[0.5058824 , 0.972549  , 0.8627451 ],\n",
       "         [0.99607843, 0.54901963, 0.99215686],\n",
       "         [0.19607843, 0.18431373, 0.9647059 ],\n",
       "         ...,\n",
       "         [0.18431373, 0.32941177, 0.46666667],\n",
       "         [0.58431375, 0.7529412 , 0.39215687],\n",
       "         [0.01176471, 0.85490197, 0.03921569]],\n",
       "\n",
       "        [[0.7607843 , 0.27450982, 0.99215686],\n",
       "         [0.9137255 , 0.8235294 , 0.9529412 ],\n",
       "         [0.5568628 , 0.99215686, 0.3372549 ],\n",
       "         ...,\n",
       "         [0.22745098, 0.8627451 , 0.8509804 ],\n",
       "         [1.        , 0.8509804 , 0.99215686],\n",
       "         [0.9882353 , 0.73333335, 0.9843137 ]]]], dtype=float32)"
      ]
     },
     "execution_count": 60,
     "metadata": {},
     "output_type": "execute_result"
    }
   ],
   "source": [
    "combined_array = np.stack(sample1990_list, axis=0)\n",
    "combined_array"
   ]
  },
  {
   "cell_type": "code",
   "execution_count": 61,
   "id": "4e25527f-407c-480b-b17c-f418f5540b18",
   "metadata": {},
   "outputs": [
    {
     "data": {
      "text/plain": [
       "(300, 48, 48, 3)"
      ]
     },
     "execution_count": 61,
     "metadata": {},
     "output_type": "execute_result"
    }
   ],
   "source": [
    "combined_array.shape"
   ]
  },
  {
   "cell_type": "markdown",
   "id": "3f04e0c6-232c-4839-b361-e5e517496d8f",
   "metadata": {},
   "source": [
    "#### 평균"
   ]
  },
  {
   "cell_type": "code",
   "execution_count": 62,
   "id": "cb15b80f-18a4-48ab-ad15-67fa4e3a2b60",
   "metadata": {},
   "outputs": [],
   "source": [
    "mean_90=np.mean(combined_array, axis=0)"
   ]
  },
  {
   "cell_type": "code",
   "execution_count": 63,
   "id": "e7b84b31-d9dd-4893-b757-eb8cfb22fcc1",
   "metadata": {},
   "outputs": [
    {
     "data": {
      "image/png": "[encoded data removed]",
      "text/plain": [
       "<Figure size 640x480 with 1 Axes>"
      ]
     },
     "metadata": {},
     "output_type": "display_data"
    }
   ],
   "source": [
    "plt.imshow(mean_90)\n",
    "plt.show()"
   ]
  },
  {
   "cell_type": "markdown",
   "id": "20dc90cf-5d67-47f8-bb70-e8c30d1ba5e8",
   "metadata": {},
   "source": [
    "#### 최빈값"
   ]
  },
  {
   "cell_type": "code",
   "execution_count": 68,
   "id": "af2634ed-ba29-4b13-84c1-57f165ed3da4",
   "metadata": {},
   "outputs": [],
   "source": [
    "mode_array = stats.mode(combined_array, axis=0)"
   ]
  },
  {
   "cell_type": "code",
   "execution_count": 75,
   "id": "72074c71-29db-4692-86f9-e6bc8e180443",
   "metadata": {},
   "outputs": [],
   "source": [
    "mode_array = mode_array.mode.reshape(48,48,3)"
   ]
  },
  {
   "cell_type": "code",
   "execution_count": 76,
   "id": "b3a7a3f0-9543-49bc-ade2-958429b41d2c",
   "metadata": {},
   "outputs": [
    {
     "data": {
      "image/png": "[encoded data removed]",
      "text/plain": [
       "<Figure size 640x480 with 1 Axes>"
      ]
     },
     "metadata": {},
     "output_type": "display_data"
    }
   ],
   "source": [
    "plt.imshow(mode_array)\n",
    "plt.show()"
   ]
  },
  {
   "cell_type": "markdown",
   "id": "250b17a8-413e-4836-92e9-25fa90c38c4c",
   "metadata": {},
   "source": [
    "#### 중앙값"
   ]
  },
  {
   "cell_type": "code",
   "execution_count": 77,
   "id": "08392e55-cfc5-47d7-9373-320264d991bd",
   "metadata": {},
   "outputs": [],
   "source": [
    "median_array = np.median(combined_array, axis=0)"
   ]
  },
  {
   "cell_type": "code",
   "execution_count": 78,
   "id": "387f180f-1f9c-4eef-baca-43adcd30aa02",
   "metadata": {},
   "outputs": [
    {
     "data": {
      "image/png": "[encoded data removed]",
      "text/plain": [
       "<Figure size 640x480 with 1 Axes>"
      ]
     },
     "metadata": {},
     "output_type": "display_data"
    }
   ],
   "source": [
    "plt.imshow(median_array)\n",
    "plt.show()"
   ]
  },
  {
   "cell_type": "markdown",
   "id": "f02ef9f5-2e20-446c-b6e0-36c856c7306a",
   "metadata": {},
   "source": [
    "이미지 생성 안될것 같음, 딥러닝기법 필요해보임"
   ]
  },
  {
   "cell_type": "code",
   "execution_count": null,
   "id": "c4462288-3ad7-4c94-8074-f17e8dc5e670",
   "metadata": {},
   "outputs": [],
   "source": []
  }
 ],
 "metadata": {
  "kernelspec": {
   "display_name": "Python 3 (ipykernel)",
   "language": "python",
   "name": "python3"
  },
  "language_info": {
   "codemirror_mode": {
    "name": "ipython",
    "version": 3
   },
   "file_extension": ".py",
   "mimetype": "text/x-python",
   "name": "python",
   "nbconvert_exporter": "python",
   "pygments_lexer": "ipython3",
   "version": "3.9.12"
  }
 },
 "nbformat": 4,
 "nbformat_minor": 5
}
